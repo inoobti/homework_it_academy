{
 "cells": [
  {
   "cell_type": "markdown",
   "metadata": {
    "collapsed": false,
    "jupyter": {
     "outputs_hidden": false
    },
    "pycharm": {
     "name": "#%% md\n"
    }
   },
   "source": [
    "### По стандарту импортируем все необходимые модули и библиотки для решения задачи Seq2Seq для задачи машинного перевода:"
   ]
  },
  {
   "cell_type": "code",
   "execution_count": 2,
   "metadata": {
    "colab": {},
    "colab_type": "code",
    "id": "MIEGXF8oM9tt",
    "pycharm": {
     "name": "#%%\n"
    }
   },
   "outputs": [],
   "source": [
    "from io import open\n",
    "import unicodedata\n",
    "import string\n",
    "import re\n",
    "import random\n",
    "import torch\n",
    "import torch.nn as nn\n",
    "from torch import optim\n",
    "import torch.nn.functional as F\n",
    "import warnings\n",
    "\n",
    "warnings.filterwarnings(\"ignore\")\n",
    "device = torch.device(\"cuda\" if torch.cuda.is_available() else \"cpu\")"
   ]
  },
  {
   "cell_type": "markdown",
   "metadata": {
    "collapsed": false,
    "jupyter": {
     "outputs_hidden": false
    },
    "pycharm": {
     "name": "#%% md\n"
    }
   },
   "source": [
    "#### Постановка задачи:\n",
    "----\n",
    "\n",
    "Задача - научить RNNs переводить предложения с одного языка на другой язык. Корпус текстовых данных лежит в директории ./data/\n",
    "Пока нам понадобиться только файл eng-fra.txt для того чтобы научить модель переводить с EN на FR язык.\n",
    "Структура файла - обычный текстовой файл, состоящий из строк, где каждая строка 1 предложение на исходном языке (EN) Затем знак табуляции \\t и предложение на целевом языке и так несколько строк в файле.\n",
    "Нам необходимо сформировать искусственно класс словаря, провести кодировку последовательности и сформировать датасет."
   ]
  },
  {
   "cell_type": "markdown",
   "metadata": {
    "collapsed": false,
    "jupyter": {
     "outputs_hidden": false
    },
    "pycharm": {
     "name": "#%% md\n"
    }
   },
   "source": [
    "## 1. Подготовим данные:"
   ]
  },
  {
   "cell_type": "code",
   "execution_count": 5,
   "metadata": {
    "colab": {},
    "colab_type": "code",
    "id": "kyNnJyruM9t1",
    "pycharm": {
     "name": "#%%\n"
    }
   },
   "outputs": [],
   "source": [
    "# Определим по умолчанию 2 токена которые будут нам информировать о начале предложения и конце предложения (SOS и EOS):\n",
    "SOS_token = 0\n",
    "EOS_token = 1\n",
    "\n",
    "# Создадим объект словаря нашего языка, который будет хранить данные по маппингу слов - index2word и обратно word2index и плюс второстепенные методы по добавлению токена и обработке предложений:\n",
    "class LanguageVocabulary(object):\n",
    "    def __init__(self, name):\n",
    "        # название языка\n",
    "        self.name = name\n",
    "        # словарик word2index который хранит соответственно кодировку слова в целочисленный индекс словаря\n",
    "        self.word2index = {}\n",
    "        # обычный словарик который хранит распределение слов, сколько слов мы использовали и сколько обнаружили\n",
    "        self.word2count = {}\n",
    "        # Обратный словарик словарю word2index где хранятся уже индексы и замаппенные слова к каждому индексу, нужен будет для расшифровки последовательности\n",
    "        self.index2word = {0: \"SOS\", 1: \"EOS\"}\n",
    "        # Count SOS and EOS, храним просто общее количество слов в нашем словаре, то есть количество токенов в сформированном словарике нашего языка\n",
    "        self.n_words = 2\n",
    "\n",
    "    def add_sentence(self, sentence):\n",
    "        \"\"\"\n",
    "        Метод класса, для добавления предложения в словарь.\n",
    "        Каждое предложение поступающее к нам, будет разбираться на\n",
    "        примитивные токены и добавляться в словарь при помощи метода класса addword()\n",
    "        \"\"\"\n",
    "        for word in sentence.split(' '):\n",
    "            self.add_word(word)\n",
    "\n",
    "\n",
    "    def add_word(self, word):\n",
    "        # проверяем не входит ли наше слово в словарь word2index\n",
    "        if word not in self.word2index:\n",
    "            # добавляем в качестве ключа слово а в качестве значения последнее n_words\n",
    "            self.word2index[word] = self.n_words\n",
    "            # меняем на единичку\n",
    "            self.word2count[word] = 1\n",
    "            # и соответственно меняем и index2word словарик добавляя уже слово для декодирования\n",
    "            self.index2word[self.n_words] = word\n",
    "            # инкрементируем n_words\n",
    "            self.n_words += 1\n",
    "        else:\n",
    "            # Если такое уже слово есть просто добавляем 1 что добавилось одно слово\n",
    "            self.word2count[word] += 1"
   ]
  },
  {
   "cell_type": "markdown",
   "metadata": {
    "collapsed": false,
    "jupyter": {
     "outputs_hidden": false
    },
    "pycharm": {
     "name": "#%% md\n"
    }
   },
   "source": [
    "##### Класс словарика построили, теперь надо подумать как обработать последовательность текста. Создадим 2 фукнции uncode_to_ascii() и normalize_string(). Как мы помним из специфики работы Python, питоновский интерпретатор представляет строку в виде юникод кодировки, что неудобно. Необходимо перевести все в кодировку стандарта ASCII (FYI для разных языков, разный подход, прежде чем приступать к раскодировке из одного языка в другой, поищите информацию о представлении языка в памяти компьютера, например для Китайского, Японского, Иврита, Арабского и прочих языков есть своя определенная специфика). Обычно все насущные вопросы уже кем-то были решены и все решается просто поиском ответа на stackoverflow как я и сделал ниже:"
   ]
  },
  {
   "cell_type": "code",
   "execution_count": 7,
   "metadata": {
    "colab": {},
    "colab_type": "code",
    "id": "FXKs8j4bM9t6",
    "pycharm": {
     "name": "#%%\n"
    }
   },
   "outputs": [],
   "source": [
    "# Turn a Unicode string to plain ASCII, thanks to\n",
    "# http://stackoverflow.com/a/518232/2809427\n",
    "def unicode_to_ascii(s):\n",
    "    return ''.join(\n",
    "        c for c in unicodedata.normalize('NFD', s)\n",
    "        if unicodedata.category(c) != 'Mn'\n",
    "    )\n",
    "\n",
    "# Lowercase, trim, and remove non-letter characters\n",
    "def normalize_string(s):\n",
    "    # Декодируем из юникода в ascii\n",
    "    s = unicode_to_ascii(s.lower().strip())\n",
    "    # Что означает данное регулярное выражение - точку, !, ? меняем на пробел чтобы этот символ стоял отдельно от всех\n",
    "    # https://docs.python.org/3/library/re.html - стандартная (родная) библиотка Python которая нужна для работы с регулярными выражениями\n",
    "    s = re.sub(r\"([.!?])\", r\" \\1\", s)\n",
    "    # оставляем только наборы символов указанных в паттерне регулярного выражения остальное заменим на пробел\n",
    "    s = re.sub(r\"[^a-zA-Zа-яА-Я.!?]+\", r\" \", s)\n",
    "    return s"
   ]
  },
  {
   "cell_type": "markdown",
   "metadata": {
    "collapsed": false,
    "jupyter": {
     "outputs_hidden": false
    },
    "pycharm": {
     "name": "#%% md\n"
    }
   },
   "source": [
    "##### Создадим функцию которая будет просто открывать наши документы корпуса и создавать словарик:"
   ]
  },
  {
   "cell_type": "code",
   "execution_count": 9,
   "metadata": {
    "colab": {},
    "colab_type": "code",
    "id": "D8T4VxZeM9t-",
    "pycharm": {
     "name": "#%%\n"
    }
   },
   "outputs": [],
   "source": [
    "def read_languages(lang1, lang2, reverse=False):\n",
    "    print(\"Reading lines...\")\n",
    "    # Берем документ корпуса, лежащий в директории ./data/___.txt подставляя значения указанных языков в нашем случае eng-fra, он читается бьется на предложения\n",
    "    # lines = open('./data/%s-%s.txt' % (lang1, lang2), encoding='utf-8').read().strip().split('\\n')\n",
    "    with open('./data/%s-%s.txt' % (lang1, lang2), mode='r', encoding='UTF8') as f:\n",
    "        lines = f.read().split('\\n')\n",
    "        lines = lines[:-2]\n",
    "\n",
    "    # Разбиваем построчно и нормализуем строку:\n",
    "    pairs = [[normalize_string(s) for s in l.split('\\t')] for l in lines]\n",
    "    # Можем создавать и проходить как с целевого языка на исходный так и наоборот:\n",
    "    if reverse:\n",
    "        pairs = [list(reversed(p)) for p in pairs]\n",
    "        input_lang = LanguageVocabulary(lang2)\n",
    "        output_lang = LanguageVocabulary(lang1)\n",
    "    else:\n",
    "        input_lang = LanguageVocabulary(lang1)\n",
    "        output_lang = LanguageVocabulary(lang2)\n",
    "    return input_lang, output_lang, pairs"
   ]
  },
  {
   "cell_type": "markdown",
   "metadata": {
    "collapsed": false,
    "jupyter": {
     "outputs_hidden": false
    },
    "pycharm": {
     "name": "#%% md\n"
    }
   },
   "source": [
    "##### Чтобы немного упростить задачу и соответственно время на ее решение, для упрощения мы просто возьмем и отберем часть предложений которые будут начинаться на биграммы указанные в eng_prefixes и соответсвенно ограничим длину предложения документа 10-ю символами:"
   ]
  },
  {
   "cell_type": "code",
   "execution_count": 11,
   "metadata": {
    "colab": {},
    "colab_type": "code",
    "id": "eBOwgEBdM9uB",
    "pycharm": {
     "name": "#%%\n"
    }
   },
   "outputs": [],
   "source": [
    "MAX_LENGTH = 10\n",
    "# eng_prefixes = (\n",
    "#     \"i am \", \"i m \",\n",
    "#     \"he is\", \"he s \",\n",
    "#     \"she is\", \"she s\",\n",
    "#     \"you are\", \"you re \",\n",
    "#     \"we are\", \"we re \",\n",
    "#     \"they are\", \"they re \"\n",
    "# )\n",
    "\n",
    "def filter_pair(p):\n",
    "    return len(p[0].split(' ')) < MAX_LENGTH and len(p[1].split(' ')) < MAX_LENGTH and p[1].startswith(eng_prefixes)\n",
    "\n",
    "def filter_pairs(pairs):\n",
    "    return [pair for pair in pairs if filter_pair(pair)]"
   ]
  },
  {
   "cell_type": "code",
   "execution_count": 12,
   "metadata": {},
   "outputs": [],
   "source": [
    "MAX_LENGTH = 20\n",
    "\n",
    "def filter_pair(p):\n",
    "    return len(p[0].split(' ')) < MAX_LENGTH and len(p[1].split(' ')) < MAX_LENGTH\n",
    "\n",
    "def filter_pairs(pairs):\n",
    "    return [pair for pair in pairs if filter_pair(pair)]"
   ]
  },
  {
   "cell_type": "markdown",
   "metadata": {
    "collapsed": false,
    "jupyter": {
     "outputs_hidden": false
    },
    "pycharm": {
     "name": "#%% md\n"
    }
   },
   "source": [
    "#### Создадим функцию которая будет возвращать нам уже данные:"
   ]
  },
  {
   "cell_type": "code",
   "execution_count": 14,
   "metadata": {
    "colab": {
     "base_uri": "https://localhost:8080/",
     "height": 178
    },
    "colab_type": "code",
    "id": "6dZOGjd5M9uE",
    "outputId": "0cdd3a7f-2ac8-4872-8a81-6101d0bdd0a9",
    "pycharm": {
     "name": "#%%\n"
    }
   },
   "outputs": [],
   "source": [
    "def prepare_data(lang1, lang2, reverse=False):\n",
    "    input_lang, output_lang, pairs = read_languages(lang1, lang2, reverse)\n",
    "    print(\"Read %s sentence pairs\" % len(pairs))\n",
    "    pairs = filter_pairs(pairs)\n",
    "    print(\"Trimmed to %s sentence pairs\" % len(pairs))\n",
    "    print(\"Counting words...\")\n",
    "    for pair in pairs:\n",
    "        input_lang.add_sentence(pair[0])\n",
    "        output_lang.add_sentence(pair[1])\n",
    "    print(\"Counted words:\")\n",
    "    print(input_lang.name, input_lang.n_words)\n",
    "    print(output_lang.name, output_lang.n_words)\n",
    "    return input_lang, output_lang, pairs"
   ]
  },
  {
   "cell_type": "code",
   "execution_count": 15,
   "metadata": {
    "collapsed": false,
    "jupyter": {
     "outputs_hidden": false
    },
    "pycharm": {
     "name": "#%%\n"
    }
   },
   "outputs": [
    {
     "name": "stdout",
     "output_type": "stream",
     "text": [
      "Reading lines...\n",
      "Read 496059 sentence pairs\n",
      "Trimmed to 495426 sentence pairs\n",
      "Counting words...\n",
      "Counted words:\n",
      "rus 58492\n",
      "eng 17158\n",
      "['не стоит тебе пить .', 'you shouldn t be drinking .']\n"
     ]
    }
   ],
   "source": [
    "input_lang, output_lang, pairs = prepare_data('eng', 'rus', True)\n",
    "print(random.choice(pairs))"
   ]
  },
  {
   "cell_type": "markdown",
   "metadata": {
    "colab_type": "text",
    "id": "vgtWqznCM9uH",
    "pycharm": {
     "name": "#%% md\n"
    }
   },
   "source": [
    "# 2. Построим  Encoder\n",
    "-----------\n"
   ]
  },
  {
   "cell_type": "code",
   "execution_count": 17,
   "metadata": {
    "colab": {},
    "colab_type": "code",
    "id": "m9vm9QBWM9uI",
    "pycharm": {
     "name": "#%%\n"
    }
   },
   "outputs": [],
   "source": [
    "class EncoderRNN(nn.Module):\n",
    "    def __init__(self, input_size, hidden_size):\n",
    "        super(EncoderRNN, self).__init__()\n",
    "        # Как помним hidden_size - размер скрытого состояния\n",
    "        self.hidden_size = hidden_size\n",
    "        # Слой Эмбеддингов, который из входного вектора последовательности (либо батча) отдаст представление последовательности для скрытого состояния\n",
    "        # FYI: в качестве Input_size у нас размер словаря\n",
    "        self.embedding = nn.Embedding(input_size, hidden_size)\n",
    "        # И соответственно рекуррентная ячейка GRU которая принимает MxM (hidden на hidden)\n",
    "        self.gru = nn.GRU(hidden_size, hidden_size)\n",
    "\n",
    "    def forward(self, input, hidden):\n",
    "        # Приводим эмбеддинг к формату одного предлоежния 1х1 и любая размерность\n",
    "        embedded = self.embedding(input).view(1, 1, -1)\n",
    "        # Нужно для следующего шага пока не запутываемся :) просто присвоили наш эмбеддинг\n",
    "        output = embedded\n",
    "        # и соответственно подаем все в GRU ячейку (эмбеддинг и скрытые состояния)\n",
    "        output, hidden = self.gru(output, hidden)\n",
    "        return output, hidden\n",
    "\n",
    "    def initHidden(self):\n",
    "        # Дополнительно сделаем инициализацию скрытого представления (просто заполним нулями)\n",
    "        return torch.zeros(1, 1, self.hidden_size, device=device)"
   ]
  },
  {
   "cell_type": "markdown",
   "metadata": {
    "colab_type": "text",
    "id": "FwLTlgSyM9uK",
    "pycharm": {
     "name": "#%% md\n"
    }
   },
   "source": [
    "# 3. Построим  Decoder\n",
    "-----------\n"
   ]
  },
  {
   "cell_type": "code",
   "execution_count": 19,
   "metadata": {
    "colab": {},
    "colab_type": "code",
    "id": "PFbuUL1LM9uL",
    "pycharm": {
     "name": "#%%\n"
    }
   },
   "outputs": [],
   "source": [
    "class DecoderRNN(nn.Module):\n",
    "    # Будьте внимательны, теперь на вход мы получаем размер скрытого представления\n",
    "    def __init__(self, hidden_size, output_size):\n",
    "        super(DecoderRNN, self).__init__()\n",
    "        self.hidden_size = hidden_size\n",
    "        # Слой эмбеддингов - рамер словаря, размер скрытого представления\n",
    "        self.embedding = nn.Embedding(output_size, hidden_size)\n",
    "        # GRU скрытое состояние на скрытое\n",
    "        self.gru = nn.GRU(hidden_size, hidden_size)\n",
    "        # Переводим hidden size в распределение для этого передаем в линейный слов скрытое состояни и размер словаря\n",
    "        self.out = nn.Linear(hidden_size, output_size)\n",
    "        # Получаем распределение верояностей\n",
    "        self.softmax = nn.LogSoftmax(dim=1)\n",
    "\n",
    "    def forward(self, input, hidden):\n",
    "        output = self.embedding(input).view(1, 1, -1)\n",
    "        output = F.relu(output)\n",
    "        output, hidden = self.gru(output, hidden)\n",
    "        output = self.softmax(self.out(output[0])) # берем output по нулевому индексу (одно предложение)\n",
    "        return output, hidden\n",
    "\n",
    "    def initHidden(self):\n",
    "        return torch.zeros(1, 1, self.hidden_size, device=device)"
   ]
  },
  {
   "cell_type": "markdown",
   "metadata": {
    "collapsed": false,
    "jupyter": {
     "outputs_hidden": false
    },
    "pycharm": {
     "name": "#%% md\n"
    }
   },
   "source": [
    "# 4. Создадим вспомогательные функции для работы с полученной репрезентацией и для кодирования для подачи в модель:"
   ]
  },
  {
   "cell_type": "code",
   "execution_count": 21,
   "metadata": {
    "colab": {},
    "colab_type": "code",
    "id": "z6gGPtXFM9uQ",
    "pycharm": {
     "name": "#%%\n"
    }
   },
   "outputs": [],
   "source": [
    "# Токены кодируем в целочисленное представление\n",
    "def indexesFromSentence(lang, sentence):\n",
    "    return [lang.word2index[word] for word in sentence.split(' ')]\n",
    "\n",
    "\n",
    "# Берем предложение с указанным языком, делаем из него индексы и вставляем метку конца предложения, превращаем в тензор:\n",
    "def tensorFromSentence(lang, sentence):\n",
    "    indexes = indexesFromSentence(lang, sentence)\n",
    "    indexes.append(EOS_token)\n",
    "    return torch.tensor(indexes, dtype=torch.long, device=device).view(-1, 1)\n",
    "\n",
    "# Для создания тензора из пар:\n",
    "def tensorsFromPair(pair):\n",
    "    input_tensor = tensorFromSentence(input_lang, pair[0])\n",
    "    target_tensor = tensorFromSentence(output_lang, pair[1])\n",
    "    return (input_tensor, target_tensor)"
   ]
  },
  {
   "cell_type": "markdown",
   "metadata": {
    "collapsed": false,
    "jupyter": {
     "outputs_hidden": false
    },
    "pycharm": {
     "name": "#%% md\n"
    }
   },
   "source": [
    "# 5. Создадим функцию обучения для работы только с ОДНОЙ парой:"
   ]
  },
  {
   "cell_type": "code",
   "execution_count": 23,
   "metadata": {
    "colab": {},
    "colab_type": "code",
    "id": "8Fn8VDv8M9uS",
    "pycharm": {
     "name": "#%%\n"
    }
   },
   "outputs": [],
   "source": [
    "teacher_forcing_ratio = 0.5\n",
    "\n",
    "\n",
    "def train(input_tensor, target_tensor, encoder, decoder, encoder_optimizer, decoder_optimizer, criterion, max_length=MAX_LENGTH):\n",
    "    # Просто инициализируем скрытое представление для энкодера\n",
    "    encoder_hidden = encoder.initHidden()\n",
    "    # Скиыдваем градиенты для алгоритма градиентного спуска как и у энкодера так и у дэкодера\n",
    "    encoder_optimizer.zero_grad()\n",
    "    decoder_optimizer.zero_grad()\n",
    "    # Получаем размер в словаря (токенов) для входящего и выходящего тензора так как мы пробегаемся по каждому предложению по кусочкам\n",
    "    input_length = input_tensor.size(0)\n",
    "    target_length = target_tensor.size(0)\n",
    "    # Создаем переменную где будем хранить наши выходы из энкодера (в данной реализации пока не юзаем, далее будет еще один вариант)\n",
    "    encoder_outputs = torch.zeros(max_length, encoder.hidden_size, device=device)\n",
    "    loss = 0\n",
    "    # пробегаем по длине входящего тензора и в экодер передаем последовательно каждый из токенов:\n",
    "    for ei in range(input_length):\n",
    "        encoder_output, encoder_hidden = encoder(input_tensor[ei], encoder_hidden)\n",
    "        # Сохраняем все выходы из энкодера для одного слова\n",
    "        encoder_outputs[ei] = encoder_output[0, 0]\n",
    "\n",
    "\n",
    "    # Закончили с энкодером пошли к декодеру, как было сказано декодер начинается с SOS\n",
    "    decoder_input = torch.tensor([[SOS_token]], device=device)\n",
    "    # FYI здесь мы скрытое представление из энкодера передаем в скрытое представление в декодер, то есть после знака =\n",
    "    # у нас будут ходить градиенты из декодера в энкодер, то есть когда мы будем считать градиенты, они сначала пробегут по декодеру\n",
    "    # дойдут до знака = перескочат в энкодер и будут дальше считаться по энкодеру и эти градиенты сохранятся в соответствующих тензорах\n",
    "    # и когда будут отрабатывать разные оптимайзеры (у нас их 2) у них будут соответствующие правильные градиенты которые смогут правильно отработать\n",
    "    decoder_hidden = encoder_hidden\n",
    "\n",
    "    # Будем использовать Teacher Forcing в части случае (подставляя правильную последовательность)\n",
    "    use_teacher_forcing = True if random.random() < teacher_forcing_ratio else False\n",
    "    if use_teacher_forcing:\n",
    "        # Подаем decoder_input = torch.tensor([[SOS_token]], device=device) то есть по одному слову и скрытое представление\n",
    "        for di in range(target_length):\n",
    "            # Переведенное предложение и скрытое представление\n",
    "            decoder_output, decoder_hidden = decoder(decoder_input, decoder_hidden)\n",
    "            # Считаем ошибку\n",
    "            loss += criterion(decoder_output, target_tensor[di])\n",
    "            decoder_input = target_tensor[di]  # Teacher forcing\n",
    "    else:\n",
    "        for di in range(target_length):\n",
    "            decoder_output, decoder_hidden = decoder(decoder_input, decoder_hidden)\n",
    "            topv, topi = decoder_output.topk(1)\n",
    "            decoder_input = topi.squeeze().detach()  # detach from history as input\n",
    "            loss += criterion(decoder_output, target_tensor[di])\n",
    "            if decoder_input.item() == EOS_token:\n",
    "                break\n",
    "    loss.backward()\n",
    "    encoder_optimizer.step()\n",
    "    decoder_optimizer.step()\n",
    "    return loss.item() / target_length"
   ]
  },
  {
   "cell_type": "markdown",
   "metadata": {
    "collapsed": false,
    "jupyter": {
     "outputs_hidden": false
    },
    "pycharm": {
     "name": "#%% md\n"
    }
   },
   "source": [
    "# 6. Просто красивые функции для засекания времени:"
   ]
  },
  {
   "cell_type": "code",
   "execution_count": 25,
   "metadata": {
    "colab": {},
    "colab_type": "code",
    "id": "EKsdwPmSM9uU",
    "pycharm": {
     "name": "#%%\n"
    }
   },
   "outputs": [],
   "source": [
    "import time\n",
    "import math\n",
    "\n",
    "\n",
    "def asMinutes(s):\n",
    "    m = math.floor(s / 60)\n",
    "    s -= m * 60\n",
    "    return '%dm %ds' % (m, s)\n",
    "\n",
    "\n",
    "def timeSince(since, percent):\n",
    "    now = time.time()\n",
    "    s = now - since\n",
    "    es = s / percent\n",
    "    rs = es - s\n",
    "    return '%s (- eta: %s)' % (asMinutes(s), asMinutes(rs))"
   ]
  },
  {
   "cell_type": "markdown",
   "metadata": {
    "collapsed": false,
    "jupyter": {
     "outputs_hidden": false
    },
    "pycharm": {
     "name": "#%% md\n"
    }
   },
   "source": [
    "# 7. Функция которая будет пробегаться по всем парам и использовать эти пары для обучения сети:"
   ]
  },
  {
   "cell_type": "code",
   "execution_count": 27,
   "metadata": {
    "colab": {},
    "colab_type": "code",
    "id": "C_z_k5IiM9uX",
    "pycharm": {
     "name": "#%%\n"
    }
   },
   "outputs": [],
   "source": [
    "def trainIters(encoder, decoder, n_iters, print_every=1000, plot_every=100, learning_rate=0.01):\n",
    "    start = time.time()\n",
    "    plot_losses = []\n",
    "    print_loss_total = 0  # Reset every print_every\n",
    "    plot_loss_total = 0  # Reset every plot_every\n",
    "\n",
    "    encoder_optimizer = optim.SGD(encoder.parameters(), lr=learning_rate)\n",
    "    decoder_optimizer = optim.SGD(decoder.parameters(), lr=learning_rate)\n",
    "    # Делаем выборку наших пар функцией которую создали до\n",
    "    training_pairs = [tensorsFromPair(random.choice(pairs)) for i in range(n_iters)]\n",
    "    # FYI! Используем Negative Log-Likelihood Loss потому что log softmax уже присутствует в модели\n",
    "    criterion = nn.NLLLoss()\n",
    "\n",
    "    for epoch in range(1, n_iters + 1):\n",
    "        training_pair = training_pairs[epoch - 1]\n",
    "        input_tensor = training_pair[0]\n",
    "        target_tensor = training_pair[1]\n",
    "        # Используем функцию для тренировки на отдельных токенах, которую написали выше\n",
    "        loss = train(input_tensor, target_tensor, encoder,\n",
    "                     decoder, encoder_optimizer, decoder_optimizer, criterion)\n",
    "        print_loss_total += loss\n",
    "        plot_loss_total += loss\n",
    "\n",
    "        if epoch % print_every == 0:\n",
    "            print_loss_avg = print_loss_total / print_every\n",
    "            print_loss_total = 0\n",
    "            print('%s (%d %d%%) %.4f' % (timeSince(start, epoch / n_iters),\n",
    "                                         epoch, epoch / n_iters * 100, print_loss_avg))\n",
    "\n",
    "        if epoch % plot_every == 0:\n",
    "            plot_loss_avg = plot_loss_total / plot_every\n",
    "            plot_losses.append(plot_loss_avg)\n",
    "            plot_loss_total = 0\n",
    "    showPlot(plot_losses)"
   ]
  },
  {
   "cell_type": "code",
   "execution_count": 28,
   "metadata": {
    "colab": {},
    "colab_type": "code",
    "id": "0JXG-RzCM9uZ",
    "pycharm": {
     "name": "#%%\n"
    }
   },
   "outputs": [],
   "source": [
    "import matplotlib.pyplot as plt\n",
    "import matplotlib.ticker as ticker\n",
    "plt.switch_backend('agg')\n",
    "\n",
    "\n",
    "def showPlot(points):\n",
    "    plt.figure()\n",
    "    fig, ax = plt.subplots()\n",
    "    loc = ticker.MultipleLocator(base=0.2)\n",
    "    ax.yaxis.set_major_locator(loc)\n",
    "    plt.plot(points)"
   ]
  },
  {
   "cell_type": "markdown",
   "metadata": {
    "collapsed": false,
    "jupyter": {
     "outputs_hidden": false
    },
    "pycharm": {
     "name": "#%% md\n"
    }
   },
   "source": [
    "# 8. Теперь построим функцию которая позволит нам использовать Encoder-Decoder для перевода предложения:"
   ]
  },
  {
   "cell_type": "code",
   "execution_count": 30,
   "metadata": {
    "colab": {},
    "colab_type": "code",
    "id": "3Bxf45h6M9ud",
    "pycharm": {
     "name": "#%%\n"
    }
   },
   "outputs": [],
   "source": [
    "def evaluate(encoder, decoder, sentence, max_length=MAX_LENGTH):\n",
    "    with torch.no_grad():\n",
    "        input_tensor = tensorFromSentence(input_lang, sentence)\n",
    "        input_length = input_tensor.size()[0]\n",
    "        encoder_hidden = encoder.initHidden()\n",
    "        encoder_outputs = torch.zeros(max_length, encoder.hidden_size, device=device)\n",
    "\n",
    "        for i in range(input_length):\n",
    "            encoder_output, encoder_hidden = encoder(input_tensor[i], encoder_hidden)\n",
    "            encoder_outputs[i] += encoder_output[0, 0]\n",
    "\n",
    "        decoder_input = torch.tensor([[SOS_token]], device=device)  # SOS\n",
    "        decoder_hidden = encoder_hidden\n",
    "        decoded_words = [] # Наши деокдированные слова\n",
    "\n",
    "        for di in range(max_length):\n",
    "            decoder_output, decoder_hidden = decoder(decoder_input, decoder_hidden)\n",
    "            topv, topi = decoder_output.data.topk(1)\n",
    "            if topi.item() == EOS_token:\n",
    "                decoded_words.append('<EOS>')\n",
    "                break\n",
    "            else:\n",
    "                decoded_words.append(output_lang.index2word[topi.item()])\n",
    "            decoder_input = topi.squeeze().detach()\n",
    "        return decoded_words"
   ]
  },
  {
   "cell_type": "code",
   "execution_count": 31,
   "metadata": {
    "colab": {},
    "colab_type": "code",
    "id": "1qUmQIGwM9uf",
    "pycharm": {
     "name": "#%%\n"
    }
   },
   "outputs": [],
   "source": [
    "def evaluateRandomly(encoder, decoder, n=10):\n",
    "    for i in range(n):\n",
    "        pair = random.choice(pairs)\n",
    "        print('>', pair[0])\n",
    "        print('=', pair[1])\n",
    "        output_words = evaluate(encoder, decoder, pair[0])\n",
    "        output_sentence = ' '.join(output_words)\n",
    "        print('<', output_sentence)\n",
    "        print('')"
   ]
  },
  {
   "cell_type": "markdown",
   "metadata": {
    "collapsed": false,
    "jupyter": {
     "outputs_hidden": false
    },
    "pycharm": {
     "name": "#%% md\n"
    }
   },
   "source": [
    "# 9. Этап обучения:"
   ]
  },
  {
   "cell_type": "code",
   "execution_count": 33,
   "metadata": {
    "colab": {
     "base_uri": "https://localhost:8080/",
     "height": 301
    },
    "colab_type": "code",
    "id": "s_56t10oM9uh",
    "outputId": "f456b0b8-fc35-4199-fb19-b45c2330bf72",
    "pycharm": {
     "name": "#%%\n"
    }
   },
   "outputs": [
    {
     "name": "stdout",
     "output_type": "stream",
     "text": [
      "9m 17s (- eta: 269m 34s) (5000 3%) 4.4485\n",
      "20m 6s (- eta: 281m 24s) (10000 6%) 3.9437\n",
      "32m 20s (- eta: 291m 5s) (15000 10%) 3.6666\n",
      "44m 44s (- eta: 290m 51s) (20000 13%) 3.4992\n",
      "56m 12s (- eta: 281m 4s) (25000 16%) 3.3804\n",
      "65m 40s (- eta: 262m 42s) (30000 20%) 3.1922\n",
      "75m 10s (- eta: 246m 59s) (35000 23%) 3.1530\n",
      "84m 12s (- eta: 231m 33s) (40000 26%) 3.0401\n",
      "93m 53s (- eta: 219m 4s) (45000 30%) 3.0080\n",
      "103m 29s (- eta: 206m 58s) (50000 33%) 2.9288\n",
      "113m 3s (- eta: 195m 17s) (55000 36%) 2.8683\n",
      "122m 41s (- eta: 184m 1s) (60000 40%) 2.8490\n",
      "135m 18s (- eta: 176m 57s) (65000 43%) 2.7989\n",
      "145m 33s (- eta: 166m 21s) (70000 46%) 2.7864\n",
      "154m 47s (- eta: 154m 47s) (75000 50%) 2.7591\n",
      "164m 5s (- eta: 143m 35s) (80000 53%) 2.7117\n",
      "173m 6s (- eta: 132m 22s) (85000 56%) 2.7093\n",
      "182m 5s (- eta: 121m 23s) (90000 60%) 2.6810\n",
      "191m 7s (- eta: 110m 38s) (95000 63%) 2.6689\n",
      "200m 6s (- eta: 100m 3s) (100000 66%) 2.6273\n",
      "209m 6s (- eta: 89m 36s) (105000 70%) 2.6287\n",
      "218m 2s (- eta: 79m 17s) (110000 73%) 2.6116\n",
      "226m 59s (- eta: 69m 4s) (115000 76%) 2.5616\n",
      "236m 4s (- eta: 59m 1s) (120000 80%) 2.5579\n",
      "245m 33s (- eta: 49m 6s) (125000 83%) 2.5617\n",
      "255m 9s (- eta: 39m 15s) (130000 86%) 2.5441\n",
      "264m 40s (- eta: 29m 24s) (135000 90%) 2.5067\n",
      "274m 2s (- eta: 19m 34s) (140000 93%) 2.5240\n",
      "283m 29s (- eta: 9m 46s) (145000 96%) 2.4780\n",
      "293m 8s (- eta: 0m 0s) (150000 100%) 2.5169\n"
     ]
    }
   ],
   "source": [
    "hidden_size = 256\n",
    "encoder1 = EncoderRNN(input_lang.n_words, hidden_size).to(device)\n",
    "decoder1 = DecoderRNN(hidden_size, output_lang.n_words).to(device)\n",
    "trainIters(encoder1, decoder1, 150_000, print_every=5000)"
   ]
  },
  {
   "cell_type": "markdown",
   "metadata": {
    "collapsed": false,
    "jupyter": {
     "outputs_hidden": false
    },
    "pycharm": {
     "name": "#%% md\n"
    }
   },
   "source": [
    "# 10. А теперь все что мы сварганили протестим на работе:"
   ]
  },
  {
   "cell_type": "code",
   "execution_count": 35,
   "metadata": {},
   "outputs": [
    {
     "name": "stdout",
     "output_type": "stream",
     "text": [
      "> я ваш новыи сосед .\n",
      "= i m your new neighbor .\n",
      "< i m your new new . <EOS>\n",
      "\n",
      "> у меня много фотографии .\n",
      "= i have many photos .\n",
      "< i have a lot of . <EOS>\n",
      "\n",
      "> я просил вас не делать этого .\n",
      "= i asked you not to do that .\n",
      "< i didn not ask you to do that . <EOS>\n",
      "\n",
      "> том не хочет быть хирургом .\n",
      "= tom doesn t want to be a surgeon .\n",
      "< tom doesn t want to be to . <EOS>\n",
      "\n",
      "> ты так вырос !\n",
      "= you ve grown so much !\n",
      "< you re so so . <EOS>\n",
      "\n",
      "> это самая большая глупость какую я когда либо слышал .\n",
      "= that s the silliest thing i ve ever heard .\n",
      "< this is my favorite time i ve ever heard . <EOS>\n",
      "\n",
      "> я сеичас над этим работаю .\n",
      "= i m working on it now .\n",
      "< i m going now on work . <EOS>\n",
      "\n",
      "> увидите .\n",
      "= you will see .\n",
      "< let s go . <EOS>\n",
      "\n",
      "> том схватил руку мэри .\n",
      "= tom grabbed mary s arm .\n",
      "< tom made mary a <EOS>\n",
      "\n",
      "> я решил ехать на машине .\n",
      "= i decided to go by car .\n",
      "< i m decided to go to bed . <EOS>\n",
      "\n"
     ]
    }
   ],
   "source": [
    "evaluateRandomly(encoder1, decoder1)"
   ]
  },
  {
   "cell_type": "code",
   "execution_count": 36,
   "metadata": {
    "colab": {},
    "colab_type": "code",
    "id": "xEoEylSyM9uj",
    "pycharm": {
     "name": "#%%\n"
    }
   },
   "outputs": [
    {
     "name": "stdout",
     "output_type": "stream",
     "text": [
      "> ты предлагаешь другую теорию ?\n",
      "= are you suggesting another theory ?\n",
      "< do you have a to ? <EOS>\n",
      "\n",
      "> я готов признать что это была моя вина .\n",
      "= i m ready to admit it was my fault .\n",
      "< i m the the was was on my fault . <EOS>\n",
      "\n",
      "> хочешь изюма ?\n",
      "= do you want some raisins ?\n",
      "< do you want some milk ? <EOS>\n",
      "\n",
      "> тому нужно подождать мэри .\n",
      "= tom needs to wait for mary .\n",
      "< tom needs to wait . <EOS>\n",
      "\n",
      "> все о тебе беспокоятся .\n",
      "= everybody s concerned about you .\n",
      "< all of you to tell about the . <EOS>\n",
      "\n",
      "> я хотел поговорить с матерью тома .\n",
      "= i wanted to talk to tom s mother .\n",
      "< i wanted to talk to tom with tom . <EOS>\n",
      "\n",
      "> вообще то я не том .\n",
      "= actually i m not tom .\n",
      "< actually tom s not t t . . <EOS>\n",
      "\n",
      "> дом сгорел дотла .\n",
      "= the house burned down completely .\n",
      "< the house is house in house . house . <EOS>\n",
      "\n",
      "> я знаю где ваш дом .\n",
      "= i know where your house is .\n",
      "< i know where i house . <EOS>\n",
      "\n",
      "> если бы была проблема том что нибудь сказал бы .\n",
      "= if there had been a problem tom would ve said something .\n",
      "< if something would had tom . . <EOS>\n",
      "\n"
     ]
    }
   ],
   "source": [
    "evaluateRandomly(encoder1, decoder1)"
   ]
  },
  {
   "cell_type": "code",
   "execution_count": null,
   "metadata": {
    "collapsed": false,
    "jupyter": {
     "outputs_hidden": false
    },
    "pycharm": {
     "name": "#%%\n"
    }
   },
   "outputs": [],
   "source": []
  }
 ],
 "metadata": {
  "accelerator": "GPU",
  "colab": {
   "name": "Лекция 8.ipynb",
   "provenance": []
  },
  "kernelspec": {
   "display_name": "Python 3 (ipykernel)",
   "language": "python",
   "name": "python3"
  },
  "language_info": {
   "codemirror_mode": {
    "name": "ipython",
    "version": 3
   },
   "file_extension": ".py",
   "mimetype": "text/x-python",
   "name": "python",
   "nbconvert_exporter": "python",
   "pygments_lexer": "ipython3",
   "version": "3.12.4"
  }
 },
 "nbformat": 4,
 "nbformat_minor": 4
}
