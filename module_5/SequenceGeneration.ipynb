{
 "cells": [
  {
   "cell_type": "code",
   "execution_count": 1,
   "id": "45017e84-77cb-4e76-b117-11bc731531de",
   "metadata": {},
   "outputs": [],
   "source": [
    "import numpy as np\n",
    "import torch\n",
    "from torch.utils.data import TensorDataset, DataLoader\n",
    "import time\n",
    "import random\n",
    "import re"
   ]
  },
  {
   "cell_type": "markdown",
   "id": "1e8282ec-813c-4b01-b037-24afaecdc440",
   "metadata": {},
   "source": [
    "Начинаем с генерации последовательности"
   ]
  },
  {
   "cell_type": "code",
   "execution_count": 3,
   "id": "18d9faf5-7741-4f4b-a54c-8a36f6e3a065",
   "metadata": {},
   "outputs": [],
   "source": [
    "class Generator:\n",
    "    def __init__(self, start_seq=1, iterations=1000):\n",
    "        self.start = start_seq\n",
    "        self.iter = iterations\n",
    "        self.x_sequence = []\n",
    "        self.y_sequence = []\n",
    "        self.x = self.start\n",
    "        self.y = self.x\n",
    "\n",
    "    def generate_sequence(self) -> list | list:\n",
    "        '''\n",
    "        Функция генерирует 2 списка с последовательностями.\n",
    "        Первый список по порядку, начало отсчёта start_seq.\n",
    "        Второй список с условием:\n",
    "        Y1 = X1\n",
    "        Yi = Xi + X1\n",
    "        если Yi >= 10, то Yi - 10\n",
    "        '''\n",
    "        self.x_sequence.append(self.x)\n",
    "        self.y_sequence.append(self.y)\n",
    "        while self.iter > 0:\n",
    "            self.x += 1\n",
    "            self.x_sequence.append(self.x)\n",
    "            self.y = self.x + self.start\n",
    "            if self.y >= 10:\n",
    "                self.y = self.y - (self.y // 10) * 10\n",
    "            self.y_sequence.append(self.y)\n",
    "            self.iter -= 1\n",
    "        return self.x_sequence, self.y_sequence\n",
    "\n",
    "\n",
    "gen = Generator()\n",
    "X, Y = gen.generate_sequence()\n",
    "\n",
    "X_t = torch.tensor(X)\n",
    "Y_t = torch.tensor(Y)"
   ]
  },
  {
   "cell_type": "markdown",
   "id": "478eb309-4107-4cda-8019-2ba12f77b95f",
   "metadata": {},
   "source": [
    "Отмечаем все слои модели"
   ]
  },
  {
   "cell_type": "code",
   "execution_count": 5,
   "id": "e08cf6fd-3f31-4675-a092-73fafb720829",
   "metadata": {},
   "outputs": [],
   "source": [
    "embed_len = len(X)\n",
    "embed_size = 64\n",
    "hidden_size = 128\n",
    "out_size = 10"
   ]
  },
  {
   "cell_type": "markdown",
   "id": "7377f87f-ab15-4f2a-a2ba-20dfc8f0694c",
   "metadata": {},
   "source": [
    "Небольшая функция, что бы вытянуть название модели, для отображения"
   ]
  },
  {
   "cell_type": "code",
   "execution_count": 7,
   "id": "78a3ec39-9c81-404e-8278-4edd7815e94b",
   "metadata": {},
   "outputs": [],
   "source": [
    "def mod_name(string: str) -> str:\n",
    "    '''\n",
    "    Функция достаёт название модели\n",
    "    '''\n",
    "    prog = re.compile('[A-Z]{3,4}')\n",
    "    res = prog.findall(string)\n",
    "    return res[0]"
   ]
  },
  {
   "cell_type": "markdown",
   "id": "489f6968-59ed-4e72-b744-6f62fa6d820c",
   "metadata": {},
   "source": [
    "Создаём класс модель"
   ]
  },
  {
   "cell_type": "code",
   "execution_count": 9,
   "id": "57d5074d-8e8e-4071-946b-f0cb9c215d08",
   "metadata": {},
   "outputs": [],
   "source": [
    "class Decode(torch.nn.Module):\n",
    "    \n",
    "    def __init__(self, RNNClass, embed_len, embed_size, hidden_size, out_size):\n",
    "        super().__init__()\n",
    "        self.embed = torch.nn.Embedding(embed_len, embed_size)\n",
    "        self.rnn = RNNClass(embed_size, hidden_size, batch_first=True)\n",
    "        self.linear = torch.nn.Linear(hidden_size, out_size)\n",
    "        self.is_lstm = issubclass(RNNClass, torch.nn.LSTM)\n",
    "        \n",
    "    def forward(self, seq):\n",
    "        embed = self.embed(seq)\n",
    "        if self.is_lstm:\n",
    "            all_layers, (_, _) = self.rnn(embed)\n",
    "        else:\n",
    "            all_layers, _ = self.rnn(embed)\n",
    "        out = self.linear(all_layers)\n",
    "        return out\n"
   ]
  },
  {
   "cell_type": "markdown",
   "id": "8b679042-47fe-49c0-a403-17c34c69bef7",
   "metadata": {},
   "source": [
    "Создаём класс для обучения модели"
   ]
  },
  {
   "cell_type": "code",
   "execution_count": 11,
   "id": "9df7eb59-80d7-4a60-9ea2-120ead884e33",
   "metadata": {},
   "outputs": [],
   "source": [
    "class SequenceModel:\n",
    "    def __init__(self, model, step=10, epoch=100):\n",
    "        super().__init__()\n",
    "        self.criterion = torch.nn.CrossEntropyLoss()\n",
    "        self.optimizer = torch.optim.SGD(model.parameters(), lr=.1)\n",
    "        self.epoch = epoch\n",
    "        self.step = step\n",
    "        self.model = model\n",
    "        self.model_name = mod_name(str(self.model.rnn))\n",
    "\n",
    "    def train(self, X, Y):\n",
    "        print(f'Начало обучения. Модель: {self.model_name}. Количество эпох {self.epoch}')\n",
    "        train_time = time.time()\n",
    "        for ep in range(self.epoch + 1):\n",
    "            start = time.time()\n",
    "            train_loss = 0.\n",
    "            train_passed = 0\n",
    "        \n",
    "            for i in range(1000-self.step):\n",
    "                X_batch = X[i: i+self.step]\n",
    "                y_batch = Y[i: i+self.step]\n",
    "                self.optimizer.zero_grad()\n",
    "                answers = self.model.forward(X_batch)\n",
    "                loss = self.criterion(answers, y_batch)\n",
    "                train_loss += loss.item()\n",
    "                \n",
    "                loss.backward()\n",
    "                self.optimizer.step()\n",
    "                train_passed += 1\n",
    "            if ep % 10 == 0 and ep != 0:\n",
    "                print(f\"Количество эпох: {ep}. Время на 10 эпох : {(time.time() - start) * 10:.3f}, loss текущей эпохи: {(train_loss / train_passed):.3f}\")\n",
    "\n",
    "        print(f'Общее время затраченное на обучение: {(time.time() - train_time):.2f} секунд')"
   ]
  },
  {
   "cell_type": "markdown",
   "id": "e4be8a45-b0de-4740-a5c2-bd90b54c46f3",
   "metadata": {},
   "source": [
    "Обучаем все три модели"
   ]
  },
  {
   "cell_type": "code",
   "execution_count": 13,
   "id": "e14d42e7-df3e-4ae3-9a57-db49b134eaca",
   "metadata": {},
   "outputs": [],
   "source": [
    "rnn_model = SequenceModel(model=Decode(RNNClass=torch.nn.RNN, embed_len=embed_len, embed_size=embed_size, hidden_size=hidden_size, out_size=out_size))"
   ]
  },
  {
   "cell_type": "code",
   "execution_count": 14,
   "id": "7fda223f-bb05-4e8d-9039-d967494dca86",
   "metadata": {},
   "outputs": [
    {
     "name": "stdout",
     "output_type": "stream",
     "text": [
      "Начало обучения. Модель: RNN. Количество эпох 100\n",
      "Количество эпох: 10. Время на 10 эпох : 17.634, loss текущей эпохи: 0.011\n",
      "Количество эпох: 20. Время на 10 эпох : 18.107, loss текущей эпохи: 0.003\n",
      "Количество эпох: 30. Время на 10 эпох : 16.080, loss текущей эпохи: 0.002\n",
      "Количество эпох: 40. Время на 10 эпох : 17.018, loss текущей эпохи: 0.001\n",
      "Количество эпох: 50. Время на 10 эпох : 17.470, loss текущей эпохи: 0.001\n",
      "Количество эпох: 60. Время на 10 эпох : 19.527, loss текущей эпохи: 0.001\n",
      "Количество эпох: 70. Время на 10 эпох : 17.543, loss текущей эпохи: 0.001\n",
      "Количество эпох: 80. Время на 10 эпох : 16.709, loss текущей эпохи: 0.001\n",
      "Количество эпох: 90. Время на 10 эпох : 18.094, loss текущей эпохи: 0.000\n",
      "Количество эпох: 100. Время на 10 эпох : 17.270, loss текущей эпохи: 0.000\n",
      "Общее время затраченное на обучение: 169.33 секунд\n"
     ]
    }
   ],
   "source": [
    "rnn_model.train(X_t, Y_t)"
   ]
  },
  {
   "cell_type": "code",
   "execution_count": 15,
   "id": "a185cc45-d52a-4a35-82a8-fdb3e346f8dd",
   "metadata": {},
   "outputs": [],
   "source": [
    "lstm_model = SequenceModel(model=Decode(RNNClass=torch.nn.LSTM, embed_len=embed_len, embed_size=embed_size, hidden_size=hidden_size, out_size=out_size))"
   ]
  },
  {
   "cell_type": "code",
   "execution_count": 16,
   "id": "9bf1535c-f833-4b6d-aa27-6deaa99ac820",
   "metadata": {},
   "outputs": [
    {
     "name": "stdout",
     "output_type": "stream",
     "text": [
      "Начало обучения. Модель: LSTM. Количество эпох 100\n",
      "Количество эпох: 10. Время на 10 эпох : 13.318, loss текущей эпохи: 0.017\n",
      "Количество эпох: 20. Время на 10 эпох : 14.542, loss текущей эпохи: 0.005\n",
      "Количество эпох: 30. Время на 10 эпох : 13.721, loss текущей эпохи: 0.003\n",
      "Количество эпох: 40. Время на 10 эпох : 14.840, loss текущей эпохи: 0.002\n",
      "Количество эпох: 50. Время на 10 эпох : 13.919, loss текущей эпохи: 0.002\n",
      "Количество эпох: 60. Время на 10 эпох : 13.507, loss текущей эпохи: 0.001\n",
      "Количество эпох: 70. Время на 10 эпох : 13.289, loss текущей эпохи: 0.001\n",
      "Количество эпох: 80. Время на 10 эпох : 14.106, loss текущей эпохи: 0.001\n",
      "Количество эпох: 90. Время на 10 эпох : 12.909, loss текущей эпохи: 0.001\n",
      "Количество эпох: 100. Время на 10 эпох : 13.787, loss текущей эпохи: 0.001\n",
      "Общее время затраченное на обучение: 139.16 секунд\n"
     ]
    }
   ],
   "source": [
    "lstm_model.train(X_t, Y_t)"
   ]
  },
  {
   "cell_type": "code",
   "execution_count": 17,
   "id": "4fd0b8b6-ae18-44af-b3e2-29ec9341eb2b",
   "metadata": {},
   "outputs": [],
   "source": [
    "gru_model = SequenceModel(model=Decode(RNNClass=torch.nn.GRU, embed_len=embed_len, embed_size=embed_size, hidden_size=hidden_size, out_size=out_size))"
   ]
  },
  {
   "cell_type": "code",
   "execution_count": 18,
   "id": "f7f0b6ca-273b-4fb4-bd05-d09aa3a6ffc4",
   "metadata": {},
   "outputs": [
    {
     "name": "stdout",
     "output_type": "stream",
     "text": [
      "Начало обучения. Модель: GRU. Количество эпох 100\n",
      "Количество эпох: 10. Время на 10 эпох : 32.599, loss текущей эпохи: 0.010\n",
      "Количество эпох: 20. Время на 10 эпох : 31.949, loss текущей эпохи: 0.003\n",
      "Количество эпох: 30. Время на 10 эпох : 31.663, loss текущей эпохи: 0.002\n",
      "Количество эпох: 40. Время на 10 эпох : 31.607, loss текущей эпохи: 0.001\n",
      "Количество эпох: 50. Время на 10 эпох : 35.323, loss текущей эпохи: 0.001\n",
      "Количество эпох: 60. Время на 10 эпох : 32.450, loss текущей эпохи: 0.001\n",
      "Количество эпох: 70. Время на 10 эпох : 34.226, loss текущей эпохи: 0.001\n",
      "Количество эпох: 80. Время на 10 эпох : 31.180, loss текущей эпохи: 0.001\n",
      "Количество эпох: 90. Время на 10 эпох : 31.217, loss текущей эпохи: 0.001\n",
      "Количество эпох: 100. Время на 10 эпох : 35.273, loss текущей эпохи: 0.000\n",
      "Общее время затраченное на обучение: 333.16 секунд\n"
     ]
    }
   ],
   "source": [
    "gru_model.train(X_t, Y_t)"
   ]
  },
  {
   "cell_type": "markdown",
   "id": "4f393a35-52da-4b87-9384-8f39379d4e51",
   "metadata": {},
   "source": [
    "Пишем функцию для проверки качества, для этого случайным образом отбираем числа из датасета, перемешиваем и подаём каждой модели на предсказание, складываем реальные значения и предсказанные в тензоры, после оцениваем качество предсказания."
   ]
  },
  {
   "cell_type": "code",
   "execution_count": 20,
   "id": "03f296f2-b992-4282-a498-9c93271be0f5",
   "metadata": {},
   "outputs": [],
   "source": [
    "class ModelEstimator():\n",
    "    def __init__(self, model_list, X: list, Y: list):\n",
    "        self.X, self.Y = X, Y\n",
    "        self.model_list = model_list\n",
    "        self.data = self.create_test_data(self.X, self.Y)\n",
    "\n",
    "    def create_test_data(self, X: list, Y: list) -> 'Объект DataLoader':\n",
    "        '''\n",
    "        Функция принимает на вход две последовательности и возвращает\n",
    "        объект DataLoader со случайной и перемешаной выборкой значений\n",
    "        Инициализируется при создании экзепляра класса\n",
    "        '''\n",
    "        X_check = []\n",
    "        Y_check = []\n",
    "        for i in range(1000):\n",
    "            choise = random.randint(1, 3)\n",
    "            if choise > 2:\n",
    "                X_check.append(X[i])\n",
    "                Y_check.append(Y[i])\n",
    "        dataset = TensorDataset(torch.tensor(X_check), torch.tensor(Y_check))\n",
    "        dataloader = DataLoader(dataset, shuffle=True)\n",
    "        return dataloader\n",
    "\n",
    "    def estimate(self) -> 'NoReturn':\n",
    "        '''\n",
    "        Функция проверяет точноть моделей по соответствию значений реальных и предсказанных\n",
    "        '''\n",
    "        for model in self.model_list:\n",
    "            true_value = []\n",
    "            predictd_value = []\n",
    "            for x, y in self.data:\n",
    "                predictd_value.append(torch.argmax(rnn_model.model(torch.tensor([x]))))\n",
    "                true_value.append(y.squeeze())\n",
    "            acc = torch.sum(torch.eq(torch.tensor(predictd_value), torch.tensor(true_value))).item()/torch.tensor(true_value).nelement()\n",
    "            print(f'Точность модели {model.model_name}: {acc:.2f}')\n",
    "            "
   ]
  },
  {
   "cell_type": "code",
   "execution_count": 21,
   "id": "b2af5d2f-d884-495a-97df-c74893479653",
   "metadata": {},
   "outputs": [
    {
     "name": "stdout",
     "output_type": "stream",
     "text": [
      "Точность модели RNN: 0.99\n",
      "Точность модели LSTM: 0.99\n",
      "Точность модели GRU: 0.99\n"
     ]
    }
   ],
   "source": [
    "me = ModelEstimator([rnn_model, lstm_model, gru_model], X, Y)\n",
    "me.estimate()"
   ]
  },
  {
   "cell_type": "code",
   "execution_count": null,
   "id": "0700ca60-2444-4eb2-a5fe-f01c6f179171",
   "metadata": {},
   "outputs": [],
   "source": []
  }
 ],
 "metadata": {
  "kernelspec": {
   "display_name": "Python 3 (ipykernel)",
   "language": "python",
   "name": "python3"
  },
  "language_info": {
   "codemirror_mode": {
    "name": "ipython",
    "version": 3
   },
   "file_extension": ".py",
   "mimetype": "text/x-python",
   "name": "python",
   "nbconvert_exporter": "python",
   "pygments_lexer": "ipython3",
   "version": "3.12.4"
  }
 },
 "nbformat": 4,
 "nbformat_minor": 5
}
