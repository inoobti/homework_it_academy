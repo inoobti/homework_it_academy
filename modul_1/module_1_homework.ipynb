{
 "cells": [
  {
   "cell_type": "markdown",
   "metadata": {
    "pycharm": {
     "name": "#%% md\n"
    }
   },
   "source": [
    "# Домашнее задание на проверку знаний библиотеки для анализа данных Pandas.\n",
    "\n",
    "Вам представлен датасет, который содержит информацию по результатам сезона 2016 года игры в бейсбол.\n",
    "\n",
    "Вам необходимо загрузить датасет (он находится в архиве с текущим домашним заданием). Провести его очистку, если это необходимо и ответить на поставленные аналитические\n",
    "вопросы.\n",
    "\n",
    "Список колонок, представленных в датасете:\n",
    "\n",
    "---\n",
    "* attendance        - количество зрителей матча\n",
    "* away_team         - название гостевой команды\n",
    "* away_team_errors  - количество ошибок гостевой команды\n",
    "* away_team_hits    - количество хитов гостевой команды (хит в бейсболе - удар при котором отбивающий достиг первой базы)\n",
    "* away_team_runs    - количество ранов гостевой команды (ран в бейсболе - очко заработанное игроком нападения)\n",
    "* date              - дата проведения матча\n",
    "* field_type        - тип игрового поля\n",
    "* game_type         - тип игры\n",
    "* home_team         - название домашней команды\n",
    "* home_team_errors  - количество ошибок домашней команды\n",
    "* home_team_hits    - количество хитов домашней команды (хит в бейсболе - удар при котором отбивающий достиг первой базы)\n",
    "* home_team_runs    - количество ранов домашней команды (ран в бейсболе - очко заработанное игроком нападения)\n",
    "* start_time        - время начала игрового матча\n",
    "* venue             - название места проведения матча (стадион, поле, арена)\n",
    "* day_of_week       - день недели проведения матча\n",
    "* temperature       - температура воздуха в день проведения матча в фаренгейтах\n",
    "* wind_speed        - скорость ветра в день проведения матча\n",
    "* wind_direction    - направление скорости ветра\n",
    "* sky               - облачность\n",
    "* total_runs        - общее количество ранов для двух команд\n",
    "* game_hours_dec    - длительность матча указаная в часах\n",
    "* season            - тип игрового сезона\n",
    "* home_team_win     - результат домашней команды (1 - выигрыш)\n",
    "* home_team_loss    - результат домашней команды (0 - проигрыш)\n",
    "* home_team_outcome - исход матча\n",
    "---\n",
    "\n",
    "Всего в задании 20 вопросов. За каждый правильный вопрос начисляется 5 баллов. Таким образом за все правильные ответы вы получите - 100 баллов. Оценка затем будет приведена к 10-ти бальной шкале.\n",
    "\n",
    "---\n",
    "\n",
    "**Кроме того, баллы могут быть снижены за**:\n",
    "\n",
    "- 1 балл снижается за качество кода - старайтесь чтобы код был максимально лаконичным. Названия переменных (если они используются) должны отражать максимальную ее сущность. Вывод старайтесь делать минимальным, так как первичная цель - сделать качественный анализ, чтобы быстро ответить на поставленный вопрос (никаких таблиц на 100 строк).\n",
    "\n",
    "\n",
    "- 5 баллов снижается если ответ на домашнюю работу будет прислан в виде скриншота, ноутбука, текстового файла и прочих способов. Используйте при отправке на проверку только GitHub/GitLab либо прочий сервис. Присылать домашнюю работу необходимо ссылкой на ваш репозиторий на адрес электронной почты maratmovlamov2017@gmail.com\n",
    "\n",
    "\n",
    "- за каждый день просрочки дедлайна снижается по 10 баллов. Один день - минус 10 баллов, второй день минус 10 баллов, третий день минус 10 баллов. Соблюдайте сроки и не приступайте к домашнему заданию в последний момент.\n",
    "\n",
    "---\n",
    "\n",
    "Удачи вам в поисках истинны :)"
   ]
  },
  {
   "cell_type": "code",
   "execution_count": 2,
   "metadata": {
    "pycharm": {
     "name": "#%%\n"
    }
   },
   "outputs": [],
   "source": [
    "# Импортируйте все необходимые библиотеки и модули которые вам необходимы\n",
    "import pandas as pd\n",
    "import numpy as np"
   ]
  },
  {
   "cell_type": "code",
   "execution_count": 3,
   "metadata": {
    "pycharm": {
     "name": "#%%\n"
    }
   },
   "outputs": [
    {
     "data": {
      "text/html": [
       "<div>\n",
       "<style scoped>\n",
       "    .dataframe tbody tr th:only-of-type {\n",
       "        vertical-align: middle;\n",
       "    }\n",
       "\n",
       "    .dataframe tbody tr th {\n",
       "        vertical-align: top;\n",
       "    }\n",
       "\n",
       "    .dataframe thead th {\n",
       "        text-align: right;\n",
       "    }\n",
       "</style>\n",
       "<table border=\"1\" class=\"dataframe\">\n",
       "  <thead>\n",
       "    <tr style=\"text-align: right;\">\n",
       "      <th></th>\n",
       "      <th>Unnamed: 0</th>\n",
       "      <th>attendance</th>\n",
       "      <th>away_team_errors</th>\n",
       "      <th>away_team_hits</th>\n",
       "      <th>away_team_runs</th>\n",
       "      <th>home_team_errors</th>\n",
       "      <th>home_team_hits</th>\n",
       "      <th>home_team_runs</th>\n",
       "      <th>temperature</th>\n",
       "      <th>wind_speed</th>\n",
       "      <th>total_runs</th>\n",
       "      <th>game_hours_dec</th>\n",
       "      <th>home_team_win</th>\n",
       "      <th>home_team_loss</th>\n",
       "    </tr>\n",
       "  </thead>\n",
       "  <tbody>\n",
       "    <tr>\n",
       "      <th>count</th>\n",
       "      <td>2463.000000</td>\n",
       "      <td>2460.000000</td>\n",
       "      <td>2463.000000</td>\n",
       "      <td>2463.000000</td>\n",
       "      <td>2463.000000</td>\n",
       "      <td>2463.000000</td>\n",
       "      <td>2463.000000</td>\n",
       "      <td>2463.000000</td>\n",
       "      <td>2463.000000</td>\n",
       "      <td>2463.000000</td>\n",
       "      <td>2463.000000</td>\n",
       "      <td>2463.000000</td>\n",
       "      <td>2463.000000</td>\n",
       "      <td>2463.000000</td>\n",
       "    </tr>\n",
       "    <tr>\n",
       "      <th>mean</th>\n",
       "      <td>1231.000000</td>\n",
       "      <td>30370.703659</td>\n",
       "      <td>0.580593</td>\n",
       "      <td>8.764515</td>\n",
       "      <td>4.413723</td>\n",
       "      <td>0.585871</td>\n",
       "      <td>8.611855</td>\n",
       "      <td>4.519691</td>\n",
       "      <td>73.818920</td>\n",
       "      <td>7.494925</td>\n",
       "      <td>8.933415</td>\n",
       "      <td>3.085302</td>\n",
       "      <td>0.529436</td>\n",
       "      <td>0.470158</td>\n",
       "    </tr>\n",
       "    <tr>\n",
       "      <th>std</th>\n",
       "      <td>711.151179</td>\n",
       "      <td>9875.466703</td>\n",
       "      <td>0.793391</td>\n",
       "      <td>3.511581</td>\n",
       "      <td>3.104556</td>\n",
       "      <td>0.805542</td>\n",
       "      <td>3.436965</td>\n",
       "      <td>3.111572</td>\n",
       "      <td>10.583106</td>\n",
       "      <td>5.055970</td>\n",
       "      <td>4.480352</td>\n",
       "      <td>0.460491</td>\n",
       "      <td>0.499234</td>\n",
       "      <td>0.499210</td>\n",
       "    </tr>\n",
       "    <tr>\n",
       "      <th>min</th>\n",
       "      <td>0.000000</td>\n",
       "      <td>8766.000000</td>\n",
       "      <td>0.000000</td>\n",
       "      <td>1.000000</td>\n",
       "      <td>0.000000</td>\n",
       "      <td>0.000000</td>\n",
       "      <td>0.000000</td>\n",
       "      <td>0.000000</td>\n",
       "      <td>31.000000</td>\n",
       "      <td>0.000000</td>\n",
       "      <td>1.000000</td>\n",
       "      <td>1.250000</td>\n",
       "      <td>0.000000</td>\n",
       "      <td>0.000000</td>\n",
       "    </tr>\n",
       "    <tr>\n",
       "      <th>25%</th>\n",
       "      <td>615.500000</td>\n",
       "      <td>22432.000000</td>\n",
       "      <td>0.000000</td>\n",
       "      <td>6.000000</td>\n",
       "      <td>2.000000</td>\n",
       "      <td>0.000000</td>\n",
       "      <td>6.000000</td>\n",
       "      <td>2.000000</td>\n",
       "      <td>67.000000</td>\n",
       "      <td>4.000000</td>\n",
       "      <td>6.000000</td>\n",
       "      <td>2.783333</td>\n",
       "      <td>0.000000</td>\n",
       "      <td>0.000000</td>\n",
       "    </tr>\n",
       "    <tr>\n",
       "      <th>50%</th>\n",
       "      <td>1231.000000</td>\n",
       "      <td>30604.500000</td>\n",
       "      <td>0.000000</td>\n",
       "      <td>8.000000</td>\n",
       "      <td>4.000000</td>\n",
       "      <td>0.000000</td>\n",
       "      <td>8.000000</td>\n",
       "      <td>4.000000</td>\n",
       "      <td>74.000000</td>\n",
       "      <td>7.000000</td>\n",
       "      <td>8.000000</td>\n",
       "      <td>3.033333</td>\n",
       "      <td>1.000000</td>\n",
       "      <td>0.000000</td>\n",
       "    </tr>\n",
       "    <tr>\n",
       "      <th>75%</th>\n",
       "      <td>1846.500000</td>\n",
       "      <td>38396.250000</td>\n",
       "      <td>1.000000</td>\n",
       "      <td>11.000000</td>\n",
       "      <td>6.000000</td>\n",
       "      <td>1.000000</td>\n",
       "      <td>11.000000</td>\n",
       "      <td>6.000000</td>\n",
       "      <td>81.000000</td>\n",
       "      <td>11.000000</td>\n",
       "      <td>12.000000</td>\n",
       "      <td>3.308333</td>\n",
       "      <td>1.000000</td>\n",
       "      <td>1.000000</td>\n",
       "    </tr>\n",
       "    <tr>\n",
       "      <th>max</th>\n",
       "      <td>2462.000000</td>\n",
       "      <td>54449.000000</td>\n",
       "      <td>5.000000</td>\n",
       "      <td>22.000000</td>\n",
       "      <td>21.000000</td>\n",
       "      <td>5.000000</td>\n",
       "      <td>22.000000</td>\n",
       "      <td>17.000000</td>\n",
       "      <td>101.000000</td>\n",
       "      <td>25.000000</td>\n",
       "      <td>29.000000</td>\n",
       "      <td>6.216667</td>\n",
       "      <td>1.000000</td>\n",
       "      <td>1.000000</td>\n",
       "    </tr>\n",
       "  </tbody>\n",
       "</table>\n",
       "</div>"
      ],
      "text/plain": [
       "        Unnamed: 0    attendance  away_team_errors  away_team_hits  \\\n",
       "count  2463.000000   2460.000000       2463.000000     2463.000000   \n",
       "mean   1231.000000  30370.703659          0.580593        8.764515   \n",
       "std     711.151179   9875.466703          0.793391        3.511581   \n",
       "min       0.000000   8766.000000          0.000000        1.000000   \n",
       "25%     615.500000  22432.000000          0.000000        6.000000   \n",
       "50%    1231.000000  30604.500000          0.000000        8.000000   \n",
       "75%    1846.500000  38396.250000          1.000000       11.000000   \n",
       "max    2462.000000  54449.000000          5.000000       22.000000   \n",
       "\n",
       "       away_team_runs  home_team_errors  home_team_hits  home_team_runs  \\\n",
       "count     2463.000000       2463.000000     2463.000000     2463.000000   \n",
       "mean         4.413723          0.585871        8.611855        4.519691   \n",
       "std          3.104556          0.805542        3.436965        3.111572   \n",
       "min          0.000000          0.000000        0.000000        0.000000   \n",
       "25%          2.000000          0.000000        6.000000        2.000000   \n",
       "50%          4.000000          0.000000        8.000000        4.000000   \n",
       "75%          6.000000          1.000000       11.000000        6.000000   \n",
       "max         21.000000          5.000000       22.000000       17.000000   \n",
       "\n",
       "       temperature   wind_speed   total_runs  game_hours_dec  home_team_win  \\\n",
       "count  2463.000000  2463.000000  2463.000000     2463.000000    2463.000000   \n",
       "mean     73.818920     7.494925     8.933415        3.085302       0.529436   \n",
       "std      10.583106     5.055970     4.480352        0.460491       0.499234   \n",
       "min      31.000000     0.000000     1.000000        1.250000       0.000000   \n",
       "25%      67.000000     4.000000     6.000000        2.783333       0.000000   \n",
       "50%      74.000000     7.000000     8.000000        3.033333       1.000000   \n",
       "75%      81.000000    11.000000    12.000000        3.308333       1.000000   \n",
       "max     101.000000    25.000000    29.000000        6.216667       1.000000   \n",
       "\n",
       "       home_team_loss  \n",
       "count     2463.000000  \n",
       "mean         0.470158  \n",
       "std          0.499210  \n",
       "min          0.000000  \n",
       "25%          0.000000  \n",
       "50%          0.000000  \n",
       "75%          1.000000  \n",
       "max          1.000000  "
      ]
     },
     "execution_count": 3,
     "metadata": {},
     "output_type": "execute_result"
    }
   ],
   "source": [
    "# Загрузите датасет и проведите его очистку и форматирование если это необходимо\n",
    "data = pd.read_csv('./baseball_games.csv')\n",
    "data.describe()"
   ]
  },
  {
   "cell_type": "markdown",
   "metadata": {},
   "source": [
    " Вижу непонятный столбик 'Unnamed: 0', проверяю содержимое, и не найдя там ничего полезного удаляю"
   ]
  },
  {
   "cell_type": "code",
   "execution_count": 5,
   "metadata": {},
   "outputs": [],
   "source": [
    "data.drop(columns=['Unnamed: 0'], axis=1, inplace=True)"
   ]
  },
  {
   "cell_type": "markdown",
   "metadata": {},
   "source": [
    "Просматриваю список колонок и сокращаю некоторые названия"
   ]
  },
  {
   "cell_type": "code",
   "execution_count": 7,
   "metadata": {},
   "outputs": [
    {
     "data": {
      "text/plain": [
       "Index(['attendance', 'away_team', 'away_team_errors', 'away_team_hits',\n",
       "       'away_team_runs', 'date', 'field_type', 'game_type', 'home_team',\n",
       "       'home_team_errors', 'home_team_hits', 'home_team_runs', 'start_time',\n",
       "       'venue', 'day_of_week', 'temperature', 'wind_speed', 'wind_direction',\n",
       "       'sky', 'total_runs', 'game_hours_dec', 'season', 'home_team_win',\n",
       "       'home_team_loss', 'home_team_outcome'],\n",
       "      dtype='object')"
      ]
     },
     "execution_count": 7,
     "metadata": {},
     "output_type": "execute_result"
    }
   ],
   "source": [
    "data.columns"
   ]
  },
  {
   "cell_type": "code",
   "execution_count": 8,
   "metadata": {},
   "outputs": [],
   "source": [
    "data.columns = ['attendance', 'away_team', 'a_t_errors', 'a_t_hits',\n",
    "               'a_t_runs', 'date', 'field_type', 'game_type', 'home_team',\n",
    "               'h_t_errors', 'h_t_hits', 'h_t_runs', 'start_time',\n",
    "               'venue', 'day_of_week', 'temp', 'wind_speed', 'wind_direction',\n",
    "               'sky', 'total_runs', 'game_hours_dec', 'season', 'h_t_win',\n",
    "               'h_t_loss', 'h_t_outcome']"
   ]
  },
  {
   "cell_type": "markdown",
   "metadata": {},
   "source": [
    "Вижу что отображаются не все колонки, по этому задаю отображение всей таблицы"
   ]
  },
  {
   "cell_type": "code",
   "execution_count": 10,
   "metadata": {},
   "outputs": [
    {
     "data": {
      "text/html": [
       "<div>\n",
       "<style scoped>\n",
       "    .dataframe tbody tr th:only-of-type {\n",
       "        vertical-align: middle;\n",
       "    }\n",
       "\n",
       "    .dataframe tbody tr th {\n",
       "        vertical-align: top;\n",
       "    }\n",
       "\n",
       "    .dataframe thead th {\n",
       "        text-align: right;\n",
       "    }\n",
       "</style>\n",
       "<table border=\"1\" class=\"dataframe\">\n",
       "  <thead>\n",
       "    <tr style=\"text-align: right;\">\n",
       "      <th></th>\n",
       "      <th>attendance</th>\n",
       "      <th>away_team</th>\n",
       "      <th>a_t_errors</th>\n",
       "      <th>a_t_hits</th>\n",
       "      <th>a_t_runs</th>\n",
       "      <th>date</th>\n",
       "      <th>field_type</th>\n",
       "      <th>game_type</th>\n",
       "      <th>home_team</th>\n",
       "      <th>h_t_errors</th>\n",
       "      <th>h_t_hits</th>\n",
       "      <th>h_t_runs</th>\n",
       "      <th>start_time</th>\n",
       "      <th>venue</th>\n",
       "      <th>day_of_week</th>\n",
       "      <th>temp</th>\n",
       "      <th>wind_speed</th>\n",
       "      <th>wind_direction</th>\n",
       "      <th>sky</th>\n",
       "      <th>total_runs</th>\n",
       "      <th>game_hours_dec</th>\n",
       "      <th>season</th>\n",
       "      <th>h_t_win</th>\n",
       "      <th>h_t_loss</th>\n",
       "      <th>h_t_outcome</th>\n",
       "    </tr>\n",
       "  </thead>\n",
       "  <tbody>\n",
       "    <tr>\n",
       "      <th>0</th>\n",
       "      <td>40030.0</td>\n",
       "      <td>New York Mets</td>\n",
       "      <td>1</td>\n",
       "      <td>7</td>\n",
       "      <td>3</td>\n",
       "      <td>2016-04-03</td>\n",
       "      <td>on grass</td>\n",
       "      <td>Night Game</td>\n",
       "      <td>Kansas City Royals</td>\n",
       "      <td>0</td>\n",
       "      <td>9</td>\n",
       "      <td>4</td>\n",
       "      <td>7:38 p.m. Local</td>\n",
       "      <td>Kauffman Stadium</td>\n",
       "      <td>Sunday</td>\n",
       "      <td>74.0</td>\n",
       "      <td>14.0</td>\n",
       "      <td>from Right to Left</td>\n",
       "      <td>Sunny</td>\n",
       "      <td>7</td>\n",
       "      <td>3.216667</td>\n",
       "      <td>regular season</td>\n",
       "      <td>1</td>\n",
       "      <td>0</td>\n",
       "      <td>Win</td>\n",
       "    </tr>\n",
       "    <tr>\n",
       "      <th>1</th>\n",
       "      <td>21621.0</td>\n",
       "      <td>Philadelphia Phillies</td>\n",
       "      <td>0</td>\n",
       "      <td>5</td>\n",
       "      <td>2</td>\n",
       "      <td>2016-04-06</td>\n",
       "      <td>on grass</td>\n",
       "      <td>Night Game</td>\n",
       "      <td>Cincinnati Reds</td>\n",
       "      <td>0</td>\n",
       "      <td>8</td>\n",
       "      <td>3</td>\n",
       "      <td>7:11 p.m. Local</td>\n",
       "      <td>Great American Ball Park</td>\n",
       "      <td>Wednesday</td>\n",
       "      <td>55.0</td>\n",
       "      <td>24.0</td>\n",
       "      <td>from Right to Left</td>\n",
       "      <td>Overcast</td>\n",
       "      <td>5</td>\n",
       "      <td>2.383333</td>\n",
       "      <td>regular season</td>\n",
       "      <td>1</td>\n",
       "      <td>0</td>\n",
       "      <td>Win</td>\n",
       "    </tr>\n",
       "    <tr>\n",
       "      <th>2</th>\n",
       "      <td>12622.0</td>\n",
       "      <td>Minnesota Twins</td>\n",
       "      <td>0</td>\n",
       "      <td>5</td>\n",
       "      <td>2</td>\n",
       "      <td>2016-04-06</td>\n",
       "      <td>on grass</td>\n",
       "      <td>Night Game</td>\n",
       "      <td>Baltimore Orioles</td>\n",
       "      <td>0</td>\n",
       "      <td>9</td>\n",
       "      <td>4</td>\n",
       "      <td>7:07 p.m. Local</td>\n",
       "      <td>Oriole Park at Camden Yards</td>\n",
       "      <td>Wednesday</td>\n",
       "      <td>48.0</td>\n",
       "      <td>7.0</td>\n",
       "      <td>out to Leftfield</td>\n",
       "      <td>Unknown</td>\n",
       "      <td>6</td>\n",
       "      <td>3.183333</td>\n",
       "      <td>regular season</td>\n",
       "      <td>1</td>\n",
       "      <td>0</td>\n",
       "      <td>Win</td>\n",
       "    </tr>\n",
       "    <tr>\n",
       "      <th>3</th>\n",
       "      <td>18531.0</td>\n",
       "      <td>Washington Nationals</td>\n",
       "      <td>0</td>\n",
       "      <td>8</td>\n",
       "      <td>3</td>\n",
       "      <td>2016-04-06</td>\n",
       "      <td>on grass</td>\n",
       "      <td>Night Game</td>\n",
       "      <td>Atlanta Braves</td>\n",
       "      <td>1</td>\n",
       "      <td>8</td>\n",
       "      <td>1</td>\n",
       "      <td>7:10 p.m. Local</td>\n",
       "      <td>Turner Field</td>\n",
       "      <td>Wednesday</td>\n",
       "      <td>65.0</td>\n",
       "      <td>10.0</td>\n",
       "      <td>from Right to Left</td>\n",
       "      <td>Cloudy</td>\n",
       "      <td>4</td>\n",
       "      <td>2.883333</td>\n",
       "      <td>regular season</td>\n",
       "      <td>0</td>\n",
       "      <td>1</td>\n",
       "      <td>Loss</td>\n",
       "    </tr>\n",
       "    <tr>\n",
       "      <th>4</th>\n",
       "      <td>18572.0</td>\n",
       "      <td>Colorado Rockies</td>\n",
       "      <td>1</td>\n",
       "      <td>8</td>\n",
       "      <td>4</td>\n",
       "      <td>2016-04-06</td>\n",
       "      <td>on grass</td>\n",
       "      <td>Day Game</td>\n",
       "      <td>Arizona Diamondbacks</td>\n",
       "      <td>0</td>\n",
       "      <td>8</td>\n",
       "      <td>3</td>\n",
       "      <td>12:40 p.m. Local</td>\n",
       "      <td>Chase Field</td>\n",
       "      <td>Wednesday</td>\n",
       "      <td>77.0</td>\n",
       "      <td>0.0</td>\n",
       "      <td>in unknown direction</td>\n",
       "      <td>In Dome</td>\n",
       "      <td>7</td>\n",
       "      <td>2.650000</td>\n",
       "      <td>regular season</td>\n",
       "      <td>0</td>\n",
       "      <td>1</td>\n",
       "      <td>Loss</td>\n",
       "    </tr>\n",
       "    <tr>\n",
       "      <th>5</th>\n",
       "      <td>28386.0</td>\n",
       "      <td>Seattle Mariners</td>\n",
       "      <td>1</td>\n",
       "      <td>11</td>\n",
       "      <td>10</td>\n",
       "      <td>2016-04-05</td>\n",
       "      <td>on grass</td>\n",
       "      <td>Night Game</td>\n",
       "      <td>Texas Rangers</td>\n",
       "      <td>1</td>\n",
       "      <td>7</td>\n",
       "      <td>2</td>\n",
       "      <td>7:07 p.m. Local</td>\n",
       "      <td>Globe Life Park in Arlington</td>\n",
       "      <td>Tuesday</td>\n",
       "      <td>81.0</td>\n",
       "      <td>12.0</td>\n",
       "      <td>from Right to Left</td>\n",
       "      <td>Cloudy</td>\n",
       "      <td>12</td>\n",
       "      <td>3.500000</td>\n",
       "      <td>regular season</td>\n",
       "      <td>0</td>\n",
       "      <td>1</td>\n",
       "      <td>Loss</td>\n",
       "    </tr>\n",
       "    <tr>\n",
       "      <th>6</th>\n",
       "      <td>12757.0</td>\n",
       "      <td>Toronto Blue Jays</td>\n",
       "      <td>0</td>\n",
       "      <td>9</td>\n",
       "      <td>2</td>\n",
       "      <td>2016-04-05</td>\n",
       "      <td>on turf</td>\n",
       "      <td>Night Game</td>\n",
       "      <td>Tampa Bay Rays</td>\n",
       "      <td>1</td>\n",
       "      <td>7</td>\n",
       "      <td>3</td>\n",
       "      <td>7:10 p.m. Local</td>\n",
       "      <td>Tropicana Field</td>\n",
       "      <td>Tuesday</td>\n",
       "      <td>72.0</td>\n",
       "      <td>0.0</td>\n",
       "      <td>in unknown direction</td>\n",
       "      <td>In Dome</td>\n",
       "      <td>5</td>\n",
       "      <td>3.116667</td>\n",
       "      <td>regular season</td>\n",
       "      <td>1</td>\n",
       "      <td>0</td>\n",
       "      <td>Win</td>\n",
       "    </tr>\n",
       "    <tr>\n",
       "      <th>7</th>\n",
       "      <td>28329.0</td>\n",
       "      <td>Los Angeles Dodgers</td>\n",
       "      <td>0</td>\n",
       "      <td>6</td>\n",
       "      <td>3</td>\n",
       "      <td>2016-04-05</td>\n",
       "      <td>on grass</td>\n",
       "      <td>Night Game</td>\n",
       "      <td>San Diego Padres</td>\n",
       "      <td>1</td>\n",
       "      <td>2</td>\n",
       "      <td>0</td>\n",
       "      <td>7:11 p.m. Local</td>\n",
       "      <td>Petco Park</td>\n",
       "      <td>Tuesday</td>\n",
       "      <td>70.0</td>\n",
       "      <td>6.0</td>\n",
       "      <td>from Left to Right</td>\n",
       "      <td>Unknown</td>\n",
       "      <td>3</td>\n",
       "      <td>2.600000</td>\n",
       "      <td>regular season</td>\n",
       "      <td>0</td>\n",
       "      <td>1</td>\n",
       "      <td>Loss</td>\n",
       "    </tr>\n",
       "    <tr>\n",
       "      <th>8</th>\n",
       "      <td>26049.0</td>\n",
       "      <td>St. Louis Cardinals</td>\n",
       "      <td>1</td>\n",
       "      <td>8</td>\n",
       "      <td>5</td>\n",
       "      <td>2016-04-05</td>\n",
       "      <td>on grass</td>\n",
       "      <td>Night Game</td>\n",
       "      <td>Pittsburgh Pirates</td>\n",
       "      <td>2</td>\n",
       "      <td>12</td>\n",
       "      <td>6</td>\n",
       "      <td>7:08 p.m. Local</td>\n",
       "      <td>PNC Park</td>\n",
       "      <td>Tuesday</td>\n",
       "      <td>40.0</td>\n",
       "      <td>7.0</td>\n",
       "      <td>out to Leftfield</td>\n",
       "      <td>Sunny</td>\n",
       "      <td>11</td>\n",
       "      <td>3.450000</td>\n",
       "      <td>regular season</td>\n",
       "      <td>1</td>\n",
       "      <td>0</td>\n",
       "      <td>Win</td>\n",
       "    </tr>\n",
       "    <tr>\n",
       "      <th>9</th>\n",
       "      <td>10478.0</td>\n",
       "      <td>Chicago White Sox</td>\n",
       "      <td>0</td>\n",
       "      <td>11</td>\n",
       "      <td>5</td>\n",
       "      <td>2016-04-05</td>\n",
       "      <td>on grass</td>\n",
       "      <td>Night Game</td>\n",
       "      <td>Oakland Athletics</td>\n",
       "      <td>0</td>\n",
       "      <td>10</td>\n",
       "      <td>4</td>\n",
       "      <td>7:08 p.m. Local</td>\n",
       "      <td>Oakland-Alameda County Coliseum</td>\n",
       "      <td>Tuesday</td>\n",
       "      <td>70.0</td>\n",
       "      <td>8.0</td>\n",
       "      <td>out to Rightfield</td>\n",
       "      <td>Cloudy</td>\n",
       "      <td>9</td>\n",
       "      <td>3.466667</td>\n",
       "      <td>regular season</td>\n",
       "      <td>0</td>\n",
       "      <td>1</td>\n",
       "      <td>Loss</td>\n",
       "    </tr>\n",
       "  </tbody>\n",
       "</table>\n",
       "</div>"
      ],
      "text/plain": [
       "   attendance              away_team  a_t_errors  a_t_hits  a_t_runs  \\\n",
       "0     40030.0          New York Mets           1         7         3   \n",
       "1     21621.0  Philadelphia Phillies           0         5         2   \n",
       "2     12622.0        Minnesota Twins           0         5         2   \n",
       "3     18531.0   Washington Nationals           0         8         3   \n",
       "4     18572.0       Colorado Rockies           1         8         4   \n",
       "5     28386.0       Seattle Mariners           1        11        10   \n",
       "6     12757.0      Toronto Blue Jays           0         9         2   \n",
       "7     28329.0    Los Angeles Dodgers           0         6         3   \n",
       "8     26049.0    St. Louis Cardinals           1         8         5   \n",
       "9     10478.0      Chicago White Sox           0        11         5   \n",
       "\n",
       "         date field_type   game_type             home_team  h_t_errors  \\\n",
       "0  2016-04-03   on grass  Night Game    Kansas City Royals           0   \n",
       "1  2016-04-06   on grass  Night Game       Cincinnati Reds           0   \n",
       "2  2016-04-06   on grass  Night Game     Baltimore Orioles           0   \n",
       "3  2016-04-06   on grass  Night Game        Atlanta Braves           1   \n",
       "4  2016-04-06   on grass    Day Game  Arizona Diamondbacks           0   \n",
       "5  2016-04-05   on grass  Night Game         Texas Rangers           1   \n",
       "6  2016-04-05    on turf  Night Game        Tampa Bay Rays           1   \n",
       "7  2016-04-05   on grass  Night Game      San Diego Padres           1   \n",
       "8  2016-04-05   on grass  Night Game    Pittsburgh Pirates           2   \n",
       "9  2016-04-05   on grass  Night Game     Oakland Athletics           0   \n",
       "\n",
       "   h_t_hits  h_t_runs        start_time                            venue  \\\n",
       "0         9         4   7:38 p.m. Local                 Kauffman Stadium   \n",
       "1         8         3   7:11 p.m. Local         Great American Ball Park   \n",
       "2         9         4   7:07 p.m. Local      Oriole Park at Camden Yards   \n",
       "3         8         1   7:10 p.m. Local                     Turner Field   \n",
       "4         8         3  12:40 p.m. Local                      Chase Field   \n",
       "5         7         2   7:07 p.m. Local     Globe Life Park in Arlington   \n",
       "6         7         3   7:10 p.m. Local                  Tropicana Field   \n",
       "7         2         0   7:11 p.m. Local                       Petco Park   \n",
       "8        12         6   7:08 p.m. Local                         PNC Park   \n",
       "9        10         4   7:08 p.m. Local  Oakland-Alameda County Coliseum   \n",
       "\n",
       "  day_of_week  temp  wind_speed         wind_direction       sky  total_runs  \\\n",
       "0      Sunday  74.0        14.0     from Right to Left     Sunny           7   \n",
       "1   Wednesday  55.0        24.0     from Right to Left  Overcast           5   \n",
       "2   Wednesday  48.0         7.0       out to Leftfield   Unknown           6   \n",
       "3   Wednesday  65.0        10.0     from Right to Left    Cloudy           4   \n",
       "4   Wednesday  77.0         0.0   in unknown direction   In Dome           7   \n",
       "5     Tuesday  81.0        12.0     from Right to Left    Cloudy          12   \n",
       "6     Tuesday  72.0         0.0   in unknown direction   In Dome           5   \n",
       "7     Tuesday  70.0         6.0     from Left to Right   Unknown           3   \n",
       "8     Tuesday  40.0         7.0       out to Leftfield     Sunny          11   \n",
       "9     Tuesday  70.0         8.0      out to Rightfield    Cloudy           9   \n",
       "\n",
       "   game_hours_dec          season  h_t_win  h_t_loss h_t_outcome  \n",
       "0        3.216667  regular season        1         0         Win  \n",
       "1        2.383333  regular season        1         0         Win  \n",
       "2        3.183333  regular season        1         0         Win  \n",
       "3        2.883333  regular season        0         1        Loss  \n",
       "4        2.650000  regular season        0         1        Loss  \n",
       "5        3.500000  regular season        0         1        Loss  \n",
       "6        3.116667  regular season        1         0         Win  \n",
       "7        2.600000  regular season        0         1        Loss  \n",
       "8        3.450000  regular season        1         0         Win  \n",
       "9        3.466667  regular season        0         1        Loss  "
      ]
     },
     "execution_count": 10,
     "metadata": {},
     "output_type": "execute_result"
    }
   ],
   "source": [
    "pd.set_option('display.max_columns', None)\n",
    "data.head(10)"
   ]
  },
  {
   "cell_type": "markdown",
   "metadata": {},
   "source": [
    "Вижу, что одна колонка \"attendance\" имеет пустые значения, из 2463 строки 3 пустые, заполняем медианным значением"
   ]
  },
  {
   "cell_type": "code",
   "execution_count": 12,
   "metadata": {},
   "outputs": [
    {
     "name": "stdout",
     "output_type": "stream",
     "text": [
      "<class 'pandas.core.frame.DataFrame'>\n",
      "RangeIndex: 2463 entries, 0 to 2462\n",
      "Data columns (total 25 columns):\n",
      " #   Column          Non-Null Count  Dtype  \n",
      "---  ------          --------------  -----  \n",
      " 0   attendance      2460 non-null   float64\n",
      " 1   away_team       2463 non-null   object \n",
      " 2   a_t_errors      2463 non-null   int64  \n",
      " 3   a_t_hits        2463 non-null   int64  \n",
      " 4   a_t_runs        2463 non-null   int64  \n",
      " 5   date            2463 non-null   object \n",
      " 6   field_type      2463 non-null   object \n",
      " 7   game_type       2463 non-null   object \n",
      " 8   home_team       2463 non-null   object \n",
      " 9   h_t_errors      2463 non-null   int64  \n",
      " 10  h_t_hits        2463 non-null   int64  \n",
      " 11  h_t_runs        2463 non-null   int64  \n",
      " 12  start_time      2463 non-null   object \n",
      " 13  venue           2463 non-null   object \n",
      " 14  day_of_week     2463 non-null   object \n",
      " 15  temp            2463 non-null   float64\n",
      " 16  wind_speed      2463 non-null   float64\n",
      " 17  wind_direction  2463 non-null   object \n",
      " 18  sky             2463 non-null   object \n",
      " 19  total_runs      2463 non-null   int64  \n",
      " 20  game_hours_dec  2463 non-null   float64\n",
      " 21  season          2463 non-null   object \n",
      " 22  h_t_win         2463 non-null   int64  \n",
      " 23  h_t_loss        2463 non-null   int64  \n",
      " 24  h_t_outcome     2463 non-null   object \n",
      "dtypes: float64(4), int64(9), object(12)\n",
      "memory usage: 481.2+ KB\n"
     ]
    }
   ],
   "source": [
    "data.info()"
   ]
  },
  {
   "cell_type": "code",
   "execution_count": 13,
   "metadata": {},
   "outputs": [
    {
     "data": {
      "text/html": [
       "<div>\n",
       "<style scoped>\n",
       "    .dataframe tbody tr th:only-of-type {\n",
       "        vertical-align: middle;\n",
       "    }\n",
       "\n",
       "    .dataframe tbody tr th {\n",
       "        vertical-align: top;\n",
       "    }\n",
       "\n",
       "    .dataframe thead th {\n",
       "        text-align: right;\n",
       "    }\n",
       "</style>\n",
       "<table border=\"1\" class=\"dataframe\">\n",
       "  <thead>\n",
       "    <tr style=\"text-align: right;\">\n",
       "      <th></th>\n",
       "      <th>attendance</th>\n",
       "      <th>away_team</th>\n",
       "      <th>a_t_errors</th>\n",
       "      <th>a_t_hits</th>\n",
       "      <th>a_t_runs</th>\n",
       "      <th>date</th>\n",
       "      <th>field_type</th>\n",
       "      <th>game_type</th>\n",
       "      <th>home_team</th>\n",
       "      <th>h_t_errors</th>\n",
       "      <th>h_t_hits</th>\n",
       "      <th>h_t_runs</th>\n",
       "      <th>start_time</th>\n",
       "      <th>venue</th>\n",
       "      <th>day_of_week</th>\n",
       "      <th>temp</th>\n",
       "      <th>wind_speed</th>\n",
       "      <th>wind_direction</th>\n",
       "      <th>sky</th>\n",
       "      <th>total_runs</th>\n",
       "      <th>game_hours_dec</th>\n",
       "      <th>season</th>\n",
       "      <th>h_t_win</th>\n",
       "      <th>h_t_loss</th>\n",
       "      <th>h_t_outcome</th>\n",
       "    </tr>\n",
       "  </thead>\n",
       "  <tbody>\n",
       "    <tr>\n",
       "      <th>220</th>\n",
       "      <td>NaN</td>\n",
       "      <td>St. Louis Cardinals</td>\n",
       "      <td>1</td>\n",
       "      <td>8</td>\n",
       "      <td>3</td>\n",
       "      <td>2016-07-26</td>\n",
       "      <td>on grass</td>\n",
       "      <td>Day Game</td>\n",
       "      <td>New York Mets</td>\n",
       "      <td>1</td>\n",
       "      <td>7</td>\n",
       "      <td>2</td>\n",
       "      <td>4:11 p.m. Local</td>\n",
       "      <td>Citi Field</td>\n",
       "      <td>Tuesday</td>\n",
       "      <td>90.0</td>\n",
       "      <td>11.0</td>\n",
       "      <td>out to Rightfield</td>\n",
       "      <td>Cloudy</td>\n",
       "      <td>5</td>\n",
       "      <td>3.300000</td>\n",
       "      <td>regular season</td>\n",
       "      <td>0</td>\n",
       "      <td>1</td>\n",
       "      <td>Loss</td>\n",
       "    </tr>\n",
       "    <tr>\n",
       "      <th>1724</th>\n",
       "      <td>NaN</td>\n",
       "      <td>New York Mets</td>\n",
       "      <td>0</td>\n",
       "      <td>5</td>\n",
       "      <td>1</td>\n",
       "      <td>2016-06-07</td>\n",
       "      <td>on grass</td>\n",
       "      <td>Day Game</td>\n",
       "      <td>Pittsburgh Pirates</td>\n",
       "      <td>0</td>\n",
       "      <td>10</td>\n",
       "      <td>3</td>\n",
       "      <td>4:08 p.m. Local</td>\n",
       "      <td>PNC Park</td>\n",
       "      <td>Tuesday</td>\n",
       "      <td>65.0</td>\n",
       "      <td>17.0</td>\n",
       "      <td>out to Centerfield</td>\n",
       "      <td>Cloudy</td>\n",
       "      <td>4</td>\n",
       "      <td>2.666667</td>\n",
       "      <td>regular season</td>\n",
       "      <td>1</td>\n",
       "      <td>0</td>\n",
       "      <td>Win</td>\n",
       "    </tr>\n",
       "    <tr>\n",
       "      <th>1912</th>\n",
       "      <td>NaN</td>\n",
       "      <td>Cleveland Indians</td>\n",
       "      <td>2</td>\n",
       "      <td>7</td>\n",
       "      <td>6</td>\n",
       "      <td>2016-05-23</td>\n",
       "      <td>on grass</td>\n",
       "      <td>Day Game</td>\n",
       "      <td>Chicago White Sox</td>\n",
       "      <td>0</td>\n",
       "      <td>10</td>\n",
       "      <td>7</td>\n",
       "      <td>4:10 p.m. Local</td>\n",
       "      <td>U.S. Cellular Field</td>\n",
       "      <td>Monday</td>\n",
       "      <td>82.0</td>\n",
       "      <td>11.0</td>\n",
       "      <td>in from Leftfield</td>\n",
       "      <td>Sunny</td>\n",
       "      <td>13</td>\n",
       "      <td>3.166667</td>\n",
       "      <td>regular season</td>\n",
       "      <td>1</td>\n",
       "      <td>0</td>\n",
       "      <td>Win</td>\n",
       "    </tr>\n",
       "  </tbody>\n",
       "</table>\n",
       "</div>"
      ],
      "text/plain": [
       "      attendance            away_team  a_t_errors  a_t_hits  a_t_runs  \\\n",
       "220          NaN  St. Louis Cardinals           1         8         3   \n",
       "1724         NaN        New York Mets           0         5         1   \n",
       "1912         NaN    Cleveland Indians           2         7         6   \n",
       "\n",
       "            date field_type game_type           home_team  h_t_errors  \\\n",
       "220   2016-07-26   on grass  Day Game       New York Mets           1   \n",
       "1724  2016-06-07   on grass  Day Game  Pittsburgh Pirates           0   \n",
       "1912  2016-05-23   on grass  Day Game   Chicago White Sox           0   \n",
       "\n",
       "      h_t_hits  h_t_runs       start_time                venue day_of_week  \\\n",
       "220          7         2  4:11 p.m. Local           Citi Field     Tuesday   \n",
       "1724        10         3  4:08 p.m. Local             PNC Park     Tuesday   \n",
       "1912        10         7  4:10 p.m. Local  U.S. Cellular Field      Monday   \n",
       "\n",
       "      temp  wind_speed       wind_direction     sky  total_runs  \\\n",
       "220   90.0        11.0    out to Rightfield  Cloudy           5   \n",
       "1724  65.0        17.0   out to Centerfield  Cloudy           4   \n",
       "1912  82.0        11.0    in from Leftfield   Sunny          13   \n",
       "\n",
       "      game_hours_dec          season  h_t_win  h_t_loss h_t_outcome  \n",
       "220         3.300000  regular season        0         1        Loss  \n",
       "1724        2.666667  regular season        1         0         Win  \n",
       "1912        3.166667  regular season        1         0         Win  "
      ]
     },
     "execution_count": 13,
     "metadata": {},
     "output_type": "execute_result"
    }
   ],
   "source": [
    "data.loc[pd.isnull( data['attendance'])].head()"
   ]
  },
  {
   "cell_type": "code",
   "execution_count": 14,
   "metadata": {},
   "outputs": [
    {
     "name": "stdout",
     "output_type": "stream",
     "text": [
      "<class 'pandas.core.frame.DataFrame'>\n",
      "RangeIndex: 2463 entries, 0 to 2462\n",
      "Data columns (total 25 columns):\n",
      " #   Column          Non-Null Count  Dtype  \n",
      "---  ------          --------------  -----  \n",
      " 0   attendance      2463 non-null   float64\n",
      " 1   away_team       2463 non-null   object \n",
      " 2   a_t_errors      2463 non-null   int64  \n",
      " 3   a_t_hits        2463 non-null   int64  \n",
      " 4   a_t_runs        2463 non-null   int64  \n",
      " 5   date            2463 non-null   object \n",
      " 6   field_type      2463 non-null   object \n",
      " 7   game_type       2463 non-null   object \n",
      " 8   home_team       2463 non-null   object \n",
      " 9   h_t_errors      2463 non-null   int64  \n",
      " 10  h_t_hits        2463 non-null   int64  \n",
      " 11  h_t_runs        2463 non-null   int64  \n",
      " 12  start_time      2463 non-null   object \n",
      " 13  venue           2463 non-null   object \n",
      " 14  day_of_week     2463 non-null   object \n",
      " 15  temp            2463 non-null   float64\n",
      " 16  wind_speed      2463 non-null   float64\n",
      " 17  wind_direction  2463 non-null   object \n",
      " 18  sky             2463 non-null   object \n",
      " 19  total_runs      2463 non-null   int64  \n",
      " 20  game_hours_dec  2463 non-null   float64\n",
      " 21  season          2463 non-null   object \n",
      " 22  h_t_win         2463 non-null   int64  \n",
      " 23  h_t_loss        2463 non-null   int64  \n",
      " 24  h_t_outcome     2463 non-null   object \n",
      "dtypes: float64(4), int64(9), object(12)\n",
      "memory usage: 481.2+ KB\n"
     ]
    }
   ],
   "source": [
    "median_attendance = round(data['attendance'].median(), 0)\n",
    "data.fillna( {'attendance': median_attendance}, inplace = True )\n",
    "data.info()"
   ]
  },
  {
   "cell_type": "markdown",
   "metadata": {},
   "source": [
    "Увидел в задании отбор по температуре, решил перевести Фарингейты в более понятные нам Цельсии с округлением до одной десятой. И переименовал колонку."
   ]
  },
  {
   "cell_type": "code",
   "execution_count": 16,
   "metadata": {},
   "outputs": [
    {
     "data": {
      "text/html": [
       "<div>\n",
       "<style scoped>\n",
       "    .dataframe tbody tr th:only-of-type {\n",
       "        vertical-align: middle;\n",
       "    }\n",
       "\n",
       "    .dataframe tbody tr th {\n",
       "        vertical-align: top;\n",
       "    }\n",
       "\n",
       "    .dataframe thead th {\n",
       "        text-align: right;\n",
       "    }\n",
       "</style>\n",
       "<table border=\"1\" class=\"dataframe\">\n",
       "  <thead>\n",
       "    <tr style=\"text-align: right;\">\n",
       "      <th></th>\n",
       "      <th>attendance</th>\n",
       "      <th>away_team</th>\n",
       "      <th>a_t_errors</th>\n",
       "      <th>a_t_hits</th>\n",
       "      <th>a_t_runs</th>\n",
       "      <th>date</th>\n",
       "      <th>field_type</th>\n",
       "      <th>game_type</th>\n",
       "      <th>home_team</th>\n",
       "      <th>h_t_errors</th>\n",
       "      <th>h_t_hits</th>\n",
       "      <th>h_t_runs</th>\n",
       "      <th>start_time</th>\n",
       "      <th>venue</th>\n",
       "      <th>day_of_week</th>\n",
       "      <th>temp_C</th>\n",
       "      <th>wind_speed</th>\n",
       "      <th>wind_direction</th>\n",
       "      <th>sky</th>\n",
       "      <th>total_runs</th>\n",
       "      <th>game_hours_dec</th>\n",
       "      <th>season</th>\n",
       "      <th>h_t_win</th>\n",
       "      <th>h_t_loss</th>\n",
       "      <th>h_t_outcome</th>\n",
       "    </tr>\n",
       "  </thead>\n",
       "  <tbody>\n",
       "    <tr>\n",
       "      <th>0</th>\n",
       "      <td>40030.0</td>\n",
       "      <td>New York Mets</td>\n",
       "      <td>1</td>\n",
       "      <td>7</td>\n",
       "      <td>3</td>\n",
       "      <td>2016-04-03</td>\n",
       "      <td>on grass</td>\n",
       "      <td>Night Game</td>\n",
       "      <td>Kansas City Royals</td>\n",
       "      <td>0</td>\n",
       "      <td>9</td>\n",
       "      <td>4</td>\n",
       "      <td>7:38 p.m. Local</td>\n",
       "      <td>Kauffman Stadium</td>\n",
       "      <td>Sunday</td>\n",
       "      <td>23.3</td>\n",
       "      <td>14.0</td>\n",
       "      <td>from Right to Left</td>\n",
       "      <td>Sunny</td>\n",
       "      <td>7</td>\n",
       "      <td>3.216667</td>\n",
       "      <td>regular season</td>\n",
       "      <td>1</td>\n",
       "      <td>0</td>\n",
       "      <td>Win</td>\n",
       "    </tr>\n",
       "    <tr>\n",
       "      <th>1</th>\n",
       "      <td>21621.0</td>\n",
       "      <td>Philadelphia Phillies</td>\n",
       "      <td>0</td>\n",
       "      <td>5</td>\n",
       "      <td>2</td>\n",
       "      <td>2016-04-06</td>\n",
       "      <td>on grass</td>\n",
       "      <td>Night Game</td>\n",
       "      <td>Cincinnati Reds</td>\n",
       "      <td>0</td>\n",
       "      <td>8</td>\n",
       "      <td>3</td>\n",
       "      <td>7:11 p.m. Local</td>\n",
       "      <td>Great American Ball Park</td>\n",
       "      <td>Wednesday</td>\n",
       "      <td>12.8</td>\n",
       "      <td>24.0</td>\n",
       "      <td>from Right to Left</td>\n",
       "      <td>Overcast</td>\n",
       "      <td>5</td>\n",
       "      <td>2.383333</td>\n",
       "      <td>regular season</td>\n",
       "      <td>1</td>\n",
       "      <td>0</td>\n",
       "      <td>Win</td>\n",
       "    </tr>\n",
       "    <tr>\n",
       "      <th>2</th>\n",
       "      <td>12622.0</td>\n",
       "      <td>Minnesota Twins</td>\n",
       "      <td>0</td>\n",
       "      <td>5</td>\n",
       "      <td>2</td>\n",
       "      <td>2016-04-06</td>\n",
       "      <td>on grass</td>\n",
       "      <td>Night Game</td>\n",
       "      <td>Baltimore Orioles</td>\n",
       "      <td>0</td>\n",
       "      <td>9</td>\n",
       "      <td>4</td>\n",
       "      <td>7:07 p.m. Local</td>\n",
       "      <td>Oriole Park at Camden Yards</td>\n",
       "      <td>Wednesday</td>\n",
       "      <td>8.9</td>\n",
       "      <td>7.0</td>\n",
       "      <td>out to Leftfield</td>\n",
       "      <td>Unknown</td>\n",
       "      <td>6</td>\n",
       "      <td>3.183333</td>\n",
       "      <td>regular season</td>\n",
       "      <td>1</td>\n",
       "      <td>0</td>\n",
       "      <td>Win</td>\n",
       "    </tr>\n",
       "    <tr>\n",
       "      <th>3</th>\n",
       "      <td>18531.0</td>\n",
       "      <td>Washington Nationals</td>\n",
       "      <td>0</td>\n",
       "      <td>8</td>\n",
       "      <td>3</td>\n",
       "      <td>2016-04-06</td>\n",
       "      <td>on grass</td>\n",
       "      <td>Night Game</td>\n",
       "      <td>Atlanta Braves</td>\n",
       "      <td>1</td>\n",
       "      <td>8</td>\n",
       "      <td>1</td>\n",
       "      <td>7:10 p.m. Local</td>\n",
       "      <td>Turner Field</td>\n",
       "      <td>Wednesday</td>\n",
       "      <td>18.3</td>\n",
       "      <td>10.0</td>\n",
       "      <td>from Right to Left</td>\n",
       "      <td>Cloudy</td>\n",
       "      <td>4</td>\n",
       "      <td>2.883333</td>\n",
       "      <td>regular season</td>\n",
       "      <td>0</td>\n",
       "      <td>1</td>\n",
       "      <td>Loss</td>\n",
       "    </tr>\n",
       "    <tr>\n",
       "      <th>4</th>\n",
       "      <td>18572.0</td>\n",
       "      <td>Colorado Rockies</td>\n",
       "      <td>1</td>\n",
       "      <td>8</td>\n",
       "      <td>4</td>\n",
       "      <td>2016-04-06</td>\n",
       "      <td>on grass</td>\n",
       "      <td>Day Game</td>\n",
       "      <td>Arizona Diamondbacks</td>\n",
       "      <td>0</td>\n",
       "      <td>8</td>\n",
       "      <td>3</td>\n",
       "      <td>12:40 p.m. Local</td>\n",
       "      <td>Chase Field</td>\n",
       "      <td>Wednesday</td>\n",
       "      <td>25.0</td>\n",
       "      <td>0.0</td>\n",
       "      <td>in unknown direction</td>\n",
       "      <td>In Dome</td>\n",
       "      <td>7</td>\n",
       "      <td>2.650000</td>\n",
       "      <td>regular season</td>\n",
       "      <td>0</td>\n",
       "      <td>1</td>\n",
       "      <td>Loss</td>\n",
       "    </tr>\n",
       "    <tr>\n",
       "      <th>...</th>\n",
       "      <td>...</td>\n",
       "      <td>...</td>\n",
       "      <td>...</td>\n",
       "      <td>...</td>\n",
       "      <td>...</td>\n",
       "      <td>...</td>\n",
       "      <td>...</td>\n",
       "      <td>...</td>\n",
       "      <td>...</td>\n",
       "      <td>...</td>\n",
       "      <td>...</td>\n",
       "      <td>...</td>\n",
       "      <td>...</td>\n",
       "      <td>...</td>\n",
       "      <td>...</td>\n",
       "      <td>...</td>\n",
       "      <td>...</td>\n",
       "      <td>...</td>\n",
       "      <td>...</td>\n",
       "      <td>...</td>\n",
       "      <td>...</td>\n",
       "      <td>...</td>\n",
       "      <td>...</td>\n",
       "      <td>...</td>\n",
       "      <td>...</td>\n",
       "    </tr>\n",
       "    <tr>\n",
       "      <th>2458</th>\n",
       "      <td>31042.0</td>\n",
       "      <td>Toronto Blue Jays</td>\n",
       "      <td>2</td>\n",
       "      <td>7</td>\n",
       "      <td>5</td>\n",
       "      <td>2016-04-03</td>\n",
       "      <td>on turf</td>\n",
       "      <td>Day Game</td>\n",
       "      <td>Tampa Bay Rays</td>\n",
       "      <td>1</td>\n",
       "      <td>7</td>\n",
       "      <td>3</td>\n",
       "      <td>4:09 p.m. Local</td>\n",
       "      <td>Tropicana Field</td>\n",
       "      <td>Sunday</td>\n",
       "      <td>22.2</td>\n",
       "      <td>0.0</td>\n",
       "      <td>in unknown direction</td>\n",
       "      <td>In Dome</td>\n",
       "      <td>8</td>\n",
       "      <td>2.850000</td>\n",
       "      <td>regular season</td>\n",
       "      <td>0</td>\n",
       "      <td>1</td>\n",
       "      <td>Loss</td>\n",
       "    </tr>\n",
       "    <tr>\n",
       "      <th>2459</th>\n",
       "      <td>39500.0</td>\n",
       "      <td>St. Louis Cardinals</td>\n",
       "      <td>0</td>\n",
       "      <td>5</td>\n",
       "      <td>1</td>\n",
       "      <td>2016-04-03</td>\n",
       "      <td>on grass</td>\n",
       "      <td>Day Game</td>\n",
       "      <td>Pittsburgh Pirates</td>\n",
       "      <td>1</td>\n",
       "      <td>9</td>\n",
       "      <td>4</td>\n",
       "      <td>1:15 p.m. Local</td>\n",
       "      <td>PNC Park</td>\n",
       "      <td>Sunday</td>\n",
       "      <td>3.9</td>\n",
       "      <td>14.0</td>\n",
       "      <td>out to Leftfield</td>\n",
       "      <td>Unknown</td>\n",
       "      <td>5</td>\n",
       "      <td>3.033333</td>\n",
       "      <td>regular season</td>\n",
       "      <td>1</td>\n",
       "      <td>0</td>\n",
       "      <td>Win</td>\n",
       "    </tr>\n",
       "    <tr>\n",
       "      <th>2460</th>\n",
       "      <td>20098.0</td>\n",
       "      <td>San Francisco Giants</td>\n",
       "      <td>0</td>\n",
       "      <td>6</td>\n",
       "      <td>3</td>\n",
       "      <td>2016-04-06</td>\n",
       "      <td>on grass</td>\n",
       "      <td>Day Game</td>\n",
       "      <td>Milwaukee Brewers</td>\n",
       "      <td>2</td>\n",
       "      <td>9</td>\n",
       "      <td>4</td>\n",
       "      <td>12:41 p.m. Local</td>\n",
       "      <td>Miller Park</td>\n",
       "      <td>Wednesday</td>\n",
       "      <td>18.9</td>\n",
       "      <td>0.0</td>\n",
       "      <td>in unknown direction</td>\n",
       "      <td>In Dome</td>\n",
       "      <td>7</td>\n",
       "      <td>3.316667</td>\n",
       "      <td>regular season</td>\n",
       "      <td>1</td>\n",
       "      <td>0</td>\n",
       "      <td>Win</td>\n",
       "    </tr>\n",
       "    <tr>\n",
       "      <th>2461</th>\n",
       "      <td>17883.0</td>\n",
       "      <td>Detroit Tigers</td>\n",
       "      <td>0</td>\n",
       "      <td>13</td>\n",
       "      <td>7</td>\n",
       "      <td>2016-04-06</td>\n",
       "      <td>on grass</td>\n",
       "      <td>Day Game</td>\n",
       "      <td>Miami Marlins</td>\n",
       "      <td>1</td>\n",
       "      <td>10</td>\n",
       "      <td>3</td>\n",
       "      <td>4:57 p.m. Local</td>\n",
       "      <td>Marlins Park</td>\n",
       "      <td>Wednesday</td>\n",
       "      <td>21.7</td>\n",
       "      <td>0.0</td>\n",
       "      <td>in unknown direction</td>\n",
       "      <td>In Dome</td>\n",
       "      <td>10</td>\n",
       "      <td>3.366667</td>\n",
       "      <td>regular season</td>\n",
       "      <td>0</td>\n",
       "      <td>1</td>\n",
       "      <td>Loss</td>\n",
       "    </tr>\n",
       "    <tr>\n",
       "      <th>2462</th>\n",
       "      <td>10298.0</td>\n",
       "      <td>Boston Red Sox</td>\n",
       "      <td>1</td>\n",
       "      <td>10</td>\n",
       "      <td>6</td>\n",
       "      <td>2016-04-06</td>\n",
       "      <td>on grass</td>\n",
       "      <td>Night Game</td>\n",
       "      <td>Cleveland Indians</td>\n",
       "      <td>0</td>\n",
       "      <td>9</td>\n",
       "      <td>7</td>\n",
       "      <td>6:22 p.m. Local</td>\n",
       "      <td>Progressive Field</td>\n",
       "      <td>Wednesday</td>\n",
       "      <td>15.6</td>\n",
       "      <td>7.0</td>\n",
       "      <td>out to Leftfield</td>\n",
       "      <td>Unknown</td>\n",
       "      <td>13</td>\n",
       "      <td>3.483333</td>\n",
       "      <td>regular season</td>\n",
       "      <td>1</td>\n",
       "      <td>0</td>\n",
       "      <td>Win</td>\n",
       "    </tr>\n",
       "  </tbody>\n",
       "</table>\n",
       "<p>2463 rows × 25 columns</p>\n",
       "</div>"
      ],
      "text/plain": [
       "      attendance              away_team  a_t_errors  a_t_hits  a_t_runs  \\\n",
       "0        40030.0          New York Mets           1         7         3   \n",
       "1        21621.0  Philadelphia Phillies           0         5         2   \n",
       "2        12622.0        Minnesota Twins           0         5         2   \n",
       "3        18531.0   Washington Nationals           0         8         3   \n",
       "4        18572.0       Colorado Rockies           1         8         4   \n",
       "...          ...                    ...         ...       ...       ...   \n",
       "2458     31042.0      Toronto Blue Jays           2         7         5   \n",
       "2459     39500.0    St. Louis Cardinals           0         5         1   \n",
       "2460     20098.0   San Francisco Giants           0         6         3   \n",
       "2461     17883.0         Detroit Tigers           0        13         7   \n",
       "2462     10298.0         Boston Red Sox           1        10         6   \n",
       "\n",
       "            date field_type   game_type             home_team  h_t_errors  \\\n",
       "0     2016-04-03   on grass  Night Game    Kansas City Royals           0   \n",
       "1     2016-04-06   on grass  Night Game       Cincinnati Reds           0   \n",
       "2     2016-04-06   on grass  Night Game     Baltimore Orioles           0   \n",
       "3     2016-04-06   on grass  Night Game        Atlanta Braves           1   \n",
       "4     2016-04-06   on grass    Day Game  Arizona Diamondbacks           0   \n",
       "...          ...        ...         ...                   ...         ...   \n",
       "2458  2016-04-03    on turf    Day Game        Tampa Bay Rays           1   \n",
       "2459  2016-04-03   on grass    Day Game    Pittsburgh Pirates           1   \n",
       "2460  2016-04-06   on grass    Day Game     Milwaukee Brewers           2   \n",
       "2461  2016-04-06   on grass    Day Game         Miami Marlins           1   \n",
       "2462  2016-04-06   on grass  Night Game     Cleveland Indians           0   \n",
       "\n",
       "      h_t_hits  h_t_runs        start_time                        venue  \\\n",
       "0            9         4   7:38 p.m. Local             Kauffman Stadium   \n",
       "1            8         3   7:11 p.m. Local     Great American Ball Park   \n",
       "2            9         4   7:07 p.m. Local  Oriole Park at Camden Yards   \n",
       "3            8         1   7:10 p.m. Local                 Turner Field   \n",
       "4            8         3  12:40 p.m. Local                  Chase Field   \n",
       "...        ...       ...               ...                          ...   \n",
       "2458         7         3   4:09 p.m. Local              Tropicana Field   \n",
       "2459         9         4   1:15 p.m. Local                     PNC Park   \n",
       "2460         9         4  12:41 p.m. Local                  Miller Park   \n",
       "2461        10         3   4:57 p.m. Local                 Marlins Park   \n",
       "2462         9         7   6:22 p.m. Local            Progressive Field   \n",
       "\n",
       "     day_of_week  temp_C  wind_speed         wind_direction       sky  \\\n",
       "0         Sunday    23.3        14.0     from Right to Left     Sunny   \n",
       "1      Wednesday    12.8        24.0     from Right to Left  Overcast   \n",
       "2      Wednesday     8.9         7.0       out to Leftfield   Unknown   \n",
       "3      Wednesday    18.3        10.0     from Right to Left    Cloudy   \n",
       "4      Wednesday    25.0         0.0   in unknown direction   In Dome   \n",
       "...          ...     ...         ...                    ...       ...   \n",
       "2458      Sunday    22.2         0.0   in unknown direction   In Dome   \n",
       "2459      Sunday     3.9        14.0       out to Leftfield   Unknown   \n",
       "2460   Wednesday    18.9         0.0   in unknown direction   In Dome   \n",
       "2461   Wednesday    21.7         0.0   in unknown direction   In Dome   \n",
       "2462   Wednesday    15.6         7.0       out to Leftfield   Unknown   \n",
       "\n",
       "      total_runs  game_hours_dec          season  h_t_win  h_t_loss  \\\n",
       "0              7        3.216667  regular season        1         0   \n",
       "1              5        2.383333  regular season        1         0   \n",
       "2              6        3.183333  regular season        1         0   \n",
       "3              4        2.883333  regular season        0         1   \n",
       "4              7        2.650000  regular season        0         1   \n",
       "...          ...             ...             ...      ...       ...   \n",
       "2458           8        2.850000  regular season        0         1   \n",
       "2459           5        3.033333  regular season        1         0   \n",
       "2460           7        3.316667  regular season        1         0   \n",
       "2461          10        3.366667  regular season        0         1   \n",
       "2462          13        3.483333  regular season        1         0   \n",
       "\n",
       "     h_t_outcome  \n",
       "0            Win  \n",
       "1            Win  \n",
       "2            Win  \n",
       "3           Loss  \n",
       "4           Loss  \n",
       "...          ...  \n",
       "2458        Loss  \n",
       "2459         Win  \n",
       "2460         Win  \n",
       "2461        Loss  \n",
       "2462         Win  \n",
       "\n",
       "[2463 rows x 25 columns]"
      ]
     },
     "execution_count": 16,
     "metadata": {},
     "output_type": "execute_result"
    }
   ],
   "source": [
    "data['temp'] = data['temp'].apply(lambda x: round((x-32) * 5/9, 1))\n",
    "data.rename( columns={'temp': 'temp_C'}, inplace=True)\n",
    "data"
   ]
  },
  {
   "cell_type": "markdown",
   "metadata": {},
   "source": [
    "Очистка и форматирование завершены"
   ]
  },
  {
   "cell_type": "markdown",
   "metadata": {
    "pycharm": {
     "name": "#%% md\n"
    }
   },
   "source": [
    "# 1. На какую игру пришло максимальное количество зрителей за весь сезон игр?"
   ]
  },
  {
   "cell_type": "markdown",
   "metadata": {},
   "source": [
    "Отсортируем по количеству зрителей, при помощи sort_values и выведем первый результат, при помощи head(1), ascending=False - означает сортировка по убыванию. Максимальное количество зрителей 54_449 человек."
   ]
  },
  {
   "cell_type": "code",
   "execution_count": 20,
   "metadata": {
    "pycharm": {
     "name": "#%%\n"
    }
   },
   "outputs": [
    {
     "data": {
      "text/html": [
       "<div>\n",
       "<style scoped>\n",
       "    .dataframe tbody tr th:only-of-type {\n",
       "        vertical-align: middle;\n",
       "    }\n",
       "\n",
       "    .dataframe tbody tr th {\n",
       "        vertical-align: top;\n",
       "    }\n",
       "\n",
       "    .dataframe thead th {\n",
       "        text-align: right;\n",
       "    }\n",
       "</style>\n",
       "<table border=\"1\" class=\"dataframe\">\n",
       "  <thead>\n",
       "    <tr style=\"text-align: right;\">\n",
       "      <th></th>\n",
       "      <th>attendance</th>\n",
       "      <th>away_team</th>\n",
       "      <th>a_t_errors</th>\n",
       "      <th>a_t_hits</th>\n",
       "      <th>a_t_runs</th>\n",
       "      <th>date</th>\n",
       "      <th>field_type</th>\n",
       "      <th>game_type</th>\n",
       "      <th>home_team</th>\n",
       "      <th>h_t_errors</th>\n",
       "      <th>h_t_hits</th>\n",
       "      <th>h_t_runs</th>\n",
       "      <th>start_time</th>\n",
       "      <th>venue</th>\n",
       "      <th>day_of_week</th>\n",
       "      <th>temp_C</th>\n",
       "      <th>wind_speed</th>\n",
       "      <th>wind_direction</th>\n",
       "      <th>sky</th>\n",
       "      <th>total_runs</th>\n",
       "      <th>game_hours_dec</th>\n",
       "      <th>season</th>\n",
       "      <th>h_t_win</th>\n",
       "      <th>h_t_loss</th>\n",
       "      <th>h_t_outcome</th>\n",
       "    </tr>\n",
       "  </thead>\n",
       "  <tbody>\n",
       "    <tr>\n",
       "      <th>360</th>\n",
       "      <td>54449.0</td>\n",
       "      <td>Chicago Cubs</td>\n",
       "      <td>2</td>\n",
       "      <td>13</td>\n",
       "      <td>10</td>\n",
       "      <td>2016-10-19</td>\n",
       "      <td>on grass</td>\n",
       "      <td>Night Game</td>\n",
       "      <td>Los Angeles Dodgers</td>\n",
       "      <td>4</td>\n",
       "      <td>6</td>\n",
       "      <td>2</td>\n",
       "      <td>5:10 p.m. Local</td>\n",
       "      <td>Dodger Stadium</td>\n",
       "      <td>Wednesday</td>\n",
       "      <td>31.7</td>\n",
       "      <td>4.0</td>\n",
       "      <td>out to Rightfield</td>\n",
       "      <td>Night</td>\n",
       "      <td>12</td>\n",
       "      <td>3.966667</td>\n",
       "      <td>post season</td>\n",
       "      <td>0</td>\n",
       "      <td>1</td>\n",
       "      <td>Loss</td>\n",
       "    </tr>\n",
       "  </tbody>\n",
       "</table>\n",
       "</div>"
      ],
      "text/plain": [
       "     attendance     away_team  a_t_errors  a_t_hits  a_t_runs        date  \\\n",
       "360     54449.0  Chicago Cubs           2        13        10  2016-10-19   \n",
       "\n",
       "    field_type   game_type            home_team  h_t_errors  h_t_hits  \\\n",
       "360   on grass  Night Game  Los Angeles Dodgers           4         6   \n",
       "\n",
       "     h_t_runs       start_time           venue day_of_week  temp_C  \\\n",
       "360         2  5:10 p.m. Local  Dodger Stadium   Wednesday    31.7   \n",
       "\n",
       "     wind_speed      wind_direction    sky  total_runs  game_hours_dec  \\\n",
       "360         4.0   out to Rightfield  Night          12        3.966667   \n",
       "\n",
       "          season  h_t_win  h_t_loss h_t_outcome  \n",
       "360  post season        0         1        Loss  "
      ]
     },
     "execution_count": 20,
     "metadata": {},
     "output_type": "execute_result"
    }
   ],
   "source": [
    "data.sort_values( by='attendance', ascending=False).head(1)"
   ]
  },
  {
   "cell_type": "markdown",
   "metadata": {
    "pycharm": {
     "name": "#%% md\n"
    }
   },
   "source": [
    "# 2. Какая игра была самая холодная (temperature) за весь сезон?"
   ]
  },
  {
   "cell_type": "markdown",
   "metadata": {},
   "source": [
    "Сортируем по колонке температуры и выводим первую строку при помощи head(1). Температура самой холодной игры сезона -0.6 градуса"
   ]
  },
  {
   "cell_type": "code",
   "execution_count": 23,
   "metadata": {
    "pycharm": {
     "name": "#%%\n"
    }
   },
   "outputs": [
    {
     "data": {
      "text/html": [
       "<div>\n",
       "<style scoped>\n",
       "    .dataframe tbody tr th:only-of-type {\n",
       "        vertical-align: middle;\n",
       "    }\n",
       "\n",
       "    .dataframe tbody tr th {\n",
       "        vertical-align: top;\n",
       "    }\n",
       "\n",
       "    .dataframe thead th {\n",
       "        text-align: right;\n",
       "    }\n",
       "</style>\n",
       "<table border=\"1\" class=\"dataframe\">\n",
       "  <thead>\n",
       "    <tr style=\"text-align: right;\">\n",
       "      <th></th>\n",
       "      <th>attendance</th>\n",
       "      <th>away_team</th>\n",
       "      <th>a_t_errors</th>\n",
       "      <th>a_t_hits</th>\n",
       "      <th>a_t_runs</th>\n",
       "      <th>date</th>\n",
       "      <th>field_type</th>\n",
       "      <th>game_type</th>\n",
       "      <th>home_team</th>\n",
       "      <th>h_t_errors</th>\n",
       "      <th>h_t_hits</th>\n",
       "      <th>h_t_runs</th>\n",
       "      <th>start_time</th>\n",
       "      <th>venue</th>\n",
       "      <th>day_of_week</th>\n",
       "      <th>temp_C</th>\n",
       "      <th>wind_speed</th>\n",
       "      <th>wind_direction</th>\n",
       "      <th>sky</th>\n",
       "      <th>total_runs</th>\n",
       "      <th>game_hours_dec</th>\n",
       "      <th>season</th>\n",
       "      <th>h_t_win</th>\n",
       "      <th>h_t_loss</th>\n",
       "      <th>h_t_outcome</th>\n",
       "    </tr>\n",
       "  </thead>\n",
       "  <tbody>\n",
       "    <tr>\n",
       "      <th>2409</th>\n",
       "      <td>32419.0</td>\n",
       "      <td>New York Yankees</td>\n",
       "      <td>1</td>\n",
       "      <td>13</td>\n",
       "      <td>8</td>\n",
       "      <td>2016-04-09</td>\n",
       "      <td>on grass</td>\n",
       "      <td>Day Game</td>\n",
       "      <td>Detroit Tigers</td>\n",
       "      <td>1</td>\n",
       "      <td>7</td>\n",
       "      <td>4</td>\n",
       "      <td>1:10 p.m. Local</td>\n",
       "      <td>Comerica Park</td>\n",
       "      <td>Saturday</td>\n",
       "      <td>-0.6</td>\n",
       "      <td>18.0</td>\n",
       "      <td>from Left to Right</td>\n",
       "      <td>Cloudy</td>\n",
       "      <td>12</td>\n",
       "      <td>3.333333</td>\n",
       "      <td>regular season</td>\n",
       "      <td>0</td>\n",
       "      <td>1</td>\n",
       "      <td>Loss</td>\n",
       "    </tr>\n",
       "  </tbody>\n",
       "</table>\n",
       "</div>"
      ],
      "text/plain": [
       "      attendance         away_team  a_t_errors  a_t_hits  a_t_runs  \\\n",
       "2409     32419.0  New York Yankees           1        13         8   \n",
       "\n",
       "            date field_type game_type       home_team  h_t_errors  h_t_hits  \\\n",
       "2409  2016-04-09   on grass  Day Game  Detroit Tigers           1         7   \n",
       "\n",
       "      h_t_runs       start_time          venue day_of_week  temp_C  \\\n",
       "2409         4  1:10 p.m. Local  Comerica Park    Saturday    -0.6   \n",
       "\n",
       "      wind_speed       wind_direction     sky  total_runs  game_hours_dec  \\\n",
       "2409        18.0   from Left to Right  Cloudy          12        3.333333   \n",
       "\n",
       "              season  h_t_win  h_t_loss h_t_outcome  \n",
       "2409  regular season        0         1        Loss  "
      ]
     },
     "execution_count": 23,
     "metadata": {},
     "output_type": "execute_result"
    }
   ],
   "source": [
    "data.sort_values( by='temp_C' ).head(1)"
   ]
  },
  {
   "cell_type": "markdown",
   "metadata": {
    "pycharm": {
     "name": "#%% md\n"
    }
   },
   "source": [
    "# 3. Какая игра была самая теплая за весь сезон?"
   ]
  },
  {
   "cell_type": "markdown",
   "metadata": {},
   "source": [
    "Так же сортируем, но выводим первую строку с конца tail(1), температура самой тёплой игры сезона 38.3 градуса"
   ]
  },
  {
   "cell_type": "code",
   "execution_count": 26,
   "metadata": {
    "pycharm": {
     "name": "#%%\n"
    }
   },
   "outputs": [
    {
     "data": {
      "text/html": [
       "<div>\n",
       "<style scoped>\n",
       "    .dataframe tbody tr th:only-of-type {\n",
       "        vertical-align: middle;\n",
       "    }\n",
       "\n",
       "    .dataframe tbody tr th {\n",
       "        vertical-align: top;\n",
       "    }\n",
       "\n",
       "    .dataframe thead th {\n",
       "        text-align: right;\n",
       "    }\n",
       "</style>\n",
       "<table border=\"1\" class=\"dataframe\">\n",
       "  <thead>\n",
       "    <tr style=\"text-align: right;\">\n",
       "      <th></th>\n",
       "      <th>attendance</th>\n",
       "      <th>away_team</th>\n",
       "      <th>a_t_errors</th>\n",
       "      <th>a_t_hits</th>\n",
       "      <th>a_t_runs</th>\n",
       "      <th>date</th>\n",
       "      <th>field_type</th>\n",
       "      <th>game_type</th>\n",
       "      <th>home_team</th>\n",
       "      <th>h_t_errors</th>\n",
       "      <th>h_t_hits</th>\n",
       "      <th>h_t_runs</th>\n",
       "      <th>start_time</th>\n",
       "      <th>venue</th>\n",
       "      <th>day_of_week</th>\n",
       "      <th>temp_C</th>\n",
       "      <th>wind_speed</th>\n",
       "      <th>wind_direction</th>\n",
       "      <th>sky</th>\n",
       "      <th>total_runs</th>\n",
       "      <th>game_hours_dec</th>\n",
       "      <th>season</th>\n",
       "      <th>h_t_win</th>\n",
       "      <th>h_t_loss</th>\n",
       "      <th>h_t_outcome</th>\n",
       "    </tr>\n",
       "  </thead>\n",
       "  <tbody>\n",
       "    <tr>\n",
       "      <th>2026</th>\n",
       "      <td>21753.0</td>\n",
       "      <td>San Francisco Giants</td>\n",
       "      <td>0</td>\n",
       "      <td>8</td>\n",
       "      <td>3</td>\n",
       "      <td>2016-05-13</td>\n",
       "      <td>on grass</td>\n",
       "      <td>Night Game</td>\n",
       "      <td>Arizona Diamondbacks</td>\n",
       "      <td>0</td>\n",
       "      <td>8</td>\n",
       "      <td>1</td>\n",
       "      <td>6:40 p.m. Local</td>\n",
       "      <td>Chase Field</td>\n",
       "      <td>Friday</td>\n",
       "      <td>38.3</td>\n",
       "      <td>9.0</td>\n",
       "      <td>in unknown direction</td>\n",
       "      <td>Sunny</td>\n",
       "      <td>4</td>\n",
       "      <td>3.0</td>\n",
       "      <td>regular season</td>\n",
       "      <td>0</td>\n",
       "      <td>1</td>\n",
       "      <td>Loss</td>\n",
       "    </tr>\n",
       "  </tbody>\n",
       "</table>\n",
       "</div>"
      ],
      "text/plain": [
       "      attendance             away_team  a_t_errors  a_t_hits  a_t_runs  \\\n",
       "2026     21753.0  San Francisco Giants           0         8         3   \n",
       "\n",
       "            date field_type   game_type             home_team  h_t_errors  \\\n",
       "2026  2016-05-13   on grass  Night Game  Arizona Diamondbacks           0   \n",
       "\n",
       "      h_t_hits  h_t_runs       start_time        venue day_of_week  temp_C  \\\n",
       "2026         8         1  6:40 p.m. Local  Chase Field      Friday    38.3   \n",
       "\n",
       "      wind_speed         wind_direction    sky  total_runs  game_hours_dec  \\\n",
       "2026         9.0   in unknown direction  Sunny           4             3.0   \n",
       "\n",
       "              season  h_t_win  h_t_loss h_t_outcome  \n",
       "2026  regular season        0         1        Loss  "
      ]
     },
     "execution_count": 26,
     "metadata": {},
     "output_type": "execute_result"
    }
   ],
   "source": [
    "data.sort_values( by='temp_C' ).tail(1)"
   ]
  },
  {
   "cell_type": "markdown",
   "metadata": {
    "pycharm": {
     "name": "#%% md\n"
    }
   },
   "source": [
    "# 4. Какая игра в сезоне была самая долгая по продолжительности матча?"
   ]
  },
  {
   "cell_type": "markdown",
   "metadata": {},
   "source": [
    "Сортируем сразу по двум колонкам, сперва указываем основной сезон, а затем сортируем по продолжительности. В данном случае используем атрибут ascending=[False, False], что означает сортировка по убыванию каждой из колонок"
   ]
  },
  {
   "cell_type": "code",
   "execution_count": 29,
   "metadata": {
    "pycharm": {
     "name": "#%%\n"
    }
   },
   "outputs": [
    {
     "data": {
      "text/html": [
       "<div>\n",
       "<style scoped>\n",
       "    .dataframe tbody tr th:only-of-type {\n",
       "        vertical-align: middle;\n",
       "    }\n",
       "\n",
       "    .dataframe tbody tr th {\n",
       "        vertical-align: top;\n",
       "    }\n",
       "\n",
       "    .dataframe thead th {\n",
       "        text-align: right;\n",
       "    }\n",
       "</style>\n",
       "<table border=\"1\" class=\"dataframe\">\n",
       "  <thead>\n",
       "    <tr style=\"text-align: right;\">\n",
       "      <th></th>\n",
       "      <th>attendance</th>\n",
       "      <th>away_team</th>\n",
       "      <th>a_t_errors</th>\n",
       "      <th>a_t_hits</th>\n",
       "      <th>a_t_runs</th>\n",
       "      <th>date</th>\n",
       "      <th>field_type</th>\n",
       "      <th>game_type</th>\n",
       "      <th>home_team</th>\n",
       "      <th>h_t_errors</th>\n",
       "      <th>h_t_hits</th>\n",
       "      <th>h_t_runs</th>\n",
       "      <th>start_time</th>\n",
       "      <th>venue</th>\n",
       "      <th>day_of_week</th>\n",
       "      <th>temp_C</th>\n",
       "      <th>wind_speed</th>\n",
       "      <th>wind_direction</th>\n",
       "      <th>sky</th>\n",
       "      <th>total_runs</th>\n",
       "      <th>game_hours_dec</th>\n",
       "      <th>season</th>\n",
       "      <th>h_t_win</th>\n",
       "      <th>h_t_loss</th>\n",
       "      <th>h_t_outcome</th>\n",
       "    </tr>\n",
       "  </thead>\n",
       "  <tbody>\n",
       "    <tr>\n",
       "      <th>1445</th>\n",
       "      <td>45825.0</td>\n",
       "      <td>Cleveland Indians</td>\n",
       "      <td>0</td>\n",
       "      <td>15</td>\n",
       "      <td>2</td>\n",
       "      <td>2016-07-01</td>\n",
       "      <td>on turf</td>\n",
       "      <td>Day Game</td>\n",
       "      <td>Toronto Blue Jays</td>\n",
       "      <td>2</td>\n",
       "      <td>11</td>\n",
       "      <td>1</td>\n",
       "      <td>1:20 p.m. Local</td>\n",
       "      <td>Rogers Centre</td>\n",
       "      <td>Friday</td>\n",
       "      <td>20.0</td>\n",
       "      <td>0.0</td>\n",
       "      <td>in unknown direction</td>\n",
       "      <td>In Dome</td>\n",
       "      <td>3</td>\n",
       "      <td>6.216667</td>\n",
       "      <td>regular season</td>\n",
       "      <td>0</td>\n",
       "      <td>1</td>\n",
       "      <td>Loss</td>\n",
       "    </tr>\n",
       "  </tbody>\n",
       "</table>\n",
       "</div>"
      ],
      "text/plain": [
       "      attendance          away_team  a_t_errors  a_t_hits  a_t_runs  \\\n",
       "1445     45825.0  Cleveland Indians           0        15         2   \n",
       "\n",
       "            date field_type game_type          home_team  h_t_errors  \\\n",
       "1445  2016-07-01    on turf  Day Game  Toronto Blue Jays           2   \n",
       "\n",
       "      h_t_hits  h_t_runs       start_time          venue day_of_week  temp_C  \\\n",
       "1445        11         1  1:20 p.m. Local  Rogers Centre      Friday    20.0   \n",
       "\n",
       "      wind_speed         wind_direction      sky  total_runs  game_hours_dec  \\\n",
       "1445         0.0   in unknown direction  In Dome           3        6.216667   \n",
       "\n",
       "              season  h_t_win  h_t_loss h_t_outcome  \n",
       "1445  regular season        0         1        Loss  "
      ]
     },
     "execution_count": 29,
     "metadata": {},
     "output_type": "execute_result"
    }
   ],
   "source": [
    "most_long_game = data.sort_values( by=['season', 'game_hours_dec'], ascending=[False, False]).head(1)\n",
    "most_long_game"
   ]
  },
  {
   "cell_type": "markdown",
   "metadata": {},
   "source": [
    "Создадим функцию для конвертации десятичного времени в более понятные часы минуты. Функция принимает на вход 2 значения: время в десятичном формате и продолжительность в виде слова, для подстановки в отформатированный текст (долгая или короткая)"
   ]
  },
  {
   "cell_type": "code",
   "execution_count": 31,
   "metadata": {},
   "outputs": [
    {
     "name": "stdout",
     "output_type": "stream",
     "text": [
      "Самая долгая по продолжительности игра в сезоне длилась 6 часов 13 минут\n"
     ]
    }
   ],
   "source": [
    "def convert(number, duration):\n",
    "    hours = round(number)\n",
    "    number -= hours\n",
    "    minutes = round(number * 60)\n",
    "    return f'Самая {duration} по продолжительности игра в сезоне длилась {hours} часов {minutes} минут'\n",
    "\n",
    "print(convert(most_long_game['game_hours_dec'].tolist()[0], 'долгая'))"
   ]
  },
  {
   "cell_type": "markdown",
   "metadata": {
    "pycharm": {
     "name": "#%% md\n"
    }
   },
   "source": [
    "# 5. Какая игра в сезоне была самая короткая по продолжительности матча?"
   ]
  },
  {
   "cell_type": "markdown",
   "metadata": {},
   "source": [
    "Аналогично производим сортировку, но для колонки 'game_hours_dec' указываем сортировку True, что означает по возрастанию"
   ]
  },
  {
   "cell_type": "code",
   "execution_count": 34,
   "metadata": {
    "pycharm": {
     "name": "#%%\n"
    }
   },
   "outputs": [
    {
     "data": {
      "text/html": [
       "<div>\n",
       "<style scoped>\n",
       "    .dataframe tbody tr th:only-of-type {\n",
       "        vertical-align: middle;\n",
       "    }\n",
       "\n",
       "    .dataframe tbody tr th {\n",
       "        vertical-align: top;\n",
       "    }\n",
       "\n",
       "    .dataframe thead th {\n",
       "        text-align: right;\n",
       "    }\n",
       "</style>\n",
       "<table border=\"1\" class=\"dataframe\">\n",
       "  <thead>\n",
       "    <tr style=\"text-align: right;\">\n",
       "      <th></th>\n",
       "      <th>attendance</th>\n",
       "      <th>away_team</th>\n",
       "      <th>a_t_errors</th>\n",
       "      <th>a_t_hits</th>\n",
       "      <th>a_t_runs</th>\n",
       "      <th>date</th>\n",
       "      <th>field_type</th>\n",
       "      <th>game_type</th>\n",
       "      <th>home_team</th>\n",
       "      <th>h_t_errors</th>\n",
       "      <th>h_t_hits</th>\n",
       "      <th>h_t_runs</th>\n",
       "      <th>start_time</th>\n",
       "      <th>venue</th>\n",
       "      <th>day_of_week</th>\n",
       "      <th>temp_C</th>\n",
       "      <th>wind_speed</th>\n",
       "      <th>wind_direction</th>\n",
       "      <th>sky</th>\n",
       "      <th>total_runs</th>\n",
       "      <th>game_hours_dec</th>\n",
       "      <th>season</th>\n",
       "      <th>h_t_win</th>\n",
       "      <th>h_t_loss</th>\n",
       "      <th>h_t_outcome</th>\n",
       "    </tr>\n",
       "  </thead>\n",
       "  <tbody>\n",
       "    <tr>\n",
       "      <th>423</th>\n",
       "      <td>19991.0</td>\n",
       "      <td>Chicago Cubs</td>\n",
       "      <td>1</td>\n",
       "      <td>4</td>\n",
       "      <td>1</td>\n",
       "      <td>2016-09-29</td>\n",
       "      <td>on grass</td>\n",
       "      <td>Night Game</td>\n",
       "      <td>Pittsburgh Pirates</td>\n",
       "      <td>0</td>\n",
       "      <td>2</td>\n",
       "      <td>1</td>\n",
       "      <td>7:06 p.m. Local</td>\n",
       "      <td>PNC Park</td>\n",
       "      <td>Thursday</td>\n",
       "      <td>17.2</td>\n",
       "      <td>12.0</td>\n",
       "      <td>in from Leftfield</td>\n",
       "      <td>Overcast</td>\n",
       "      <td>2</td>\n",
       "      <td>1.25</td>\n",
       "      <td>regular season</td>\n",
       "      <td>0</td>\n",
       "      <td>0</td>\n",
       "      <td>Loss</td>\n",
       "    </tr>\n",
       "  </tbody>\n",
       "</table>\n",
       "</div>"
      ],
      "text/plain": [
       "     attendance     away_team  a_t_errors  a_t_hits  a_t_runs        date  \\\n",
       "423     19991.0  Chicago Cubs           1         4         1  2016-09-29   \n",
       "\n",
       "    field_type   game_type           home_team  h_t_errors  h_t_hits  \\\n",
       "423   on grass  Night Game  Pittsburgh Pirates           0         2   \n",
       "\n",
       "     h_t_runs       start_time     venue day_of_week  temp_C  wind_speed  \\\n",
       "423         1  7:06 p.m. Local  PNC Park    Thursday    17.2        12.0   \n",
       "\n",
       "         wind_direction       sky  total_runs  game_hours_dec          season  \\\n",
       "423   in from Leftfield  Overcast           2            1.25  regular season   \n",
       "\n",
       "     h_t_win  h_t_loss h_t_outcome  \n",
       "423        0         0        Loss  "
      ]
     },
     "execution_count": 34,
     "metadata": {},
     "output_type": "execute_result"
    }
   ],
   "source": [
    "least_long_game = data.sort_values( by=['season', 'game_hours_dec'], ascending=[False, True]).head(1)\n",
    "least_long_game"
   ]
  },
  {
   "cell_type": "code",
   "execution_count": 35,
   "metadata": {},
   "outputs": [
    {
     "name": "stdout",
     "output_type": "stream",
     "text": [
      "Самая короткая по продолжительности игра в сезоне длилась 1 часов 15 минут\n"
     ]
    }
   ],
   "source": [
    "print(convert(least_long_game['game_hours_dec'].tolist()[0], 'короткая'))"
   ]
  },
  {
   "cell_type": "markdown",
   "metadata": {
    "pycharm": {
     "name": "#%% md\n"
    }
   },
   "source": [
    "# 6. Сколько матчей в сезоне закончилось ничьей?"
   ]
  },
  {
   "cell_type": "markdown",
   "metadata": {},
   "source": [
    "Анализируем колонку 'h_t_outcome' с результатами матчей, и приходим к выводу, что всего игр 2463 что равно 1304 + 1159, следовательно ничьёй не закончилась ни одна игра, что подтверждается правилами игры. Т.е. в правилах игры не предусмотрена ничья. \"В бейсболе нет ничьи. Она просто не предусмотрена правилами игры. В случае, если к концу девятого иннинга команды набрали равное количество очков, назначаются дополнительные иннинги. И так до победы одной из сторон.\""
   ]
  },
  {
   "cell_type": "code",
   "execution_count": 38,
   "metadata": {
    "pycharm": {
     "name": "#%%\n"
    }
   },
   "outputs": [
    {
     "data": {
      "text/plain": [
       "h_t_outcome\n",
       "Win     1304\n",
       "Loss    1159\n",
       "Name: count, dtype: int64"
      ]
     },
     "execution_count": 38,
     "metadata": {},
     "output_type": "execute_result"
    }
   ],
   "source": [
    "data['h_t_outcome'].value_counts()"
   ]
  },
  {
   "cell_type": "markdown",
   "metadata": {
    "pycharm": {
     "name": "#%% md\n"
    }
   },
   "source": [
    "# 7. Какая игра была последней в сезоне?"
   ]
  },
  {
   "cell_type": "markdown",
   "metadata": {},
   "source": [
    "Для выбора последней игры в сезоне я взял 3 метрики: сезон, дату проведения и начало игры по местному времени, соответственно в такой же последовательности и выбиралась сортировка, атрибут ascending для всех 3х сортировок False, то есть по убыванию, соответветственно выводим первую строку в которой будет самая последняя стартовавшая игра в сезоне, по местному времени."
   ]
  },
  {
   "cell_type": "code",
   "execution_count": 41,
   "metadata": {
    "pycharm": {
     "name": "#%%\n"
    }
   },
   "outputs": [
    {
     "data": {
      "text/html": [
       "<div>\n",
       "<style scoped>\n",
       "    .dataframe tbody tr th:only-of-type {\n",
       "        vertical-align: middle;\n",
       "    }\n",
       "\n",
       "    .dataframe tbody tr th {\n",
       "        vertical-align: top;\n",
       "    }\n",
       "\n",
       "    .dataframe thead th {\n",
       "        text-align: right;\n",
       "    }\n",
       "</style>\n",
       "<table border=\"1\" class=\"dataframe\">\n",
       "  <thead>\n",
       "    <tr style=\"text-align: right;\">\n",
       "      <th></th>\n",
       "      <th>attendance</th>\n",
       "      <th>away_team</th>\n",
       "      <th>a_t_errors</th>\n",
       "      <th>a_t_hits</th>\n",
       "      <th>a_t_runs</th>\n",
       "      <th>date</th>\n",
       "      <th>field_type</th>\n",
       "      <th>game_type</th>\n",
       "      <th>home_team</th>\n",
       "      <th>h_t_errors</th>\n",
       "      <th>h_t_hits</th>\n",
       "      <th>h_t_runs</th>\n",
       "      <th>start_time</th>\n",
       "      <th>venue</th>\n",
       "      <th>day_of_week</th>\n",
       "      <th>temp_C</th>\n",
       "      <th>wind_speed</th>\n",
       "      <th>wind_direction</th>\n",
       "      <th>sky</th>\n",
       "      <th>total_runs</th>\n",
       "      <th>game_hours_dec</th>\n",
       "      <th>season</th>\n",
       "      <th>h_t_win</th>\n",
       "      <th>h_t_loss</th>\n",
       "      <th>h_t_outcome</th>\n",
       "    </tr>\n",
       "  </thead>\n",
       "  <tbody>\n",
       "    <tr>\n",
       "      <th>395</th>\n",
       "      <td>36787.0</td>\n",
       "      <td>Toronto Blue Jays</td>\n",
       "      <td>0</td>\n",
       "      <td>9</td>\n",
       "      <td>2</td>\n",
       "      <td>2016-10-02</td>\n",
       "      <td>on grass</td>\n",
       "      <td>Day Game</td>\n",
       "      <td>Boston Red Sox</td>\n",
       "      <td>1</td>\n",
       "      <td>4</td>\n",
       "      <td>1</td>\n",
       "      <td>3:17 p.m. Local</td>\n",
       "      <td>Fenway Park</td>\n",
       "      <td>Sunday</td>\n",
       "      <td>13.3</td>\n",
       "      <td>6.0</td>\n",
       "      <td>out to Leftfield</td>\n",
       "      <td>Unknown</td>\n",
       "      <td>3</td>\n",
       "      <td>3.233333</td>\n",
       "      <td>regular season</td>\n",
       "      <td>0</td>\n",
       "      <td>1</td>\n",
       "      <td>Loss</td>\n",
       "    </tr>\n",
       "  </tbody>\n",
       "</table>\n",
       "</div>"
      ],
      "text/plain": [
       "     attendance          away_team  a_t_errors  a_t_hits  a_t_runs  \\\n",
       "395     36787.0  Toronto Blue Jays           0         9         2   \n",
       "\n",
       "           date field_type game_type       home_team  h_t_errors  h_t_hits  \\\n",
       "395  2016-10-02   on grass  Day Game  Boston Red Sox           1         4   \n",
       "\n",
       "     h_t_runs       start_time        venue day_of_week  temp_C  wind_speed  \\\n",
       "395         1  3:17 p.m. Local  Fenway Park      Sunday    13.3         6.0   \n",
       "\n",
       "        wind_direction      sky  total_runs  game_hours_dec          season  \\\n",
       "395   out to Leftfield  Unknown           3        3.233333  regular season   \n",
       "\n",
       "     h_t_win  h_t_loss h_t_outcome  \n",
       "395        0         1        Loss  "
      ]
     },
     "execution_count": 41,
     "metadata": {},
     "output_type": "execute_result"
    }
   ],
   "source": [
    "last_game_in_reg_season = data.sort_values( by=['season', 'date', 'start_time'], ascending=[False, False, False]).head(1)\n",
    "last_game_in_reg_season"
   ]
  },
  {
   "cell_type": "code",
   "execution_count": 42,
   "metadata": {},
   "outputs": [
    {
     "data": {
      "text/plain": [
       "'Последняя игра сезона началась 2016-10-02 в 3:17 p.m. Local'"
      ]
     },
     "execution_count": 42,
     "metadata": {},
     "output_type": "execute_result"
    }
   ],
   "source": [
    "f\"Последняя игра сезона началась {last_game_in_reg_season['date'].to_list()[0]} в {last_game_in_reg_season['start_time'].to_list()[0]}\""
   ]
  },
  {
   "cell_type": "markdown",
   "metadata": {
    "pycharm": {
     "name": "#%% md\n"
    }
   },
   "source": [
    "# 8. У какой игры было минимальное количество зрителей?"
   ]
  },
  {
   "cell_type": "markdown",
   "metadata": {},
   "source": [
    "Минимальное количество зрителей за всё время проевдения игр - 8766"
   ]
  },
  {
   "cell_type": "code",
   "execution_count": 45,
   "metadata": {
    "pycharm": {
     "name": "#%%\n"
    }
   },
   "outputs": [
    {
     "data": {
      "text/html": [
       "<div>\n",
       "<style scoped>\n",
       "    .dataframe tbody tr th:only-of-type {\n",
       "        vertical-align: middle;\n",
       "    }\n",
       "\n",
       "    .dataframe tbody tr th {\n",
       "        vertical-align: top;\n",
       "    }\n",
       "\n",
       "    .dataframe thead th {\n",
       "        text-align: right;\n",
       "    }\n",
       "</style>\n",
       "<table border=\"1\" class=\"dataframe\">\n",
       "  <thead>\n",
       "    <tr style=\"text-align: right;\">\n",
       "      <th></th>\n",
       "      <th>attendance</th>\n",
       "      <th>away_team</th>\n",
       "      <th>a_t_errors</th>\n",
       "      <th>a_t_hits</th>\n",
       "      <th>a_t_runs</th>\n",
       "      <th>date</th>\n",
       "      <th>field_type</th>\n",
       "      <th>game_type</th>\n",
       "      <th>home_team</th>\n",
       "      <th>h_t_errors</th>\n",
       "      <th>h_t_hits</th>\n",
       "      <th>h_t_runs</th>\n",
       "      <th>start_time</th>\n",
       "      <th>venue</th>\n",
       "      <th>day_of_week</th>\n",
       "      <th>temp_C</th>\n",
       "      <th>wind_speed</th>\n",
       "      <th>wind_direction</th>\n",
       "      <th>sky</th>\n",
       "      <th>total_runs</th>\n",
       "      <th>game_hours_dec</th>\n",
       "      <th>season</th>\n",
       "      <th>h_t_win</th>\n",
       "      <th>h_t_loss</th>\n",
       "      <th>h_t_outcome</th>\n",
       "    </tr>\n",
       "  </thead>\n",
       "  <tbody>\n",
       "    <tr>\n",
       "      <th>2130</th>\n",
       "      <td>8766.0</td>\n",
       "      <td>Detroit Tigers</td>\n",
       "      <td>0</td>\n",
       "      <td>5</td>\n",
       "      <td>0</td>\n",
       "      <td>2016-05-04</td>\n",
       "      <td>on grass</td>\n",
       "      <td>Night Game</td>\n",
       "      <td>Cleveland Indians</td>\n",
       "      <td>0</td>\n",
       "      <td>5</td>\n",
       "      <td>4</td>\n",
       "      <td>6:10 p.m. Local</td>\n",
       "      <td>Progressive Field</td>\n",
       "      <td>Wednesday</td>\n",
       "      <td>12.2</td>\n",
       "      <td>11.0</td>\n",
       "      <td>from Left to Right</td>\n",
       "      <td>Overcast</td>\n",
       "      <td>4</td>\n",
       "      <td>2.316667</td>\n",
       "      <td>regular season</td>\n",
       "      <td>1</td>\n",
       "      <td>0</td>\n",
       "      <td>Win</td>\n",
       "    </tr>\n",
       "  </tbody>\n",
       "</table>\n",
       "</div>"
      ],
      "text/plain": [
       "      attendance       away_team  a_t_errors  a_t_hits  a_t_runs        date  \\\n",
       "2130      8766.0  Detroit Tigers           0         5         0  2016-05-04   \n",
       "\n",
       "     field_type   game_type          home_team  h_t_errors  h_t_hits  \\\n",
       "2130   on grass  Night Game  Cleveland Indians           0         5   \n",
       "\n",
       "      h_t_runs       start_time              venue day_of_week  temp_C  \\\n",
       "2130         4  6:10 p.m. Local  Progressive Field   Wednesday    12.2   \n",
       "\n",
       "      wind_speed       wind_direction       sky  total_runs  game_hours_dec  \\\n",
       "2130        11.0   from Left to Right  Overcast           4        2.316667   \n",
       "\n",
       "              season  h_t_win  h_t_loss h_t_outcome  \n",
       "2130  regular season        1         0         Win  "
      ]
     },
     "execution_count": 45,
     "metadata": {},
     "output_type": "execute_result"
    }
   ],
   "source": [
    "data.sort_values( by='attendance').head(1)"
   ]
  },
  {
   "cell_type": "markdown",
   "metadata": {
    "pycharm": {
     "name": "#%% md\n"
    }
   },
   "source": [
    "# 9. Какая игра в сезоне была самая ветренная?"
   ]
  },
  {
   "cell_type": "markdown",
   "metadata": {},
   "source": [
    "Можно было решить опять же через sort_values, но значений с максимальным значением wind_speed было несклоько, что бы вручную не указывать head() воспользовался функцией поиска максимального значения и выдернул это значения по колонке wind_speed. Максимальный показатель ветра был 25 м/с"
   ]
  },
  {
   "cell_type": "code",
   "execution_count": 48,
   "metadata": {
    "pycharm": {
     "name": "#%%\n"
    }
   },
   "outputs": [
    {
     "data": {
      "text/html": [
       "<div>\n",
       "<style scoped>\n",
       "    .dataframe tbody tr th:only-of-type {\n",
       "        vertical-align: middle;\n",
       "    }\n",
       "\n",
       "    .dataframe tbody tr th {\n",
       "        vertical-align: top;\n",
       "    }\n",
       "\n",
       "    .dataframe thead th {\n",
       "        text-align: right;\n",
       "    }\n",
       "</style>\n",
       "<table border=\"1\" class=\"dataframe\">\n",
       "  <thead>\n",
       "    <tr style=\"text-align: right;\">\n",
       "      <th></th>\n",
       "      <th>attendance</th>\n",
       "      <th>away_team</th>\n",
       "      <th>a_t_errors</th>\n",
       "      <th>a_t_hits</th>\n",
       "      <th>a_t_runs</th>\n",
       "      <th>date</th>\n",
       "      <th>field_type</th>\n",
       "      <th>game_type</th>\n",
       "      <th>home_team</th>\n",
       "      <th>h_t_errors</th>\n",
       "      <th>h_t_hits</th>\n",
       "      <th>h_t_runs</th>\n",
       "      <th>start_time</th>\n",
       "      <th>venue</th>\n",
       "      <th>day_of_week</th>\n",
       "      <th>temp_C</th>\n",
       "      <th>wind_speed</th>\n",
       "      <th>wind_direction</th>\n",
       "      <th>sky</th>\n",
       "      <th>total_runs</th>\n",
       "      <th>game_hours_dec</th>\n",
       "      <th>season</th>\n",
       "      <th>h_t_win</th>\n",
       "      <th>h_t_loss</th>\n",
       "      <th>h_t_outcome</th>\n",
       "    </tr>\n",
       "  </thead>\n",
       "  <tbody>\n",
       "    <tr>\n",
       "      <th>1655</th>\n",
       "      <td>41543.0</td>\n",
       "      <td>Milwaukee Brewers</td>\n",
       "      <td>1</td>\n",
       "      <td>11</td>\n",
       "      <td>5</td>\n",
       "      <td>2016-06-13</td>\n",
       "      <td>on grass</td>\n",
       "      <td>Night Game</td>\n",
       "      <td>San Francisco Giants</td>\n",
       "      <td>0</td>\n",
       "      <td>14</td>\n",
       "      <td>11</td>\n",
       "      <td>7:15 p.m. Local</td>\n",
       "      <td>AT&amp;T Park</td>\n",
       "      <td>Monday</td>\n",
       "      <td>14.4</td>\n",
       "      <td>25.0</td>\n",
       "      <td>out to Centerfield</td>\n",
       "      <td>Cloudy</td>\n",
       "      <td>16</td>\n",
       "      <td>3.633333</td>\n",
       "      <td>regular season</td>\n",
       "      <td>1</td>\n",
       "      <td>0</td>\n",
       "      <td>Win</td>\n",
       "    </tr>\n",
       "    <tr>\n",
       "      <th>2005</th>\n",
       "      <td>35736.0</td>\n",
       "      <td>Houston Astros</td>\n",
       "      <td>2</td>\n",
       "      <td>8</td>\n",
       "      <td>9</td>\n",
       "      <td>2016-05-15</td>\n",
       "      <td>on grass</td>\n",
       "      <td>Day Game</td>\n",
       "      <td>Boston Red Sox</td>\n",
       "      <td>3</td>\n",
       "      <td>14</td>\n",
       "      <td>10</td>\n",
       "      <td>1:34 p.m. Local</td>\n",
       "      <td>Fenway Park</td>\n",
       "      <td>Sunday</td>\n",
       "      <td>14.4</td>\n",
       "      <td>25.0</td>\n",
       "      <td>out to Rightfield</td>\n",
       "      <td>Cloudy</td>\n",
       "      <td>19</td>\n",
       "      <td>3.666667</td>\n",
       "      <td>regular season</td>\n",
       "      <td>1</td>\n",
       "      <td>0</td>\n",
       "      <td>Win</td>\n",
       "    </tr>\n",
       "  </tbody>\n",
       "</table>\n",
       "</div>"
      ],
      "text/plain": [
       "      attendance          away_team  a_t_errors  a_t_hits  a_t_runs  \\\n",
       "1655     41543.0  Milwaukee Brewers           1        11         5   \n",
       "2005     35736.0     Houston Astros           2         8         9   \n",
       "\n",
       "            date field_type   game_type             home_team  h_t_errors  \\\n",
       "1655  2016-06-13   on grass  Night Game  San Francisco Giants           0   \n",
       "2005  2016-05-15   on grass    Day Game        Boston Red Sox           3   \n",
       "\n",
       "      h_t_hits  h_t_runs       start_time        venue day_of_week  temp_C  \\\n",
       "1655        14        11  7:15 p.m. Local    AT&T Park      Monday    14.4   \n",
       "2005        14        10  1:34 p.m. Local  Fenway Park      Sunday    14.4   \n",
       "\n",
       "      wind_speed       wind_direction     sky  total_runs  game_hours_dec  \\\n",
       "1655        25.0   out to Centerfield  Cloudy          16        3.633333   \n",
       "2005        25.0    out to Rightfield  Cloudy          19        3.666667   \n",
       "\n",
       "              season  h_t_win  h_t_loss h_t_outcome  \n",
       "1655  regular season        1         0         Win  \n",
       "2005  regular season        1         0         Win  "
      ]
     },
     "execution_count": 48,
     "metadata": {},
     "output_type": "execute_result"
    }
   ],
   "source": [
    "data[data['wind_speed'] == data['wind_speed'].max()]"
   ]
  },
  {
   "cell_type": "markdown",
   "metadata": {
    "pycharm": {
     "name": "#%% md\n"
    }
   },
   "source": [
    "# 10. В какой игре получили максимальное количество очков?"
   ]
  },
  {
   "cell_type": "markdown",
   "metadata": {},
   "source": [
    "За количество очков отвечает total_runs. Смотрим сколько раз достигались определённые результаты по очкам и видим, что 29 очков (наш максимум) был выбит всего 1 раз, и выводим на экран игру с этим значениемю"
   ]
  },
  {
   "cell_type": "code",
   "execution_count": 51,
   "metadata": {},
   "outputs": [
    {
     "data": {
      "text/plain": [
       "total_runs\n",
       "29      1\n",
       "27      1\n",
       "23      5\n",
       "24      6\n",
       "22      9\n",
       "21     11\n",
       "20     17\n",
       "19     31\n",
       "18     35\n",
       "2      38\n",
       "16     42\n",
       "1      50\n",
       "17     56\n",
       "14     74\n",
       "15     91\n",
       "12    116\n",
       "4     118\n",
       "13    132\n",
       "10    148\n",
       "3     157\n",
       "11    174\n",
       "6     186\n",
       "8     195\n",
       "5     247\n",
       "7     257\n",
       "9     266\n",
       "Name: count, dtype: int64"
      ]
     },
     "execution_count": 51,
     "metadata": {},
     "output_type": "execute_result"
    }
   ],
   "source": [
    "data['total_runs'].value_counts().sort_values()"
   ]
  },
  {
   "cell_type": "code",
   "execution_count": 52,
   "metadata": {
    "pycharm": {
     "name": "#%%\n"
    }
   },
   "outputs": [
    {
     "data": {
      "text/html": [
       "<div>\n",
       "<style scoped>\n",
       "    .dataframe tbody tr th:only-of-type {\n",
       "        vertical-align: middle;\n",
       "    }\n",
       "\n",
       "    .dataframe tbody tr th {\n",
       "        vertical-align: top;\n",
       "    }\n",
       "\n",
       "    .dataframe thead th {\n",
       "        text-align: right;\n",
       "    }\n",
       "</style>\n",
       "<table border=\"1\" class=\"dataframe\">\n",
       "  <thead>\n",
       "    <tr style=\"text-align: right;\">\n",
       "      <th></th>\n",
       "      <th>attendance</th>\n",
       "      <th>away_team</th>\n",
       "      <th>a_t_errors</th>\n",
       "      <th>a_t_hits</th>\n",
       "      <th>a_t_runs</th>\n",
       "      <th>date</th>\n",
       "      <th>field_type</th>\n",
       "      <th>game_type</th>\n",
       "      <th>home_team</th>\n",
       "      <th>h_t_errors</th>\n",
       "      <th>h_t_hits</th>\n",
       "      <th>h_t_runs</th>\n",
       "      <th>start_time</th>\n",
       "      <th>venue</th>\n",
       "      <th>day_of_week</th>\n",
       "      <th>temp_C</th>\n",
       "      <th>wind_speed</th>\n",
       "      <th>wind_direction</th>\n",
       "      <th>sky</th>\n",
       "      <th>total_runs</th>\n",
       "      <th>game_hours_dec</th>\n",
       "      <th>season</th>\n",
       "      <th>h_t_win</th>\n",
       "      <th>h_t_loss</th>\n",
       "      <th>h_t_outcome</th>\n",
       "    </tr>\n",
       "  </thead>\n",
       "  <tbody>\n",
       "    <tr>\n",
       "      <th>1788</th>\n",
       "      <td>22588.0</td>\n",
       "      <td>Seattle Mariners</td>\n",
       "      <td>1</td>\n",
       "      <td>16</td>\n",
       "      <td>16</td>\n",
       "      <td>2016-06-02</td>\n",
       "      <td>on grass</td>\n",
       "      <td>Night Game</td>\n",
       "      <td>San Diego Padres</td>\n",
       "      <td>1</td>\n",
       "      <td>20</td>\n",
       "      <td>13</td>\n",
       "      <td>6:10 p.m. Local</td>\n",
       "      <td>Petco Park</td>\n",
       "      <td>Thursday</td>\n",
       "      <td>24.4</td>\n",
       "      <td>10.0</td>\n",
       "      <td>out to Rightfield</td>\n",
       "      <td>Sunny</td>\n",
       "      <td>29</td>\n",
       "      <td>3.833333</td>\n",
       "      <td>regular season</td>\n",
       "      <td>0</td>\n",
       "      <td>1</td>\n",
       "      <td>Loss</td>\n",
       "    </tr>\n",
       "  </tbody>\n",
       "</table>\n",
       "</div>"
      ],
      "text/plain": [
       "      attendance         away_team  a_t_errors  a_t_hits  a_t_runs  \\\n",
       "1788     22588.0  Seattle Mariners           1        16        16   \n",
       "\n",
       "            date field_type   game_type         home_team  h_t_errors  \\\n",
       "1788  2016-06-02   on grass  Night Game  San Diego Padres           1   \n",
       "\n",
       "      h_t_hits  h_t_runs       start_time       venue day_of_week  temp_C  \\\n",
       "1788        20        13  6:10 p.m. Local  Petco Park    Thursday    24.4   \n",
       "\n",
       "      wind_speed      wind_direction    sky  total_runs  game_hours_dec  \\\n",
       "1788        10.0   out to Rightfield  Sunny          29        3.833333   \n",
       "\n",
       "              season  h_t_win  h_t_loss h_t_outcome  \n",
       "1788  regular season        0         1        Loss  "
      ]
     },
     "execution_count": 52,
     "metadata": {},
     "output_type": "execute_result"
    }
   ],
   "source": [
    "data[data['total_runs'] == data['total_runs'].max()]"
   ]
  },
  {
   "cell_type": "markdown",
   "metadata": {
    "pycharm": {
     "name": "#%% md\n"
    }
   },
   "source": [
    "# 11. Какая игра содержала максимальное количество ошибок домашней команды?"
   ]
  },
  {
   "cell_type": "markdown",
   "metadata": {},
   "source": [
    "Аналогично с прошлым вопросом смотрим распределение по колонке 'h_t_errors' которое отвечает за количество ошибок домашней команды, сортируем по количеству ошибок и видим, что максимальное количество ошибок сделала домашняя команда лишь единожды. и выводим строку с этой командой по максимальному значению. Максимальное количество ошибок 5."
   ]
  },
  {
   "cell_type": "code",
   "execution_count": 55,
   "metadata": {
    "pycharm": {
     "name": "#%%\n"
    }
   },
   "outputs": [
    {
     "data": {
      "text/plain": [
       "h_t_errors\n",
       "5       1\n",
       "4      13\n",
       "3      57\n",
       "2     241\n",
       "1     733\n",
       "0    1418\n",
       "Name: count, dtype: int64"
      ]
     },
     "execution_count": 55,
     "metadata": {},
     "output_type": "execute_result"
    }
   ],
   "source": [
    "data['h_t_errors'].value_counts().sort_values()"
   ]
  },
  {
   "cell_type": "code",
   "execution_count": 56,
   "metadata": {},
   "outputs": [
    {
     "data": {
      "text/html": [
       "<div>\n",
       "<style scoped>\n",
       "    .dataframe tbody tr th:only-of-type {\n",
       "        vertical-align: middle;\n",
       "    }\n",
       "\n",
       "    .dataframe tbody tr th {\n",
       "        vertical-align: top;\n",
       "    }\n",
       "\n",
       "    .dataframe thead th {\n",
       "        text-align: right;\n",
       "    }\n",
       "</style>\n",
       "<table border=\"1\" class=\"dataframe\">\n",
       "  <thead>\n",
       "    <tr style=\"text-align: right;\">\n",
       "      <th></th>\n",
       "      <th>attendance</th>\n",
       "      <th>away_team</th>\n",
       "      <th>a_t_errors</th>\n",
       "      <th>a_t_hits</th>\n",
       "      <th>a_t_runs</th>\n",
       "      <th>date</th>\n",
       "      <th>field_type</th>\n",
       "      <th>game_type</th>\n",
       "      <th>home_team</th>\n",
       "      <th>h_t_errors</th>\n",
       "      <th>h_t_hits</th>\n",
       "      <th>h_t_runs</th>\n",
       "      <th>start_time</th>\n",
       "      <th>venue</th>\n",
       "      <th>day_of_week</th>\n",
       "      <th>temp_C</th>\n",
       "      <th>wind_speed</th>\n",
       "      <th>wind_direction</th>\n",
       "      <th>sky</th>\n",
       "      <th>total_runs</th>\n",
       "      <th>game_hours_dec</th>\n",
       "      <th>season</th>\n",
       "      <th>h_t_win</th>\n",
       "      <th>h_t_loss</th>\n",
       "      <th>h_t_outcome</th>\n",
       "    </tr>\n",
       "  </thead>\n",
       "  <tbody>\n",
       "    <tr>\n",
       "      <th>1178</th>\n",
       "      <td>22581.0</td>\n",
       "      <td>Arizona Diamondbacks</td>\n",
       "      <td>1</td>\n",
       "      <td>11</td>\n",
       "      <td>8</td>\n",
       "      <td>2016-07-27</td>\n",
       "      <td>on grass</td>\n",
       "      <td>Night Game</td>\n",
       "      <td>Milwaukee Brewers</td>\n",
       "      <td>5</td>\n",
       "      <td>5</td>\n",
       "      <td>1</td>\n",
       "      <td>7:10 p.m. Local</td>\n",
       "      <td>Miller Park</td>\n",
       "      <td>Wednesday</td>\n",
       "      <td>25.0</td>\n",
       "      <td>9.0</td>\n",
       "      <td>in from Leftfield</td>\n",
       "      <td>Cloudy</td>\n",
       "      <td>9</td>\n",
       "      <td>2.933333</td>\n",
       "      <td>regular season</td>\n",
       "      <td>0</td>\n",
       "      <td>1</td>\n",
       "      <td>Loss</td>\n",
       "    </tr>\n",
       "  </tbody>\n",
       "</table>\n",
       "</div>"
      ],
      "text/plain": [
       "      attendance             away_team  a_t_errors  a_t_hits  a_t_runs  \\\n",
       "1178     22581.0  Arizona Diamondbacks           1        11         8   \n",
       "\n",
       "            date field_type   game_type          home_team  h_t_errors  \\\n",
       "1178  2016-07-27   on grass  Night Game  Milwaukee Brewers           5   \n",
       "\n",
       "      h_t_hits  h_t_runs       start_time        venue day_of_week  temp_C  \\\n",
       "1178         5         1  7:10 p.m. Local  Miller Park   Wednesday    25.0   \n",
       "\n",
       "      wind_speed      wind_direction     sky  total_runs  game_hours_dec  \\\n",
       "1178         9.0   in from Leftfield  Cloudy           9        2.933333   \n",
       "\n",
       "              season  h_t_win  h_t_loss h_t_outcome  \n",
       "1178  regular season        0         1        Loss  "
      ]
     },
     "execution_count": 56,
     "metadata": {},
     "output_type": "execute_result"
    }
   ],
   "source": [
    "data[data['h_t_errors'] == data['h_t_errors'].max()]"
   ]
  },
  {
   "cell_type": "markdown",
   "metadata": {
    "pycharm": {
     "name": "#%% md\n"
    }
   },
   "source": [
    "# 12. В какой игре было максимальное количество хитов?"
   ]
  },
  {
   "cell_type": "markdown",
   "metadata": {},
   "source": [
    "Здесь я решил вынести в отдельную колонку количество хитов, а затем просто достать строку с максимальным количеством хитов. Максимальное количество хитов 37"
   ]
  },
  {
   "cell_type": "code",
   "execution_count": 59,
   "metadata": {
    "pycharm": {
     "name": "#%%\n"
    }
   },
   "outputs": [
    {
     "data": {
      "text/html": [
       "<div>\n",
       "<style scoped>\n",
       "    .dataframe tbody tr th:only-of-type {\n",
       "        vertical-align: middle;\n",
       "    }\n",
       "\n",
       "    .dataframe tbody tr th {\n",
       "        vertical-align: top;\n",
       "    }\n",
       "\n",
       "    .dataframe thead th {\n",
       "        text-align: right;\n",
       "    }\n",
       "</style>\n",
       "<table border=\"1\" class=\"dataframe\">\n",
       "  <thead>\n",
       "    <tr style=\"text-align: right;\">\n",
       "      <th></th>\n",
       "      <th>attendance</th>\n",
       "      <th>away_team</th>\n",
       "      <th>a_t_errors</th>\n",
       "      <th>a_t_hits</th>\n",
       "      <th>a_t_runs</th>\n",
       "      <th>date</th>\n",
       "      <th>field_type</th>\n",
       "      <th>game_type</th>\n",
       "      <th>home_team</th>\n",
       "      <th>h_t_errors</th>\n",
       "      <th>h_t_hits</th>\n",
       "      <th>h_t_runs</th>\n",
       "      <th>start_time</th>\n",
       "      <th>venue</th>\n",
       "      <th>day_of_week</th>\n",
       "      <th>temp_C</th>\n",
       "      <th>wind_speed</th>\n",
       "      <th>wind_direction</th>\n",
       "      <th>sky</th>\n",
       "      <th>total_runs</th>\n",
       "      <th>game_hours_dec</th>\n",
       "      <th>season</th>\n",
       "      <th>h_t_win</th>\n",
       "      <th>h_t_loss</th>\n",
       "      <th>h_t_outcome</th>\n",
       "      <th>total_hits</th>\n",
       "    </tr>\n",
       "  </thead>\n",
       "  <tbody>\n",
       "    <tr>\n",
       "      <th>1413</th>\n",
       "      <td>36253.0</td>\n",
       "      <td>Texas Rangers</td>\n",
       "      <td>0</td>\n",
       "      <td>16</td>\n",
       "      <td>5</td>\n",
       "      <td>2016-07-04</td>\n",
       "      <td>on grass</td>\n",
       "      <td>Day Game</td>\n",
       "      <td>Boston Red Sox</td>\n",
       "      <td>2</td>\n",
       "      <td>21</td>\n",
       "      <td>12</td>\n",
       "      <td>1:37 p.m. Local</td>\n",
       "      <td>Fenway Park</td>\n",
       "      <td>Monday</td>\n",
       "      <td>28.9</td>\n",
       "      <td>11.0</td>\n",
       "      <td>out to Centerfield</td>\n",
       "      <td>Cloudy</td>\n",
       "      <td>17</td>\n",
       "      <td>3.666667</td>\n",
       "      <td>regular season</td>\n",
       "      <td>1</td>\n",
       "      <td>0</td>\n",
       "      <td>Win</td>\n",
       "      <td>37</td>\n",
       "    </tr>\n",
       "  </tbody>\n",
       "</table>\n",
       "</div>"
      ],
      "text/plain": [
       "      attendance      away_team  a_t_errors  a_t_hits  a_t_runs        date  \\\n",
       "1413     36253.0  Texas Rangers           0        16         5  2016-07-04   \n",
       "\n",
       "     field_type game_type       home_team  h_t_errors  h_t_hits  h_t_runs  \\\n",
       "1413   on grass  Day Game  Boston Red Sox           2        21        12   \n",
       "\n",
       "           start_time        venue day_of_week  temp_C  wind_speed  \\\n",
       "1413  1:37 p.m. Local  Fenway Park      Monday    28.9        11.0   \n",
       "\n",
       "           wind_direction     sky  total_runs  game_hours_dec          season  \\\n",
       "1413   out to Centerfield  Cloudy          17        3.666667  regular season   \n",
       "\n",
       "      h_t_win  h_t_loss h_t_outcome  total_hits  \n",
       "1413        1         0         Win          37  "
      ]
     },
     "execution_count": 59,
     "metadata": {},
     "output_type": "execute_result"
    }
   ],
   "source": [
    "data['total_hits'] = data['h_t_hits'] + data['a_t_hits']\n",
    "data[data['total_hits'] == data['total_hits'].max()]"
   ]
  },
  {
   "cell_type": "markdown",
   "metadata": {
    "pycharm": {
     "name": "#%% md\n"
    }
   },
   "source": [
    "# 13. Выведите количество игр которая сыграла каждая команда в данном сезоне?"
   ]
  },
  {
   "cell_type": "markdown",
   "metadata": {},
   "source": [
    "Здесь, для удобства, я решил отделить игры в сезоне 'regular season' от игр вне сезона 'post season' при помощи метода loc. Далее поскольку идёт запись игры как 1 домашняя команда и 1 выездная, значит, что бы посчитать общее количество игр каждой команды, нужно сложить 2 столбца таблицы, в одной посчитаны команды на выезде, во второй команды, играющие дома. Итоговая таблица отражает общее количество игр, сыгранных каждой командой. Для уточнения что всё сходится подсчитаем общее количество игр и разделим на 2(так как за 1 игру играют 2 команды) и сложим с общим числом игр из 'post season'. Итоговая цифра совпадает с общим количеством строк"
   ]
  },
  {
   "cell_type": "code",
   "execution_count": 62,
   "metadata": {},
   "outputs": [],
   "source": [
    "data_regular_season = data.loc[data.season == 'regular season']"
   ]
  },
  {
   "cell_type": "code",
   "execution_count": 63,
   "metadata": {
    "pycharm": {
     "name": "#%%\n"
    }
   },
   "outputs": [
    {
     "data": {
      "text/plain": [
       "Arizona Diamondbacks             162\n",
       "Atlanta Braves                   161\n",
       "Baltimore Orioles                162\n",
       "Boston Red Sox                   162\n",
       "Chicago Cubs                     162\n",
       "Chicago White Sox                162\n",
       "Cincinnati Reds                  162\n",
       "Cleveland Indians                161\n",
       "Colorado Rockies                 162\n",
       "Detroit Tigers                   161\n",
       "Houston Astros                   162\n",
       "Kansas City Royals               162\n",
       "Los Angeles Angels of Anaheim    162\n",
       "Los Angeles Dodgers              162\n",
       "Miami Marlins                    161\n",
       "Milwaukee Brewers                162\n",
       "Minnesota Twins                  162\n",
       "New York Mets                    162\n",
       "New York Yankees                 162\n",
       "Oakland Athletics                162\n",
       "Philadelphia Phillies            162\n",
       "Pittsburgh Pirates               162\n",
       "San Diego Padres                 162\n",
       "San Francisco Giants             162\n",
       "Seattle Mariners                 162\n",
       "St. Louis Cardinals              162\n",
       "Tampa Bay Rays                   162\n",
       "Texas Rangers                    162\n",
       "Toronto Blue Jays                162\n",
       "Washington Nationals             162\n",
       "Name: count, dtype: int64"
      ]
     },
     "execution_count": 63,
     "metadata": {},
     "output_type": "execute_result"
    }
   ],
   "source": [
    "amount_of_games = data_regular_season['away_team'].value_counts().add(data_regular_season['home_team'].value_counts())\n",
    "amount_of_games"
   ]
  },
  {
   "cell_type": "code",
   "execution_count": 64,
   "metadata": {},
   "outputs": [
    {
     "data": {
      "text/plain": [
       "2463.0"
      ]
     },
     "execution_count": 64,
     "metadata": {},
     "output_type": "execute_result"
    }
   ],
   "source": [
    "data_out_season = data.loc[data.season == 'post season']\n",
    "data_out_season['season'].count() + amount_of_games.sum()/2"
   ]
  },
  {
   "cell_type": "markdown",
   "metadata": {
    "pycharm": {
     "name": "#%% md\n"
    }
   },
   "source": [
    "# 14. Какая команда выиграла наибольшое количество матчей в сезоне? (Будьте внимательны с типом матча в сезоне - season)."
   ]
  },
  {
   "cell_type": "markdown",
   "metadata": {},
   "source": [
    "В данной задаче я сделал чуть сложнее, выделил 2 таблицы с победителями на выезде и победителями домашними командами. Эти таблицы пригодятся в следующих заданиях. Затем сложил две таблицы, что бы посмотреть общее количество игры каждой команды на выезде и дома и получил команду с наибольшим общим количеством побед. Решил сделать через метод pivot_table на основе таблицы где только сезонные игры. Так же в каждой из двух полученных таблиц переименовал в колонки с одинаковым названием 'win' через метод rename, что бы можно было без проблем сложить 2 колонки из разных таблиц"
   ]
  },
  {
   "cell_type": "code",
   "execution_count": 67,
   "metadata": {},
   "outputs": [
    {
     "data": {
      "text/html": [
       "<div>\n",
       "<style scoped>\n",
       "    .dataframe tbody tr th:only-of-type {\n",
       "        vertical-align: middle;\n",
       "    }\n",
       "\n",
       "    .dataframe tbody tr th {\n",
       "        vertical-align: top;\n",
       "    }\n",
       "\n",
       "    .dataframe thead th {\n",
       "        text-align: right;\n",
       "    }\n",
       "</style>\n",
       "<table border=\"1\" class=\"dataframe\">\n",
       "  <thead>\n",
       "    <tr style=\"text-align: right;\">\n",
       "      <th></th>\n",
       "      <th>win</th>\n",
       "    </tr>\n",
       "    <tr>\n",
       "      <th>away_team</th>\n",
       "      <th></th>\n",
       "    </tr>\n",
       "  </thead>\n",
       "  <tbody>\n",
       "    <tr>\n",
       "      <th>St. Louis Cardinals</th>\n",
       "      <td>48</td>\n",
       "    </tr>\n",
       "    <tr>\n",
       "      <th>Boston Red Sox</th>\n",
       "      <td>46</td>\n",
       "    </tr>\n",
       "    <tr>\n",
       "      <th>Chicago Cubs</th>\n",
       "      <td>46</td>\n",
       "    </tr>\n",
       "    <tr>\n",
       "      <th>Washington Nationals</th>\n",
       "      <td>45</td>\n",
       "    </tr>\n",
       "    <tr>\n",
       "      <th>Toronto Blue Jays</th>\n",
       "      <td>43</td>\n",
       "    </tr>\n",
       "  </tbody>\n",
       "</table>\n",
       "</div>"
      ],
      "text/plain": [
       "                      win\n",
       "away_team                \n",
       "St. Louis Cardinals    48\n",
       "Boston Red Sox         46\n",
       "Chicago Cubs           46\n",
       "Washington Nationals   45\n",
       "Toronto Blue Jays      43"
      ]
     },
     "execution_count": 67,
     "metadata": {},
     "output_type": "execute_result"
    }
   ],
   "source": [
    "away_team_wins = pd.pivot_table(data_regular_season, index='away_team', values='h_t_loss', aggfunc='sum')\n",
    "away_team_wins.rename( columns={'h_t_loss': 'win'}, inplace=True)\n",
    "away_team_wins.sort_values( by= \"win\", ascending=False ).head(5)"
   ]
  },
  {
   "cell_type": "code",
   "execution_count": 68,
   "metadata": {
    "pycharm": {
     "name": "#%%\n"
    }
   },
   "outputs": [
    {
     "data": {
      "text/html": [
       "<div>\n",
       "<style scoped>\n",
       "    .dataframe tbody tr th:only-of-type {\n",
       "        vertical-align: middle;\n",
       "    }\n",
       "\n",
       "    .dataframe tbody tr th {\n",
       "        vertical-align: top;\n",
       "    }\n",
       "\n",
       "    .dataframe thead th {\n",
       "        text-align: right;\n",
       "    }\n",
       "</style>\n",
       "<table border=\"1\" class=\"dataframe\">\n",
       "  <thead>\n",
       "    <tr style=\"text-align: right;\">\n",
       "      <th></th>\n",
       "      <th>win</th>\n",
       "    </tr>\n",
       "    <tr>\n",
       "      <th>home_team</th>\n",
       "      <th></th>\n",
       "    </tr>\n",
       "  </thead>\n",
       "  <tbody>\n",
       "    <tr>\n",
       "      <th>Chicago Cubs</th>\n",
       "      <td>57</td>\n",
       "    </tr>\n",
       "    <tr>\n",
       "      <th>Cleveland Indians</th>\n",
       "      <td>53</td>\n",
       "    </tr>\n",
       "    <tr>\n",
       "      <th>Los Angeles Dodgers</th>\n",
       "      <td>53</td>\n",
       "    </tr>\n",
       "    <tr>\n",
       "      <th>Texas Rangers</th>\n",
       "      <td>53</td>\n",
       "    </tr>\n",
       "    <tr>\n",
       "      <th>Washington Nationals</th>\n",
       "      <td>50</td>\n",
       "    </tr>\n",
       "  </tbody>\n",
       "</table>\n",
       "</div>"
      ],
      "text/plain": [
       "                      win\n",
       "home_team                \n",
       "Chicago Cubs           57\n",
       "Cleveland Indians      53\n",
       "Los Angeles Dodgers    53\n",
       "Texas Rangers          53\n",
       "Washington Nationals   50"
      ]
     },
     "execution_count": 68,
     "metadata": {},
     "output_type": "execute_result"
    }
   ],
   "source": [
    "home_team_wins = pd.pivot_table(data_regular_season, index='home_team', values='h_t_win', aggfunc='sum')\n",
    "home_team_wins.rename( columns={'h_t_win': 'win'}, inplace=True)\n",
    "home_team_wins.sort_values( by= \"win\", ascending=False ).head(5)"
   ]
  },
  {
   "cell_type": "code",
   "execution_count": 69,
   "metadata": {},
   "outputs": [
    {
     "data": {
      "text/html": [
       "<div>\n",
       "<style scoped>\n",
       "    .dataframe tbody tr th:only-of-type {\n",
       "        vertical-align: middle;\n",
       "    }\n",
       "\n",
       "    .dataframe tbody tr th {\n",
       "        vertical-align: top;\n",
       "    }\n",
       "\n",
       "    .dataframe thead th {\n",
       "        text-align: right;\n",
       "    }\n",
       "</style>\n",
       "<table border=\"1\" class=\"dataframe\">\n",
       "  <thead>\n",
       "    <tr style=\"text-align: right;\">\n",
       "      <th></th>\n",
       "      <th>win</th>\n",
       "    </tr>\n",
       "    <tr>\n",
       "      <th>away_team</th>\n",
       "      <th></th>\n",
       "    </tr>\n",
       "  </thead>\n",
       "  <tbody>\n",
       "    <tr>\n",
       "      <th>Chicago Cubs</th>\n",
       "      <td>103</td>\n",
       "    </tr>\n",
       "  </tbody>\n",
       "</table>\n",
       "</div>"
      ],
      "text/plain": [
       "              win\n",
       "away_team        \n",
       "Chicago Cubs  103"
      ]
     },
     "execution_count": 69,
     "metadata": {},
     "output_type": "execute_result"
    }
   ],
   "source": [
    "res_table = away_team_wins.add(home_team_wins)\n",
    "res_table.sort_values( by= \"win\", ascending=False ).head(1)"
   ]
  },
  {
   "cell_type": "markdown",
   "metadata": {},
   "source": [
    "Получаем команду победившую в сезоне наибольшее количество раз Chicago Cubs - 103 победы\n"
   ]
  },
  {
   "cell_type": "markdown",
   "metadata": {
    "pycharm": {
     "name": "#%% md\n"
    }
   },
   "source": [
    "# 15. Какая команда выиграла наибольшее количество домашних матчей в сезоне?"
   ]
  },
  {
   "cell_type": "markdown",
   "metadata": {},
   "source": [
    "Воспользовался уже созданной таблицей с победителями домашних игр, отсортировал по убыванию количества побед и вывел первую строку таблицы.\n",
    "Получаем команду, которая выйграла наибольшее количество домашних матчей Chicago Cubs - 57 побед\n"
   ]
  },
  {
   "cell_type": "code",
   "execution_count": 73,
   "metadata": {
    "pycharm": {
     "name": "#%%\n"
    }
   },
   "outputs": [
    {
     "data": {
      "text/html": [
       "<div>\n",
       "<style scoped>\n",
       "    .dataframe tbody tr th:only-of-type {\n",
       "        vertical-align: middle;\n",
       "    }\n",
       "\n",
       "    .dataframe tbody tr th {\n",
       "        vertical-align: top;\n",
       "    }\n",
       "\n",
       "    .dataframe thead th {\n",
       "        text-align: right;\n",
       "    }\n",
       "</style>\n",
       "<table border=\"1\" class=\"dataframe\">\n",
       "  <thead>\n",
       "    <tr style=\"text-align: right;\">\n",
       "      <th></th>\n",
       "      <th>win</th>\n",
       "    </tr>\n",
       "    <tr>\n",
       "      <th>home_team</th>\n",
       "      <th></th>\n",
       "    </tr>\n",
       "  </thead>\n",
       "  <tbody>\n",
       "    <tr>\n",
       "      <th>Chicago Cubs</th>\n",
       "      <td>57</td>\n",
       "    </tr>\n",
       "  </tbody>\n",
       "</table>\n",
       "</div>"
      ],
      "text/plain": [
       "              win\n",
       "home_team        \n",
       "Chicago Cubs   57"
      ]
     },
     "execution_count": 73,
     "metadata": {},
     "output_type": "execute_result"
    }
   ],
   "source": [
    "home_team_wins.sort_values( by= \"win\", ascending=False ).head(1)"
   ]
  },
  {
   "cell_type": "markdown",
   "metadata": {
    "pycharm": {
     "name": "#%% md\n"
    }
   },
   "source": [
    "# 16. Какая команда выиграла наибольшее количество гостевых матчей в сезоне?"
   ]
  },
  {
   "cell_type": "markdown",
   "metadata": {},
   "source": [
    "Аналогично с предыдущим заданием, только с гостевыми командами. St. Louis Cardinals - 48 побед в гостевых матчах.\n"
   ]
  },
  {
   "cell_type": "code",
   "execution_count": 76,
   "metadata": {
    "pycharm": {
     "name": "#%%\n"
    }
   },
   "outputs": [
    {
     "data": {
      "text/html": [
       "<div>\n",
       "<style scoped>\n",
       "    .dataframe tbody tr th:only-of-type {\n",
       "        vertical-align: middle;\n",
       "    }\n",
       "\n",
       "    .dataframe tbody tr th {\n",
       "        vertical-align: top;\n",
       "    }\n",
       "\n",
       "    .dataframe thead th {\n",
       "        text-align: right;\n",
       "    }\n",
       "</style>\n",
       "<table border=\"1\" class=\"dataframe\">\n",
       "  <thead>\n",
       "    <tr style=\"text-align: right;\">\n",
       "      <th></th>\n",
       "      <th>win</th>\n",
       "    </tr>\n",
       "    <tr>\n",
       "      <th>away_team</th>\n",
       "      <th></th>\n",
       "    </tr>\n",
       "  </thead>\n",
       "  <tbody>\n",
       "    <tr>\n",
       "      <th>St. Louis Cardinals</th>\n",
       "      <td>48</td>\n",
       "    </tr>\n",
       "  </tbody>\n",
       "</table>\n",
       "</div>"
      ],
      "text/plain": [
       "                     win\n",
       "away_team               \n",
       "St. Louis Cardinals   48"
      ]
     },
     "execution_count": 76,
     "metadata": {},
     "output_type": "execute_result"
    }
   ],
   "source": [
    "away_team_wins.sort_values( by= \"win\", ascending=False ).head(1)"
   ]
  },
  {
   "cell_type": "markdown",
   "metadata": {
    "pycharm": {
     "name": "#%% md\n"
    }
   },
   "source": [
    "# 17. Какая команда проиграла наибольшее количество матчей в сезоне?"
   ]
  },
  {
   "cell_type": "markdown",
   "metadata": {},
   "source": [
    "Здесь идём от обратного, то есть команда с наименьшим количеством побед это та, которая проигрывала больше всех, с учётом, что все команды сыграли почти одинаковое количество игр (общая разница в одну игру). Команда проигравшая больше всех тачей в сезоне Minnesota Twins"
   ]
  },
  {
   "cell_type": "code",
   "execution_count": 79,
   "metadata": {
    "pycharm": {
     "name": "#%%\n"
    }
   },
   "outputs": [
    {
     "data": {
      "text/html": [
       "<div>\n",
       "<style scoped>\n",
       "    .dataframe tbody tr th:only-of-type {\n",
       "        vertical-align: middle;\n",
       "    }\n",
       "\n",
       "    .dataframe tbody tr th {\n",
       "        vertical-align: top;\n",
       "    }\n",
       "\n",
       "    .dataframe thead th {\n",
       "        text-align: right;\n",
       "    }\n",
       "</style>\n",
       "<table border=\"1\" class=\"dataframe\">\n",
       "  <thead>\n",
       "    <tr style=\"text-align: right;\">\n",
       "      <th></th>\n",
       "      <th>win</th>\n",
       "    </tr>\n",
       "    <tr>\n",
       "      <th>away_team</th>\n",
       "      <th></th>\n",
       "    </tr>\n",
       "  </thead>\n",
       "  <tbody>\n",
       "    <tr>\n",
       "      <th>Minnesota Twins</th>\n",
       "      <td>59</td>\n",
       "    </tr>\n",
       "  </tbody>\n",
       "</table>\n",
       "</div>"
      ],
      "text/plain": [
       "                 win\n",
       "away_team           \n",
       "Minnesota Twins   59"
      ]
     },
     "execution_count": 79,
     "metadata": {},
     "output_type": "execute_result"
    }
   ],
   "source": [
    "res_table.sort_values( by= \"win\", ascending=False ).tail(1)"
   ]
  },
  {
   "cell_type": "code",
   "execution_count": 80,
   "metadata": {},
   "outputs": [
    {
     "data": {
      "text/plain": [
       "103"
      ]
     },
     "execution_count": 80,
     "metadata": {},
     "output_type": "execute_result"
    }
   ],
   "source": [
    "amount_of_games['Minnesota Twins'] - res_table.sort_values( by= \"win\", ascending=False )['win']['Minnesota Twins']"
   ]
  },
  {
   "cell_type": "markdown",
   "metadata": {},
   "source": [
    "Команда Minnesota Twins проиграла 103 матча"
   ]
  },
  {
   "cell_type": "markdown",
   "metadata": {
    "pycharm": {
     "name": "#%% md\n"
    }
   },
   "source": [
    "# 18. Зависит ли выигрыш от количества посетителей матча? (https://pandas.pydata.org/docs/reference/api/pandas.DataFrame.cov.html)"
   ]
  },
  {
   "cell_type": "markdown",
   "metadata": {},
   "source": [
    "В данном вопросе я исследовал 2 колонки: количество посетителей ('attendance') и выгранные домашней командой матчи ('h_t_win')"
   ]
  },
  {
   "cell_type": "code",
   "execution_count": 84,
   "metadata": {
    "pycharm": {
     "name": "#%%\n"
    }
   },
   "outputs": [
    {
     "data": {
      "text/html": [
       "<div>\n",
       "<style scoped>\n",
       "    .dataframe tbody tr th:only-of-type {\n",
       "        vertical-align: middle;\n",
       "    }\n",
       "\n",
       "    .dataframe tbody tr th {\n",
       "        vertical-align: top;\n",
       "    }\n",
       "\n",
       "    .dataframe thead th {\n",
       "        text-align: right;\n",
       "    }\n",
       "</style>\n",
       "<table border=\"1\" class=\"dataframe\">\n",
       "  <thead>\n",
       "    <tr style=\"text-align: right;\">\n",
       "      <th></th>\n",
       "      <th>attendance</th>\n",
       "      <th>h_t_win</th>\n",
       "    </tr>\n",
       "  </thead>\n",
       "  <tbody>\n",
       "    <tr>\n",
       "      <th>attendance</th>\n",
       "      <td>9.740607e+07</td>\n",
       "      <td>224.736752</td>\n",
       "    </tr>\n",
       "    <tr>\n",
       "      <th>h_t_win</th>\n",
       "      <td>2.247368e+02</td>\n",
       "      <td>0.249235</td>\n",
       "    </tr>\n",
       "  </tbody>\n",
       "</table>\n",
       "</div>"
      ],
      "text/plain": [
       "              attendance     h_t_win\n",
       "attendance  9.740607e+07  224.736752\n",
       "h_t_win     2.247368e+02    0.249235"
      ]
     },
     "execution_count": 84,
     "metadata": {},
     "output_type": "execute_result"
    }
   ],
   "source": [
    "attendance_and_h_t_win = data[['attendance', 'h_t_win']]\n",
    "attendance_and_h_t_win.cov()"
   ]
  },
  {
   "cell_type": "code",
   "execution_count": 85,
   "metadata": {},
   "outputs": [
    {
     "data": {
      "text/plain": [
       "30604.0"
      ]
     },
     "execution_count": 85,
     "metadata": {},
     "output_type": "execute_result"
    }
   ],
   "source": [
    "data['attendance'].median()"
   ]
  },
  {
   "cell_type": "markdown",
   "metadata": {},
   "source": [
    "Исходя из полученной матрицы ковариации можно сделать вывод о положительной линейной зависимости, то есть диагональ соотношений больше 0, что говорит о положительной линейной зависимости, но в то же время, на фоне общего количества посетителей (медианное значение которых 30604), изменение в 224 посетителя можно считать как стремящейся к нулю, значит положительную тенденцию можно рассматривать как статистическую погрешность"
   ]
  },
  {
   "cell_type": "markdown",
   "metadata": {
    "pycharm": {
     "name": "#%% md\n"
    }
   },
   "source": [
    "# 19. Правда ли что большинство проигрышных домашних матчей приходятся на Субботу и Воскресенье?"
   ]
  },
  {
   "cell_type": "markdown",
   "metadata": {},
   "source": [
    "Здесь я создал функцию, которая разбивает дни недели на рабочие и выходные, полученные данные мы передаём в новую колонку 'weekday', для проверки выведем первые 5 записей и сверим, что функция работает корректно. "
   ]
  },
  {
   "cell_type": "code",
   "execution_count": 89,
   "metadata": {
    "pycharm": {
     "name": "#%%\n"
    }
   },
   "outputs": [
    {
     "data": {
      "text/html": [
       "<div>\n",
       "<style scoped>\n",
       "    .dataframe tbody tr th:only-of-type {\n",
       "        vertical-align: middle;\n",
       "    }\n",
       "\n",
       "    .dataframe tbody tr th {\n",
       "        vertical-align: top;\n",
       "    }\n",
       "\n",
       "    .dataframe thead th {\n",
       "        text-align: right;\n",
       "    }\n",
       "</style>\n",
       "<table border=\"1\" class=\"dataframe\">\n",
       "  <thead>\n",
       "    <tr style=\"text-align: right;\">\n",
       "      <th></th>\n",
       "      <th>attendance</th>\n",
       "      <th>away_team</th>\n",
       "      <th>a_t_errors</th>\n",
       "      <th>a_t_hits</th>\n",
       "      <th>a_t_runs</th>\n",
       "      <th>date</th>\n",
       "      <th>field_type</th>\n",
       "      <th>game_type</th>\n",
       "      <th>home_team</th>\n",
       "      <th>h_t_errors</th>\n",
       "      <th>h_t_hits</th>\n",
       "      <th>h_t_runs</th>\n",
       "      <th>start_time</th>\n",
       "      <th>venue</th>\n",
       "      <th>day_of_week</th>\n",
       "      <th>temp_C</th>\n",
       "      <th>wind_speed</th>\n",
       "      <th>wind_direction</th>\n",
       "      <th>sky</th>\n",
       "      <th>total_runs</th>\n",
       "      <th>game_hours_dec</th>\n",
       "      <th>season</th>\n",
       "      <th>h_t_win</th>\n",
       "      <th>h_t_loss</th>\n",
       "      <th>h_t_outcome</th>\n",
       "      <th>total_hits</th>\n",
       "      <th>weekday</th>\n",
       "    </tr>\n",
       "  </thead>\n",
       "  <tbody>\n",
       "    <tr>\n",
       "      <th>0</th>\n",
       "      <td>40030.0</td>\n",
       "      <td>New York Mets</td>\n",
       "      <td>1</td>\n",
       "      <td>7</td>\n",
       "      <td>3</td>\n",
       "      <td>2016-04-03</td>\n",
       "      <td>on grass</td>\n",
       "      <td>Night Game</td>\n",
       "      <td>Kansas City Royals</td>\n",
       "      <td>0</td>\n",
       "      <td>9</td>\n",
       "      <td>4</td>\n",
       "      <td>7:38 p.m. Local</td>\n",
       "      <td>Kauffman Stadium</td>\n",
       "      <td>Sunday</td>\n",
       "      <td>23.3</td>\n",
       "      <td>14.0</td>\n",
       "      <td>from Right to Left</td>\n",
       "      <td>Sunny</td>\n",
       "      <td>7</td>\n",
       "      <td>3.216667</td>\n",
       "      <td>regular season</td>\n",
       "      <td>1</td>\n",
       "      <td>0</td>\n",
       "      <td>Win</td>\n",
       "      <td>16</td>\n",
       "      <td>weekend</td>\n",
       "    </tr>\n",
       "    <tr>\n",
       "      <th>1</th>\n",
       "      <td>21621.0</td>\n",
       "      <td>Philadelphia Phillies</td>\n",
       "      <td>0</td>\n",
       "      <td>5</td>\n",
       "      <td>2</td>\n",
       "      <td>2016-04-06</td>\n",
       "      <td>on grass</td>\n",
       "      <td>Night Game</td>\n",
       "      <td>Cincinnati Reds</td>\n",
       "      <td>0</td>\n",
       "      <td>8</td>\n",
       "      <td>3</td>\n",
       "      <td>7:11 p.m. Local</td>\n",
       "      <td>Great American Ball Park</td>\n",
       "      <td>Wednesday</td>\n",
       "      <td>12.8</td>\n",
       "      <td>24.0</td>\n",
       "      <td>from Right to Left</td>\n",
       "      <td>Overcast</td>\n",
       "      <td>5</td>\n",
       "      <td>2.383333</td>\n",
       "      <td>regular season</td>\n",
       "      <td>1</td>\n",
       "      <td>0</td>\n",
       "      <td>Win</td>\n",
       "      <td>13</td>\n",
       "      <td>workday</td>\n",
       "    </tr>\n",
       "    <tr>\n",
       "      <th>2</th>\n",
       "      <td>12622.0</td>\n",
       "      <td>Minnesota Twins</td>\n",
       "      <td>0</td>\n",
       "      <td>5</td>\n",
       "      <td>2</td>\n",
       "      <td>2016-04-06</td>\n",
       "      <td>on grass</td>\n",
       "      <td>Night Game</td>\n",
       "      <td>Baltimore Orioles</td>\n",
       "      <td>0</td>\n",
       "      <td>9</td>\n",
       "      <td>4</td>\n",
       "      <td>7:07 p.m. Local</td>\n",
       "      <td>Oriole Park at Camden Yards</td>\n",
       "      <td>Wednesday</td>\n",
       "      <td>8.9</td>\n",
       "      <td>7.0</td>\n",
       "      <td>out to Leftfield</td>\n",
       "      <td>Unknown</td>\n",
       "      <td>6</td>\n",
       "      <td>3.183333</td>\n",
       "      <td>regular season</td>\n",
       "      <td>1</td>\n",
       "      <td>0</td>\n",
       "      <td>Win</td>\n",
       "      <td>14</td>\n",
       "      <td>workday</td>\n",
       "    </tr>\n",
       "    <tr>\n",
       "      <th>3</th>\n",
       "      <td>18531.0</td>\n",
       "      <td>Washington Nationals</td>\n",
       "      <td>0</td>\n",
       "      <td>8</td>\n",
       "      <td>3</td>\n",
       "      <td>2016-04-06</td>\n",
       "      <td>on grass</td>\n",
       "      <td>Night Game</td>\n",
       "      <td>Atlanta Braves</td>\n",
       "      <td>1</td>\n",
       "      <td>8</td>\n",
       "      <td>1</td>\n",
       "      <td>7:10 p.m. Local</td>\n",
       "      <td>Turner Field</td>\n",
       "      <td>Wednesday</td>\n",
       "      <td>18.3</td>\n",
       "      <td>10.0</td>\n",
       "      <td>from Right to Left</td>\n",
       "      <td>Cloudy</td>\n",
       "      <td>4</td>\n",
       "      <td>2.883333</td>\n",
       "      <td>regular season</td>\n",
       "      <td>0</td>\n",
       "      <td>1</td>\n",
       "      <td>Loss</td>\n",
       "      <td>16</td>\n",
       "      <td>workday</td>\n",
       "    </tr>\n",
       "    <tr>\n",
       "      <th>4</th>\n",
       "      <td>18572.0</td>\n",
       "      <td>Colorado Rockies</td>\n",
       "      <td>1</td>\n",
       "      <td>8</td>\n",
       "      <td>4</td>\n",
       "      <td>2016-04-06</td>\n",
       "      <td>on grass</td>\n",
       "      <td>Day Game</td>\n",
       "      <td>Arizona Diamondbacks</td>\n",
       "      <td>0</td>\n",
       "      <td>8</td>\n",
       "      <td>3</td>\n",
       "      <td>12:40 p.m. Local</td>\n",
       "      <td>Chase Field</td>\n",
       "      <td>Wednesday</td>\n",
       "      <td>25.0</td>\n",
       "      <td>0.0</td>\n",
       "      <td>in unknown direction</td>\n",
       "      <td>In Dome</td>\n",
       "      <td>7</td>\n",
       "      <td>2.650000</td>\n",
       "      <td>regular season</td>\n",
       "      <td>0</td>\n",
       "      <td>1</td>\n",
       "      <td>Loss</td>\n",
       "      <td>16</td>\n",
       "      <td>workday</td>\n",
       "    </tr>\n",
       "  </tbody>\n",
       "</table>\n",
       "</div>"
      ],
      "text/plain": [
       "   attendance              away_team  a_t_errors  a_t_hits  a_t_runs  \\\n",
       "0     40030.0          New York Mets           1         7         3   \n",
       "1     21621.0  Philadelphia Phillies           0         5         2   \n",
       "2     12622.0        Minnesota Twins           0         5         2   \n",
       "3     18531.0   Washington Nationals           0         8         3   \n",
       "4     18572.0       Colorado Rockies           1         8         4   \n",
       "\n",
       "         date field_type   game_type             home_team  h_t_errors  \\\n",
       "0  2016-04-03   on grass  Night Game    Kansas City Royals           0   \n",
       "1  2016-04-06   on grass  Night Game       Cincinnati Reds           0   \n",
       "2  2016-04-06   on grass  Night Game     Baltimore Orioles           0   \n",
       "3  2016-04-06   on grass  Night Game        Atlanta Braves           1   \n",
       "4  2016-04-06   on grass    Day Game  Arizona Diamondbacks           0   \n",
       "\n",
       "   h_t_hits  h_t_runs        start_time                        venue  \\\n",
       "0         9         4   7:38 p.m. Local             Kauffman Stadium   \n",
       "1         8         3   7:11 p.m. Local     Great American Ball Park   \n",
       "2         9         4   7:07 p.m. Local  Oriole Park at Camden Yards   \n",
       "3         8         1   7:10 p.m. Local                 Turner Field   \n",
       "4         8         3  12:40 p.m. Local                  Chase Field   \n",
       "\n",
       "  day_of_week  temp_C  wind_speed         wind_direction       sky  \\\n",
       "0      Sunday    23.3        14.0     from Right to Left     Sunny   \n",
       "1   Wednesday    12.8        24.0     from Right to Left  Overcast   \n",
       "2   Wednesday     8.9         7.0       out to Leftfield   Unknown   \n",
       "3   Wednesday    18.3        10.0     from Right to Left    Cloudy   \n",
       "4   Wednesday    25.0         0.0   in unknown direction   In Dome   \n",
       "\n",
       "   total_runs  game_hours_dec          season  h_t_win  h_t_loss h_t_outcome  \\\n",
       "0           7        3.216667  regular season        1         0         Win   \n",
       "1           5        2.383333  regular season        1         0         Win   \n",
       "2           6        3.183333  regular season        1         0         Win   \n",
       "3           4        2.883333  regular season        0         1        Loss   \n",
       "4           7        2.650000  regular season        0         1        Loss   \n",
       "\n",
       "   total_hits  weekday  \n",
       "0          16  weekend  \n",
       "1          13  workday  \n",
       "2          14  workday  \n",
       "3          16  workday  \n",
       "4          16  workday  "
      ]
     },
     "execution_count": 89,
     "metadata": {},
     "output_type": "execute_result"
    }
   ],
   "source": [
    "def sort_week_days(row):\n",
    "    if row['day_of_week'].lower() in ['saturday', 'sunday',]:\n",
    "        return 'weekend'\n",
    "    else:\n",
    "        return 'workday'\n",
    "\n",
    "data['weekday'] = data.apply(sort_week_days, axis=1)\n",
    "data.head()"
   ]
  },
  {
   "cell_type": "markdown",
   "metadata": {},
   "source": [
    "После через pivot_table выделяем созданную колонку, передаём как значение количество проигрышей домашних команд и количество побед домашних команд. Объеденяем полученные таблицы в одну при помощи метода merge и передаём объеденяющий ключ on=[\"weekday\"], считаем общее количество игр и процент побед от общего количества."
   ]
  },
  {
   "cell_type": "code",
   "execution_count": 91,
   "metadata": {},
   "outputs": [],
   "source": [
    "weekday_comparison = pd.pivot_table( data, index = 'weekday', values = 'h_t_loss', aggfunc='sum')\n",
    "weekday_comparison_wins = pd.pivot_table( data, index = 'weekday', values = 'h_t_win', aggfunc='sum')"
   ]
  },
  {
   "cell_type": "code",
   "execution_count": 92,
   "metadata": {},
   "outputs": [
    {
     "data": {
      "text/html": [
       "<div>\n",
       "<style scoped>\n",
       "    .dataframe tbody tr th:only-of-type {\n",
       "        vertical-align: middle;\n",
       "    }\n",
       "\n",
       "    .dataframe tbody tr th {\n",
       "        vertical-align: top;\n",
       "    }\n",
       "\n",
       "    .dataframe thead th {\n",
       "        text-align: right;\n",
       "    }\n",
       "</style>\n",
       "<table border=\"1\" class=\"dataframe\">\n",
       "  <thead>\n",
       "    <tr style=\"text-align: right;\">\n",
       "      <th></th>\n",
       "      <th>h_t_loss</th>\n",
       "      <th>h_t_win</th>\n",
       "      <th>amount_of_games</th>\n",
       "      <th>%_loss</th>\n",
       "      <th>%_wins</th>\n",
       "    </tr>\n",
       "    <tr>\n",
       "      <th>weekday</th>\n",
       "      <th></th>\n",
       "      <th></th>\n",
       "      <th></th>\n",
       "      <th></th>\n",
       "      <th></th>\n",
       "    </tr>\n",
       "  </thead>\n",
       "  <tbody>\n",
       "    <tr>\n",
       "      <th>weekend</th>\n",
       "      <td>365</td>\n",
       "      <td>423</td>\n",
       "      <td>788</td>\n",
       "      <td>46.319797</td>\n",
       "      <td>53.680203</td>\n",
       "    </tr>\n",
       "    <tr>\n",
       "      <th>workday</th>\n",
       "      <td>793</td>\n",
       "      <td>881</td>\n",
       "      <td>1674</td>\n",
       "      <td>47.371565</td>\n",
       "      <td>52.628435</td>\n",
       "    </tr>\n",
       "  </tbody>\n",
       "</table>\n",
       "</div>"
      ],
      "text/plain": [
       "         h_t_loss  h_t_win  amount_of_games     %_loss     %_wins\n",
       "weekday                                                          \n",
       "weekend       365      423              788  46.319797  53.680203\n",
       "workday       793      881             1674  47.371565  52.628435"
      ]
     },
     "execution_count": 92,
     "metadata": {},
     "output_type": "execute_result"
    }
   ],
   "source": [
    "result_table = weekday_comparison.merge(weekday_comparison_wins, on=[\"weekday\"])\n",
    "result_table['amount_of_games'] = result_table['h_t_loss'] + result_table['h_t_win']\n",
    "result_table['%_loss'] = result_table['h_t_loss'] * 100 / result_table['amount_of_games']\n",
    "result_table['%_wins'] = result_table['h_t_win'] * 100 / result_table['amount_of_games']\n",
    "result_table"
   ]
  },
  {
   "cell_type": "markdown",
   "metadata": {},
   "source": [
    "Из приведённой таблицы можно сделать вывод, что процент побед в целом доманшей команды выше, чем у гостевой команды. Но вопрос был про проигрыш домашней команды на выходные дни. Поскольку мы видим, что на выходные процент побед немного увеличивается, а процент проигрышей уменьшается, следовательно ответ НЕТ. "
   ]
  },
  {
   "cell_type": "markdown",
   "metadata": {
    "pycharm": {
     "name": "#%% md\n"
    }
   },
   "source": [
    "# 20. Правда ли что наибольшее количество ранов происходит в холодную погоду? (Холодной погодой считается погода ниже 0 градусов)"
   ]
  },
  {
   "cell_type": "markdown",
   "metadata": {},
   "source": [
    "Создаём маску для отбора игр, при температуре ниже нуля и применяем его через метод loc"
   ]
  },
  {
   "cell_type": "code",
   "execution_count": 96,
   "metadata": {
    "pycharm": {
     "name": "#%%\n"
    }
   },
   "outputs": [
    {
     "data": {
      "text/html": [
       "<div>\n",
       "<style scoped>\n",
       "    .dataframe tbody tr th:only-of-type {\n",
       "        vertical-align: middle;\n",
       "    }\n",
       "\n",
       "    .dataframe tbody tr th {\n",
       "        vertical-align: top;\n",
       "    }\n",
       "\n",
       "    .dataframe thead th {\n",
       "        text-align: right;\n",
       "    }\n",
       "</style>\n",
       "<table border=\"1\" class=\"dataframe\">\n",
       "  <thead>\n",
       "    <tr style=\"text-align: right;\">\n",
       "      <th></th>\n",
       "      <th>attendance</th>\n",
       "      <th>away_team</th>\n",
       "      <th>a_t_errors</th>\n",
       "      <th>a_t_hits</th>\n",
       "      <th>a_t_runs</th>\n",
       "      <th>date</th>\n",
       "      <th>field_type</th>\n",
       "      <th>game_type</th>\n",
       "      <th>home_team</th>\n",
       "      <th>h_t_errors</th>\n",
       "      <th>h_t_hits</th>\n",
       "      <th>h_t_runs</th>\n",
       "      <th>start_time</th>\n",
       "      <th>venue</th>\n",
       "      <th>day_of_week</th>\n",
       "      <th>temp_C</th>\n",
       "      <th>wind_speed</th>\n",
       "      <th>wind_direction</th>\n",
       "      <th>sky</th>\n",
       "      <th>total_runs</th>\n",
       "      <th>game_hours_dec</th>\n",
       "      <th>season</th>\n",
       "      <th>h_t_win</th>\n",
       "      <th>h_t_loss</th>\n",
       "      <th>h_t_outcome</th>\n",
       "      <th>total_hits</th>\n",
       "      <th>weekday</th>\n",
       "    </tr>\n",
       "  </thead>\n",
       "  <tbody>\n",
       "    <tr>\n",
       "      <th>2409</th>\n",
       "      <td>32419.0</td>\n",
       "      <td>New York Yankees</td>\n",
       "      <td>1</td>\n",
       "      <td>13</td>\n",
       "      <td>8</td>\n",
       "      <td>2016-04-09</td>\n",
       "      <td>on grass</td>\n",
       "      <td>Day Game</td>\n",
       "      <td>Detroit Tigers</td>\n",
       "      <td>1</td>\n",
       "      <td>7</td>\n",
       "      <td>4</td>\n",
       "      <td>1:10 p.m. Local</td>\n",
       "      <td>Comerica Park</td>\n",
       "      <td>Saturday</td>\n",
       "      <td>-0.6</td>\n",
       "      <td>18.0</td>\n",
       "      <td>from Left to Right</td>\n",
       "      <td>Cloudy</td>\n",
       "      <td>12</td>\n",
       "      <td>3.333333</td>\n",
       "      <td>regular season</td>\n",
       "      <td>0</td>\n",
       "      <td>1</td>\n",
       "      <td>Loss</td>\n",
       "      <td>20</td>\n",
       "      <td>weekend</td>\n",
       "    </tr>\n",
       "  </tbody>\n",
       "</table>\n",
       "</div>"
      ],
      "text/plain": [
       "      attendance         away_team  a_t_errors  a_t_hits  a_t_runs  \\\n",
       "2409     32419.0  New York Yankees           1        13         8   \n",
       "\n",
       "            date field_type game_type       home_team  h_t_errors  h_t_hits  \\\n",
       "2409  2016-04-09   on grass  Day Game  Detroit Tigers           1         7   \n",
       "\n",
       "      h_t_runs       start_time          venue day_of_week  temp_C  \\\n",
       "2409         4  1:10 p.m. Local  Comerica Park    Saturday    -0.6   \n",
       "\n",
       "      wind_speed       wind_direction     sky  total_runs  game_hours_dec  \\\n",
       "2409        18.0   from Left to Right  Cloudy          12        3.333333   \n",
       "\n",
       "              season  h_t_win  h_t_loss h_t_outcome  total_hits  weekday  \n",
       "2409  regular season        0         1        Loss          20  weekend  "
      ]
     },
     "execution_count": 96,
     "metadata": {},
     "output_type": "execute_result"
    }
   ],
   "source": [
    "mask = (data.temp_C < 0)\n",
    "data.loc[ mask ]"
   ]
  },
  {
   "cell_type": "code",
   "execution_count": 97,
   "metadata": {},
   "outputs": [
    {
     "data": {
      "text/plain": [
       "2409    12\n",
       "Name: total_runs, dtype: int64"
      ]
     },
     "execution_count": 97,
     "metadata": {},
     "output_type": "execute_result"
    }
   ],
   "source": [
    "data.loc[ mask ]['total_runs']"
   ]
  },
  {
   "cell_type": "code",
   "execution_count": 98,
   "metadata": {},
   "outputs": [
    {
     "data": {
      "text/plain": [
       "8.0"
      ]
     },
     "execution_count": 98,
     "metadata": {},
     "output_type": "execute_result"
    }
   ],
   "source": [
    "data['total_runs'].median()"
   ]
  },
  {
   "cell_type": "markdown",
   "metadata": {},
   "source": [
    "Согласно пересчёту Фаренгейтов в градусы Цельсия, только одна игра проходила при температуре ниже 0 градусов, за которую было сделано всего 12 ранов. Это больше чем медианное значение, но мы не можем утверждать что количество ранов больше в холодную погоду основываясь только на одной игре, в то время как игр, проведённых при температуре больше нуля - 2462. В данном случае можно сказать только о недостатке данных, для проведения такого рода исследования."
   ]
  }
 ],
 "metadata": {
  "kernelspec": {
   "display_name": "Python 3 (ipykernel)",
   "language": "python",
   "name": "python3"
  },
  "language_info": {
   "codemirror_mode": {
    "name": "ipython",
    "version": 3
   },
   "file_extension": ".py",
   "mimetype": "text/x-python",
   "name": "python",
   "nbconvert_exporter": "python",
   "pygments_lexer": "ipython3",
   "version": "3.12.4"
  }
 },
 "nbformat": 4,
 "nbformat_minor": 4
}
